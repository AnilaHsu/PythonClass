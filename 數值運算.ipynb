{
 "cells": [
  {
   "cell_type": "code",
   "execution_count": null,
   "id": "8b12fe32",
   "metadata": {},
   "outputs": [],
   "source": [
    "# 整數的運算"
   ]
  },
  {
   "cell_type": "markdown",
   "id": "67497819",
   "metadata": {},
   "source": [
    "## 常見的運算符號\n",
    "- 加法: +\n",
    "- 減法: -\n",
    "- 乘法: *\n",
    "- 除法: /\n",
    "- 除法(取整數): //\n",
    "- 除法(取餘數): %\n",
    "- 次方: **"
   ]
  },
  {
   "cell_type": "code",
   "execution_count": null,
   "id": "598c3872",
   "metadata": {},
   "outputs": [],
   "source": [
    "# 算術運算子\n",
    "\n",
    "print(6+5)\n",
    "print(10-5)\n",
    "print(3*5)\n",
    "print(20/5)\n",
    "print(13//5)\n",
    "print(6%5)\n",
    "print(2**5)"
   ]
  },
  {
   "cell_type": "code",
   "execution_count": null,
   "id": "084596e8",
   "metadata": {},
   "outputs": [],
   "source": [
    "# 先乘除後加減\n",
    "print(3+5*2)"
   ]
  },
  {
   "cell_type": "code",
   "execution_count": null,
   "id": "0da25909",
   "metadata": {},
   "outputs": [],
   "source": [
    "# Ｑ：計算 a 和 b 加、減、乘、除的結果並印出\n",
    "\n",
    "a = 6\n",
    "b = 2"
   ]
  },
  {
   "cell_type": "code",
   "execution_count": null,
   "id": "d2958a90",
   "metadata": {},
   "outputs": [],
   "source": [
    "# Ｑ：計算 a 和 b 整數除法並存入變數 c\n",
    "\n",
    "a = 6\n",
    "b = 4"
   ]
  },
  {
   "cell_type": "code",
   "execution_count": null,
   "id": "fd9bb652",
   "metadata": {},
   "outputs": [],
   "source": [
    "# 型態轉換\n",
    "## 「小數字串」無法直接轉 int，需先轉 float 再轉 int\n",
    "\n",
    "print(float('3.3'))\n",
    "print(int('8'))\n",
    "print(float('3'))\n",
    "\n",
    "print(int(4.8))\n",
    "print(float(6))\n",
    "\n",
    "print(3)"
   ]
  },
  {
   "cell_type": "code",
   "execution_count": null,
   "id": "caec3209",
   "metadata": {},
   "outputs": [],
   "source": [
    "# Q：將「x」與「個小矮人」相加\n",
    "x = 11\n",
    "print()"
   ]
  },
  {
   "cell_type": "code",
   "execution_count": null,
   "id": "5dcfbf4a",
   "metadata": {},
   "outputs": [],
   "source": []
  },
  {
   "cell_type": "markdown",
   "id": "ec9233fb",
   "metadata": {},
   "source": [
    "## 使用 +=、-= 運算子\n",
    "- 將值重新運算後重指派給自己\n",
    "- 兩符號之間必須相鄰 "
   ]
  },
  {
   "cell_type": "code",
   "execution_count": null,
   "id": "af7650b6",
   "metadata": {},
   "outputs": [],
   "source": [
    "a = 10\n",
    "print(a)"
   ]
  },
  {
   "cell_type": "code",
   "execution_count": null,
   "id": "08ddfc52",
   "metadata": {},
   "outputs": [],
   "source": [
    "a = 10\n",
    "a = a + 1 \n",
    "print(a)"
   ]
  },
  {
   "cell_type": "code",
   "execution_count": null,
   "id": "49a325cd",
   "metadata": {},
   "outputs": [],
   "source": [
    "a = 10\n",
    "a += 5\n",
    "print(a)"
   ]
  },
  {
   "cell_type": "code",
   "execution_count": null,
   "id": "652a83f3",
   "metadata": {},
   "outputs": [],
   "source": [
    "a -= 6\n",
    "print(a)"
   ]
  },
  {
   "cell_type": "code",
   "execution_count": null,
   "id": "d29ae3f3",
   "metadata": {},
   "outputs": [],
   "source": [
    "# Q：用 -= 計算 b 減 2\n",
    "\n",
    "b = 8"
   ]
  },
  {
   "cell_type": "markdown",
   "id": "29fdc841",
   "metadata": {},
   "source": [
    "## 計算題\n",
    "1. 465332 * 8652 + 123443 = ?\n",
    "2. (211234426 - 345435) * 7632 = ? "
   ]
  },
  {
   "cell_type": "code",
   "execution_count": null,
   "id": "c816ce89",
   "metadata": {},
   "outputs": [],
   "source": []
  },
  {
   "cell_type": "markdown",
   "id": "f50ec9e2",
   "metadata": {},
   "source": [
    "## 計算 BMI\n",
    "#### BMI = 體重(公斤) / 身高的平方(單位：公尺)"
   ]
  },
  {
   "cell_type": "code",
   "execution_count": null,
   "id": "1f0d2763",
   "metadata": {},
   "outputs": [],
   "source": []
  },
  {
   "cell_type": "markdown",
   "id": "04b732b4",
   "metadata": {},
   "source": [
    "# 數值的方法\n",
    "- 取最大值: max()\n",
    "- 取最小值: min()\n",
    "- 取絕對值: abs()\n",
    "- 次方: math.pow(x,y)\n",
    "    - x 為數值，y 為次方數\n",
    "- 次方:numpy.power(x,y)\n",
    "    - x 為數值，y 為次方數\n",
    "- 平方: spure()\n",
    "- 四捨五入: round(x,y)\n",
    "    - x 為數值，y 四捨五入的位數\n",
    "- 無條件捨去: floor(x,y)\n",
    "    - x 為數值，y 無條捨去的位數\n",
    "- 無條件進位: ceil()\n",
    "    - x 為數值，y 無條進位的位數\n",
    "- 平方根:sqrt()"
   ]
  },
  {
   "cell_type": "code",
   "execution_count": null,
   "id": "9879fe3d",
   "metadata": {},
   "outputs": [],
   "source": [
    "print(max(15,32,41,52,60))\n",
    "print(min(23,43,54,22,56))"
   ]
  },
  {
   "cell_type": "code",
   "execution_count": null,
   "id": "aae0a103",
   "metadata": {},
   "outputs": [],
   "source": [
    "c = -5\n",
    "print(abs(c))\n",
    "print(pow(c,2))"
   ]
  },
  {
   "cell_type": "code",
   "execution_count": null,
   "id": "55955291",
   "metadata": {},
   "outputs": [],
   "source": [
    "from math import *\n",
    "\n",
    "print(round(4.468))\n",
    "print(floor(4.94))\n",
    "print(ceil(5.74))\n",
    "print(sqrt(64))"
   ]
  },
  {
   "cell_type": "code",
   "execution_count": null,
   "id": "3d11cd8d",
   "metadata": {},
   "outputs": [],
   "source": [
    "# Q：將 32.6245 四捨六入五平分至小數第三位\n",
    "\n",
    "print(round(32.6243,3))\n",
    "\n",
    "print(round(32.6246,3))\n",
    "\n",
    "print(round(32.6245,3))\n",
    "\n",
    "print(round(32.62451,3))"
   ]
  },
  {
   "cell_type": "markdown",
   "id": "bc14d8eb",
   "metadata": {},
   "source": [
    "### why round(32.6245,3) = 32.624\n",
    "- 電腦是以二進制的方式儲存數字\n",
    "- 四捨五入是基於十進制的，在二進制無法精確表示的時候是會有誤差的。"
   ]
  },
  {
   "cell_type": "code",
   "execution_count": null,
   "id": "27ff422f",
   "metadata": {
    "scrolled": false
   },
   "outputs": [],
   "source": [
    "print(format(32.6245, '.50f'))\n",
    "print(round(32.6245,3))\n",
    "print()\n",
    "print(format(32.62451, '.50f'))\n",
    "print(round(32.62451,3))"
   ]
  },
  {
   "cell_type": "code",
   "execution_count": null,
   "id": "5f922e08",
   "metadata": {},
   "outputs": [],
   "source": [
    "print(round(3.14,1))\n",
    "print(round(3.15,1))\n",
    "print(round(3.16,1))\n",
    "print()\n",
    "print(round(4.14,1))\n",
    "print(round(4.15,1))\n",
    "print(round(4.16,1))\n"
   ]
  },
  {
   "cell_type": "code",
   "execution_count": null,
   "id": "17f68e20",
   "metadata": {},
   "outputs": [],
   "source": [
    "print(format(3.14,'.50f'))\n",
    "print(format(3.15,'.50f'))\n",
    "print(format(3.16,'.50f'))\n",
    "print()\n",
    "print(format(4.14,'.50f'))\n",
    "print(format(4.15,'.50f'))\n",
    "print(format(4.16,'.50f'))"
   ]
  },
  {
   "cell_type": "code",
   "execution_count": null,
   "id": "451b499e",
   "metadata": {},
   "outputs": [],
   "source": [
    "# 遇到整數時,Python會去判斷進位到最近的偶數\n",
    "print(round(6.4))\n",
    "print(round(6.5))\n",
    "print(round(6.6))\n",
    "print()\n",
    "print(round(5.4))\n",
    "print(round(5.5))\n",
    "print(round(5.6))"
   ]
  },
  {
   "cell_type": "code",
   "execution_count": null,
   "id": "7ca714ad",
   "metadata": {},
   "outputs": [],
   "source": [
    "print(format(6.4,'.50f'))\n",
    "print(format(6.5,'.50f'))\n",
    "print(format(6.6,'.50f'))\n",
    "print()\n",
    "print(format(5.4,'.50f'))\n",
    "print(format(5.5,'.50f'))\n",
    "print(format(5.6,'.50f'))"
   ]
  },
  {
   "cell_type": "code",
   "execution_count": null,
   "id": "07394d37",
   "metadata": {},
   "outputs": [],
   "source": [
    "# 解決方法\n",
    "import numpy as np\n",
    "\n",
    "print(round(3.15,1))\n",
    "print(np.round(3.15, 1))\n",
    "\n",
    "print(round(4.15,1))\n",
    "print(np.round(4.15, 1))\n",
    "\n"
   ]
  },
  {
   "cell_type": "code",
   "execution_count": null,
   "id": "413c4f78",
   "metadata": {},
   "outputs": [],
   "source": [
    "# 數值 format()\n",
    "print(\"{}\".format(3.1415926))\n",
    "print(\"{:.2f}\".format(3.1415926))\n",
    "print(format(3.1415926,'.2f'))"
   ]
  },
  {
   "cell_type": "code",
   "execution_count": null,
   "id": "2099ee55",
   "metadata": {},
   "outputs": [],
   "source": [
    "## 科學表示方式:浮點數\n",
    "## e 表示 10 的次方\n",
    "print(1.5e2)"
   ]
  },
  {
   "cell_type": "code",
   "execution_count": null,
   "id": "f4cb2ba2",
   "metadata": {},
   "outputs": [],
   "source": []
  },
  {
   "cell_type": "code",
   "execution_count": null,
   "id": "d9480ca3",
   "metadata": {},
   "outputs": [],
   "source": []
  }
 ],
 "metadata": {
  "kernelspec": {
   "display_name": "Python 3 (ipykernel)",
   "language": "python",
   "name": "python3"
  },
  "language_info": {
   "codemirror_mode": {
    "name": "ipython",
    "version": 3
   },
   "file_extension": ".py",
   "mimetype": "text/x-python",
   "name": "python",
   "nbconvert_exporter": "python",
   "pygments_lexer": "ipython3",
   "version": "3.9.5"
  }
 },
 "nbformat": 4,
 "nbformat_minor": 5
}
