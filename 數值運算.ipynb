{
 "cells": [
  {
   "cell_type": "code",
   "execution_count": null,
   "id": "8b12fe32",
   "metadata": {},
   "outputs": [],
   "source": [
    "# 整數的運算"
   ]
  },
  {
   "cell_type": "markdown",
   "id": "d2b9e1e0",
   "metadata": {},
   "source": [
    "## 常見的運算符號\n",
    "- 加法: +\n",
    "- 減法: -\n",
    "- 乘法: *\n",
    "- 除法: /\n",
    "- 除法(取整數): //\n",
    "- 除法(取餘數): %\n",
    "- 次方: **"
   ]
  },
  {
   "cell_type": "code",
   "execution_count": null,
   "id": "1da273b9",
   "metadata": {},
   "outputs": [],
   "source": [
    "# 算術運算子\n",
    "\n",
    "print(6+5)\n",
    "print(10-5)\n",
    "print(3*5)\n",
    "print(20/5)\n",
    "print(13//5)\n",
    "print(6%5)\n",
    "print(2**5)"
   ]
  },
  {
   "cell_type": "code",
   "execution_count": null,
   "id": "fb44117f",
   "metadata": {},
   "outputs": [],
   "source": [
    "# 先乘除後加減\n",
    "print(3+5*2)"
   ]
  },
  {
   "cell_type": "code",
   "execution_count": null,
   "id": "0da25909",
   "metadata": {},
   "outputs": [],
   "source": [
    "# Ｑ：計算 a 和 b 加、減、乘、除的結果並印出\n",
    "\n",
    "a = 6\n",
    "b = 2"
   ]
  },
  {
   "cell_type": "code",
   "execution_count": null,
   "id": "1e875610",
   "metadata": {},
   "outputs": [],
   "source": [
    "# Ｑ：計算 a 和 b 整數除法並存入變數 c\n",
    "\n",
    "a = 6\n",
    "b = 4"
   ]
  },
  {
   "cell_type": "code",
   "execution_count": null,
   "id": "11b6bace",
   "metadata": {},
   "outputs": [],
   "source": []
  },
  {
   "cell_type": "code",
   "execution_count": null,
   "id": "fd395bc1",
   "metadata": {},
   "outputs": [],
   "source": [
    "# 將數值轉成字串\n",
    "number = 9 \n",
    "print(str(x))"
   ]
  },
  {
   "cell_type": "code",
   "execution_count": 6,
   "id": "ed1ebde3",
   "metadata": {},
   "outputs": [],
   "source": [
    "# 字串相加\n",
    "# Q：使用變數 x 印出 11 個小矮人 \n",
    "\n",
    "x = 11"
   ]
  },
  {
   "cell_type": "markdown",
   "id": "3b85785b",
   "metadata": {},
   "source": [
    "## 使用 +=、-= 運算子\n",
    "- 將值重新運算後重指派給自己\n",
    "- 兩符號之間必須相鄰 "
   ]
  },
  {
   "cell_type": "code",
   "execution_count": 1,
   "id": "af7650b6",
   "metadata": {},
   "outputs": [
    {
     "name": "stdout",
     "output_type": "stream",
     "text": [
      "10\n",
      "15\n",
      "9\n"
     ]
    }
   ],
   "source": [
    "a = 10\n",
    "print(a)"
   ]
  },
  {
   "cell_type": "code",
   "execution_count": null,
   "id": "4286448a",
   "metadata": {},
   "outputs": [],
   "source": [
    "a = 10\n",
    "a = a + 1 \n",
    "print(a)"
   ]
  },
  {
   "cell_type": "code",
   "execution_count": null,
   "id": "68181e45",
   "metadata": {},
   "outputs": [],
   "source": [
    "a = 10\n",
    "a += 5\n",
    "print(a)"
   ]
  },
  {
   "cell_type": "code",
   "execution_count": null,
   "id": "ad8f0566",
   "metadata": {},
   "outputs": [],
   "source": [
    "a -= 6\n",
    "print(a)"
   ]
  },
  {
   "cell_type": "code",
   "execution_count": null,
   "id": "638a0119",
   "metadata": {},
   "outputs": [],
   "source": [
    "# Q：用 -= 計算 b 減 2\n",
    "\n",
    "b = 8"
   ]
  },
  {
   "cell_type": "markdown",
   "id": "29fdc841",
   "metadata": {},
   "source": [
    "## 計算題\n",
    "1. 465332 * 8652 + 123443 = ?\n",
    "2. (211234426 - 345435) * 7632 = ? "
   ]
  },
  {
   "cell_type": "code",
   "execution_count": null,
   "id": "c816ce89",
   "metadata": {},
   "outputs": [],
   "source": []
  },
  {
   "cell_type": "markdown",
   "id": "f50ec9e2",
   "metadata": {},
   "source": [
    "## 計算 BMI\n",
    "#### BMI = 體重(公斤) / 身高的平方(單位：公尺)"
   ]
  },
  {
   "cell_type": "code",
   "execution_count": null,
   "id": "1f0d2763",
   "metadata": {},
   "outputs": [],
   "source": []
  },
  {
   "cell_type": "markdown",
   "id": "04b732b4",
   "metadata": {},
   "source": [
    "# 數值的方法\n",
    "- 取最大值: max()\n",
    "- 取最小值: min()\n",
    "- 取絕對值: abs()\n",
    "- 平方: pow()\n",
    "- 四捨五入: round()\n",
    "- 無條件捨去: floor()\n",
    "- 無條件進位: ceil()\n",
    "- 平方根:sqrt()"
   ]
  },
  {
   "cell_type": "code",
   "execution_count": 7,
   "id": "bce3d6f2",
   "metadata": {},
   "outputs": [
    {
     "name": "stdout",
     "output_type": "stream",
     "text": [
      "60\n",
      "22\n"
     ]
    }
   ],
   "source": [
    "print(max(15,32,41,52,60))\n",
    "print(min(23,43,54,22,56))"
   ]
  },
  {
   "cell_type": "code",
   "execution_count": 2,
   "id": "aae0a103",
   "metadata": {},
   "outputs": [
    {
     "name": "stdout",
     "output_type": "stream",
     "text": [
      "5\n",
      "25\n"
     ]
    }
   ],
   "source": [
    "c = -5\n",
    "print(abs(c))\n",
    "print(pow(c,2))"
   ]
  },
  {
   "cell_type": "code",
   "execution_count": 4,
   "id": "55955291",
   "metadata": {},
   "outputs": [
    {
     "name": "stdout",
     "output_type": "stream",
     "text": [
      "4\n",
      "4\n",
      "6\n",
      "8.0\n"
     ]
    }
   ],
   "source": [
    "from math import *\n",
    "\n",
    "print(round(4.468))\n",
    "print(floor(4.94))\n",
    "print(ceil(5.74))\n",
    "print(sqrt(64))"
   ]
  },
  {
   "cell_type": "code",
   "execution_count": null,
   "id": "27766705",
   "metadata": {},
   "outputs": [],
   "source": [
    "# Q：將 d 四捨五入至小數第三位\n",
    "d = 32.6245"
   ]
  },
  {
   "cell_type": "code",
   "execution_count": null,
   "id": "4e872d55",
   "metadata": {},
   "outputs": [],
   "source": []
  },
  {
   "cell_type": "code",
   "execution_count": null,
   "id": "2099ee55",
   "metadata": {},
   "outputs": [],
   "source": []
  }
 ],
 "metadata": {
  "kernelspec": {
   "display_name": "Python 3 (ipykernel)",
   "language": "python",
   "name": "python3"
  },
  "language_info": {
   "codemirror_mode": {
    "name": "ipython",
    "version": 3
   },
   "file_extension": ".py",
   "mimetype": "text/x-python",
   "name": "python",
   "nbconvert_exporter": "python",
   "pygments_lexer": "ipython3",
   "version": "3.9.5"
  }
 },
 "nbformat": 4,
 "nbformat_minor": 5
}
