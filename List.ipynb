{
 "cells": [
  {
   "cell_type": "markdown",
   "id": "489fddff",
   "metadata": {},
   "source": [
    "# List 串列\n",
    "- 一個 List 可儲存多個元素，且元素可為不同型態"
   ]
  },
  {
   "cell_type": "code",
   "execution_count": null,
   "id": "60f3c76f",
   "metadata": {},
   "outputs": [],
   "source": [
    "# 將多個數值型態的變數存入至一個 List 中\n",
    "number1 = 1\n",
    "number2 = 3\n",
    "number3 = 5\n",
    "number4 = 7\n",
    "number5 = 9\n",
    "number6 = 11\n",
    "number7 = 13\n",
    "number8 = 15"
   ]
  },
  {
   "cell_type": "code",
   "execution_count": null,
   "id": "09d60661",
   "metadata": {},
   "outputs": [],
   "source": [
    "numbers = [1,3,5,7,9,11,13,15]\n",
    "print(numbers)\n",
    "print(type(numbers))"
   ]
  },
  {
   "cell_type": "code",
   "execution_count": null,
   "id": "f3d70902",
   "metadata": {},
   "outputs": [],
   "source": [
    "# 將多個字串型態的變數存入至一個 List 中\n",
    "movie1 =  'Alien'\n",
    "movie2 = 'Inception'\n",
    "movie3 = 'The Martian'\n",
    "movie4 = 'Blade Runner'\n",
    "movie5 = 'Back to furtur'\n",
    "movie6 = 'Arrival'\n",
    "movie7 = 'Moon'\n",
    "movie8 = 'Looper'"
   ]
  },
  {
   "cell_type": "code",
   "execution_count": null,
   "id": "b4f7d9ae",
   "metadata": {},
   "outputs": [],
   "source": [
    "sci_fi = ['Alien','Inception','The Martian','Blade Runner','Back to furtur','Arrival','Moon','Looper']"
   ]
  },
  {
   "cell_type": "code",
   "execution_count": null,
   "id": "18aef69d",
   "metadata": {},
   "outputs": [],
   "source": [
    "print(sci_fi)"
   ]
  },
  {
   "cell_type": "code",
   "execution_count": null,
   "id": "c5cb2125",
   "metadata": {},
   "outputs": [],
   "source": [
    "# 在一個 List 可存入不同型態的值\n",
    "date = [2022,'二月']\n",
    "print(date)"
   ]
  },
  {
   "cell_type": "code",
   "execution_count": null,
   "id": "f6238866",
   "metadata": {},
   "outputs": [],
   "source": [
    "# 查看字串的長度\n",
    "print(len(numbers))\n",
    "print(len(sci_fi))\n",
    "print(len(date))"
   ]
  },
  {
   "cell_type": "code",
   "execution_count": null,
   "id": "5ae4b276",
   "metadata": {},
   "outputs": [],
   "source": [
    "# 修改 List 的元素\n",
    "color = ['black','grey','white']\n",
    "print(color)\n",
    "color[1] = 'blue'\n",
    "print(color)"
   ]
  },
  {
   "cell_type": "markdown",
   "id": "76c908d8",
   "metadata": {},
   "source": [
    "## 取得 List 的元素\n",
    "- list[start:end:step]\n",
    "- 取得的值包含開頭但不包含結尾的 index\n",
    "- step 預設為 1"
   ]
  },
  {
   "cell_type": "code",
   "execution_count": null,
   "id": "3591f002",
   "metadata": {},
   "outputs": [],
   "source": [
    "sci_fi = ['Alien','Inception','The Martian','Blade Runner','Back to furtur','Arrival','Moon','Looper']"
   ]
  },
  {
   "cell_type": "code",
   "execution_count": null,
   "id": "148bd6bf",
   "metadata": {},
   "outputs": [],
   "source": [
    "# 取的個別元素\n",
    "## 取得第一個元素\n",
    "print(sci_fi[0])\n",
    "\n",
    "## 取得最後一個元素\n",
    "print(sci_fi[7])\n",
    "print(sci_fi[-1])\n",
    "print(sci_fi[len(sci_fi)-1])"
   ]
  },
  {
   "cell_type": "code",
   "execution_count": null,
   "id": "95bd2ad8",
   "metadata": {},
   "outputs": [],
   "source": [
    "# 取得連續元素\n",
    "## 取得第一個至第五個的元素\n",
    "print(sci_fi[0:5])\n",
    "print(sci_fi[:5])\n",
    "\n",
    "## 取得第五個至最後一個元素 \n",
    "print(sci_fi[4:8])\n",
    "print(sci_fi[4:])\n",
    "print(sci_fi[4:len(sci_fi)]) "
   ]
  },
  {
   "cell_type": "code",
   "execution_count": 3,
   "id": "f767da3b",
   "metadata": {},
   "outputs": [
    {
     "name": "stdout",
     "output_type": "stream",
     "text": [
      "[1, 2, 3, 4, 5]\n"
     ]
    },
    {
     "ename": "IndexError",
     "evalue": "list index out of range",
     "output_type": "error",
     "traceback": [
      "\u001b[0;31m---------------------------------------------------------------------------\u001b[0m",
      "\u001b[0;31mIndexError\u001b[0m                                Traceback (most recent call last)",
      "\u001b[0;32m/var/folders/rq/kwbpmjpx34330vb83n98l_8m0000gp/T/ipykernel_29824/3278998349.py\u001b[0m in \u001b[0;36m<module>\u001b[0;34m\u001b[0m\n\u001b[1;32m      3\u001b[0m \u001b[0mnumber\u001b[0m \u001b[0;34m=\u001b[0m \u001b[0;34m[\u001b[0m\u001b[0;36m1\u001b[0m\u001b[0;34m,\u001b[0m\u001b[0;36m2\u001b[0m\u001b[0;34m,\u001b[0m\u001b[0;36m3\u001b[0m\u001b[0;34m,\u001b[0m\u001b[0;36m4\u001b[0m\u001b[0;34m,\u001b[0m\u001b[0;36m5\u001b[0m\u001b[0;34m]\u001b[0m\u001b[0;34m\u001b[0m\u001b[0;34m\u001b[0m\u001b[0m\n\u001b[1;32m      4\u001b[0m \u001b[0mprint\u001b[0m\u001b[0;34m(\u001b[0m\u001b[0mnumber\u001b[0m\u001b[0;34m[\u001b[0m\u001b[0;36m0\u001b[0m\u001b[0;34m:\u001b[0m\u001b[0;36m5\u001b[0m\u001b[0;34m]\u001b[0m\u001b[0;34m)\u001b[0m\u001b[0;34m\u001b[0m\u001b[0;34m\u001b[0m\u001b[0m\n\u001b[0;32m----> 5\u001b[0;31m \u001b[0mprint\u001b[0m\u001b[0;34m(\u001b[0m\u001b[0mnumber\u001b[0m\u001b[0;34m[\u001b[0m\u001b[0;36m5\u001b[0m\u001b[0;34m]\u001b[0m\u001b[0;34m)\u001b[0m\u001b[0;34m\u001b[0m\u001b[0;34m\u001b[0m\u001b[0m\n\u001b[0m",
      "\u001b[0;31mIndexError\u001b[0m: list index out of range"
     ]
    }
   ],
   "source": [
    "# 若取值時 index 的範圍超出:\n",
    "# 取單一元素會產生錯誤訊息;取連續元素則會取至最後一個元素\n",
    "number = [1,2,3,4,5]\n",
    "print(number[0:5])\n",
    "print(number[5])\n"
   ]
  },
  {
   "cell_type": "code",
   "execution_count": null,
   "id": "857629a6",
   "metadata": {},
   "outputs": [],
   "source": [
    "# 比較\n",
    "print(sci_fi[1:-1]) # 不包含倒數最後一個\n",
    "print(sci_fi[1:])   # 包含最後一個元素"
   ]
  },
  {
   "cell_type": "code",
   "execution_count": null,
   "id": "67c2a09d",
   "metadata": {},
   "outputs": [],
   "source": [
    "sci_fi = ['Alien','Inception','The Martian','Blade Runner','Back to furtur','Arrival','Moon','Looper']\n",
    "\n",
    "# 取的奇數 index 的元素\n",
    "print(sci_fi[1:-1:2]) \n",
    "print(sci_fi[1::2])\n",
    "\n",
    "# 取的偶數 index 的元素\n",
    "print(sci_fi[:-1:2])\n",
    "print(sci_fi[::2])   "
   ]
  },
  {
   "cell_type": "markdown",
   "id": "81c4da91",
   "metadata": {},
   "source": [
    "## 新增 List 的元素\n",
    "- list_name.append(object)\n",
    "- 將該 object 整個元素，新增在 list 後方"
   ]
  },
  {
   "cell_type": "code",
   "execution_count": 2,
   "id": "067c9766",
   "metadata": {},
   "outputs": [
    {
     "name": "stdout",
     "output_type": "stream",
     "text": [
      "['stay', 'She', 'Forever Young']\n"
     ]
    }
   ],
   "source": [
    "songs = ['stay','She','Forever Young']\n",
    "print(songs)"
   ]
  },
  {
   "cell_type": "code",
   "execution_count": 7,
   "id": "05c2c6ad",
   "metadata": {},
   "outputs": [
    {
     "name": "stdout",
     "output_type": "stream",
     "text": [
      "['stay', 'classicriver', 'She', 'Forever Young', 'Tomorrow', 'classicriver', 'classicriver', 'Tomorrow']\n"
     ]
    }
   ],
   "source": [
    "songs.append('Tomorrow')\n",
    "print(songs)"
   ]
  },
  {
   "cell_type": "markdown",
   "id": "6e517f7d",
   "metadata": {},
   "source": [
    "## 插入元素至 List\n",
    "- list_name.insert(position,object)\n",
    "- 將該 object 整個元素，指定在 position 的位置\n",
    "- insert()超過 index 範圍會加在最後面 "
   ]
  },
  {
   "cell_type": "code",
   "execution_count": 8,
   "id": "0e6dba9b",
   "metadata": {},
   "outputs": [
    {
     "name": "stdout",
     "output_type": "stream",
     "text": [
      "['stay', 'She', 'Forever Young', 'classicriver']\n"
     ]
    }
   ],
   "source": [
    "songs = ['stay','She','Forever Young']\n",
    "songs.insert(8,'classicriver')\n",
    "print(songs)"
   ]
  },
  {
   "cell_type": "markdown",
   "id": "00d213aa",
   "metadata": {},
   "source": [
    "## 將 List2 擴展至 List1 \n",
    "- List1.extend(List2)\n",
    "- 將 list2 裡面的元素取出，並接續在 list1 的元素後"
   ]
  },
  {
   "cell_type": "code",
   "execution_count": 34,
   "id": "51b02b1b",
   "metadata": {},
   "outputs": [
    {
     "name": "stdout",
     "output_type": "stream",
     "text": [
      "['guava', 'litchi', 'pear', 'banana', 'papaya', 'mango']\n"
     ]
    }
   ],
   "source": [
    "fruits1 = ['guava','litchi','pear']\n",
    "fruits2 = ['banana','papaya','mango']\n",
    "fruits1.extend(fruits2)\n",
    "print(fruits1)"
   ]
  },
  {
   "cell_type": "code",
   "execution_count": 51,
   "id": "062e3de8",
   "metadata": {},
   "outputs": [
    {
     "name": "stdout",
     "output_type": "stream",
     "text": [
      "['guava', 'litchi', 'pear', 'banana', 'papaya', 'mango']\n"
     ]
    }
   ],
   "source": [
    "fruits1 = ['guava','litchi','pear']\n",
    "fruits2 = 'banana','papaya','mango'\n",
    "fruits1.extend(fruits2)\n",
    "print(fruits1)"
   ]
  },
  {
   "cell_type": "code",
   "execution_count": 59,
   "id": "03c54023",
   "metadata": {},
   "outputs": [
    {
     "name": "stdout",
     "output_type": "stream",
     "text": [
      "['guava', 'litchi', 'pear', 'b', 'a', 'n', 'a', 'n', 'a']\n"
     ]
    }
   ],
   "source": [
    "fruits1 = ['guava','litchi','pear']\n",
    "fruits2 = 'banana'\n",
    "fruits1.extend(fruits2)\n",
    "print(fruits1)"
   ]
  },
  {
   "cell_type": "code",
   "execution_count": 10,
   "id": "46f470e3",
   "metadata": {},
   "outputs": [
    {
     "name": "stdout",
     "output_type": "stream",
     "text": [
      "['guava', 'litchi', 'pear', ['banana', 'papaya', 'mango']]\n"
     ]
    }
   ],
   "source": [
    "# 比較 append() 方法\n",
    "fruits1 = ['guava','litchi','pear']\n",
    "fruits2 = ['banana','papaya','mango']\n",
    "fruits1.append(fruits2)\n",
    "print(fruits1)"
   ]
  },
  {
   "cell_type": "code",
   "execution_count": 57,
   "id": "85e0a11e",
   "metadata": {},
   "outputs": [
    {
     "name": "stdout",
     "output_type": "stream",
     "text": [
      "['guava', 'litchi', 'pear', ('banana', 'papaya', 'mango')]\n"
     ]
    }
   ],
   "source": [
    "fruits1 = ['guava','litchi','pear']\n",
    "fruits2 = 'banana','papaya','mango'\n",
    "fruits1.append(fruits2)\n",
    "print(fruits1)"
   ]
  },
  {
   "cell_type": "code",
   "execution_count": 18,
   "id": "2be4e8db",
   "metadata": {},
   "outputs": [
    {
     "name": "stdout",
     "output_type": "stream",
     "text": [
      "['guava', ['banana', 'papaya', 'mango'], 'litchi', 'pear']\n"
     ]
    }
   ],
   "source": [
    "# 比較 insert() 方法\n",
    "fruits1 = ['guava','litchi','pear']\n",
    "fruits2 = ['banana','papaya','mango']\n",
    "fruits1.insert(1,fruits2)\n",
    "print(fruits1)"
   ]
  },
  {
   "cell_type": "code",
   "execution_count": 55,
   "id": "03f7ff53",
   "metadata": {},
   "outputs": [
    {
     "name": "stdout",
     "output_type": "stream",
     "text": [
      "['guava', ('banana', 'papaya', 'mango'), 'litchi', 'pear']\n"
     ]
    }
   ],
   "source": [
    "fruits1 = ['guava','litchi','pear']\n",
    "fruits2 = 'banana','papaya','mango'\n",
    "fruits1.insert(1,fruits2)\n",
    "print(fruits1)"
   ]
  },
  {
   "cell_type": "code",
   "execution_count": 12,
   "id": "5762e17d",
   "metadata": {},
   "outputs": [
    {
     "name": "stdout",
     "output_type": "stream",
     "text": [
      "['guava', 'litchi', 'pear', 'banana', 'papaya', 'mango']\n"
     ]
    }
   ],
   "source": [
    "# 使用加法\n",
    "# 需同型態相加\n",
    "fruits1 = ['guava','litchi','pear']\n",
    "fruits2 = ['banana','papaya','mango']\n",
    "fruits3 = fruits1+fruits2\n",
    "print(fruits3)"
   ]
  },
  {
   "cell_type": "code",
   "execution_count": null,
   "id": "5a3240a7",
   "metadata": {},
   "outputs": [],
   "source": []
  },
  {
   "cell_type": "code",
   "execution_count": 31,
   "id": "24e08179",
   "metadata": {},
   "outputs": [
    {
     "name": "stdout",
     "output_type": "stream",
     "text": [
      "['guava', 'litchi', 'pear', 'banana', 'papaya', 'mango']\n"
     ]
    }
   ],
   "source": [
    "# 使用 chain\n",
    "from itertools import chain\n",
    "\n",
    "fruits1 = ['guava','litchi','pear']\n",
    "fruits2 = ['banana','papaya','mango']\n",
    "\n",
    "fruits3 = list(chain(fruits1,fruits2))\n",
    "print(fruits3)"
   ]
  },
  {
   "cell_type": "markdown",
   "id": "aaa83a2d",
   "metadata": {},
   "source": [
    "## 移除 List 裡面的元素\n",
    "- list_name.remove(element)\n",
    "- list_name.pop(index)\n",
    "- del"
   ]
  },
  {
   "cell_type": "markdown",
   "id": "22760627",
   "metadata": {},
   "source": [
    "### list_name.remove(element)\n",
    "- 根據元素本身來進行值得移除"
   ]
  },
  {
   "cell_type": "code",
   "execution_count": null,
   "id": "5b3a5351",
   "metadata": {},
   "outputs": [],
   "source": [
    "fruits = ['guava', 'litchi', 'pear', 'banana', 'papaya', 'mango'] \n",
    "fruits.remove('litchi')\n",
    "print(fruits)"
   ]
  },
  {
   "cell_type": "code",
   "execution_count": 39,
   "id": "c70b0189",
   "metadata": {},
   "outputs": [
    {
     "name": "stdout",
     "output_type": "stream",
     "text": [
      "['guava', 'litchi', 'banana', 'pear', 'papaya', 'mango']\n",
      "['guava', 'litchi', 'banana', 'papaya', 'mango']\n"
     ]
    }
   ],
   "source": [
    "# 若指定刪除的元素重複，則刪除第一個找到的元素\n",
    "# 元素必須存在，否則會出現錯誤\n",
    "fruits = ['guava', 'litchi', 'pear', 'banana', 'pear', 'papaya', 'mango'] \n",
    "fruits.remove('pear')\n",
    "print(fruits)\n",
    "fruits.remove('pear')\n",
    "print(fruits)"
   ]
  },
  {
   "cell_type": "code",
   "execution_count": 50,
   "id": "692c32e5",
   "metadata": {},
   "outputs": [
    {
     "name": "stdout",
     "output_type": "stream",
     "text": [
      "['guava', 'litchi', 'pear', 'papaya', 'mango']\n"
     ]
    }
   ],
   "source": [
    "# 透過 index 選取元素再移除\n",
    "fruits = ['guava', 'litchi', 'pear', 'banana', 'papaya', 'mango'] \n",
    "fruits.remove(fruits[3])\n",
    "print(fruits)"
   ]
  },
  {
   "cell_type": "code",
   "execution_count": null,
   "id": "1acbb990",
   "metadata": {},
   "outputs": [],
   "source": [
    "# list 與 input \n",
    "fruits = ['guava', 'litchi', 'pear', 'banana', 'papaya', 'mango'] \n",
    "x = input('which fruit do you like,guava or litchi or pear? ')\n",
    "fruits.remove(x)\n",
    "print(fruits)"
   ]
  },
  {
   "cell_type": "markdown",
   "id": "0aaff6f7",
   "metadata": {},
   "source": [
    "### list_name.pop(index)\n",
    "- 預設移除 List 最後一個值，並回傳被移除的值\n",
    "- pop() 經常用於資料結構中，處理陣列之常見方式 (ex:stack、queue) 資料移除的實現方法(資料新增用 push)"
   ]
  },
  {
   "cell_type": "code",
   "execution_count": null,
   "id": "a21d25dc",
   "metadata": {},
   "outputs": [],
   "source": [
    "fruits = ['guava', 'litchi', 'pear', 'banana', 'papaya', 'mango'] \n",
    "popped = fruits.pop()\n",
    "print(popped)\n",
    "print(fruits)"
   ]
  },
  {
   "cell_type": "code",
   "execution_count": 46,
   "id": "3e27257f",
   "metadata": {},
   "outputs": [
    {
     "ename": "SyntaxError",
     "evalue": "invalid syntax (2191673996.py, line 3)",
     "output_type": "error",
     "traceback": [
      "\u001b[0;36m  File \u001b[0;32m\"/var/folders/rq/kwbpmjpx34330vb83n98l_8m0000gp/T/ipykernel_44506/2191673996.py\"\u001b[0;36m, line \u001b[0;32m3\u001b[0m\n\u001b[0;31m    popped = fruits.pop(2:4)\u001b[0m\n\u001b[0m                         ^\u001b[0m\n\u001b[0;31mSyntaxError\u001b[0m\u001b[0;31m:\u001b[0m invalid syntax\n"
     ]
    }
   ],
   "source": [
    "# 指定要刪除元素的 index\n",
    "fruits = ['guava', 'litchi', 'pear', 'banana', 'papaya', 'mango'] \n",
    "popped = fruits.pop(2)\n",
    "print(popped)\n",
    "print(fruits)"
   ]
  },
  {
   "cell_type": "markdown",
   "id": "43a41b54",
   "metadata": {},
   "source": [
    "### del \n",
    "- del list_name[index]\n",
    "- del list_name[start:end]"
   ]
  },
  {
   "cell_type": "code",
   "execution_count": 42,
   "id": "962601e0",
   "metadata": {},
   "outputs": [
    {
     "name": "stdout",
     "output_type": "stream",
     "text": [
      "['guava', 'pear', 'banana', 'papaya', 'mango']\n"
     ]
    }
   ],
   "source": [
    "fruits = ['guava', 'litchi', 'pear', 'banana', 'papaya', 'mango'] \n",
    "del fruits[1]\n",
    "print(fruits)"
   ]
  },
  {
   "cell_type": "code",
   "execution_count": 45,
   "id": "12fe67ac",
   "metadata": {},
   "outputs": [
    {
     "name": "stdout",
     "output_type": "stream",
     "text": [
      "['guava', 'banana', 'papaya', 'mango']\n"
     ]
    }
   ],
   "source": [
    "# 刪除連續元素\n",
    "fruits = ['guava', 'litchi', 'pear', 'banana', 'papaya', 'mango'] \n",
    "\n",
    "del fruits[1:3]\n",
    "print(fruits)"
   ]
  },
  {
   "cell_type": "code",
   "execution_count": 44,
   "id": "37c3665c",
   "metadata": {
    "scrolled": true
   },
   "outputs": [
    {
     "name": "stdout",
     "output_type": "stream",
     "text": [
      "['guava', 'litchi', 'pear', 'banana', 'papaya', 'mango']\n"
     ]
    },
    {
     "ename": "NameError",
     "evalue": "name 'fruits' is not defined",
     "output_type": "error",
     "traceback": [
      "\u001b[0;31m---------------------------------------------------------------------------\u001b[0m",
      "\u001b[0;31mNameError\u001b[0m                                 Traceback (most recent call last)",
      "\u001b[0;32m/var/folders/rq/kwbpmjpx34330vb83n98l_8m0000gp/T/ipykernel_44506/4051450189.py\u001b[0m in \u001b[0;36m<module>\u001b[0;34m\u001b[0m\n\u001b[1;32m      2\u001b[0m \u001b[0mprint\u001b[0m\u001b[0;34m(\u001b[0m\u001b[0mfruits\u001b[0m\u001b[0;34m)\u001b[0m\u001b[0;34m\u001b[0m\u001b[0;34m\u001b[0m\u001b[0m\n\u001b[1;32m      3\u001b[0m \u001b[0;32mdel\u001b[0m \u001b[0mfruits\u001b[0m\u001b[0;34m\u001b[0m\u001b[0;34m\u001b[0m\u001b[0m\n\u001b[0;32m----> 4\u001b[0;31m \u001b[0mprint\u001b[0m\u001b[0;34m(\u001b[0m\u001b[0mfruits\u001b[0m\u001b[0;34m)\u001b[0m\u001b[0;34m\u001b[0m\u001b[0;34m\u001b[0m\u001b[0m\n\u001b[0m",
      "\u001b[0;31mNameError\u001b[0m: name 'fruits' is not defined"
     ]
    }
   ],
   "source": [
    "fruits = ['guava', 'litchi', 'pear', 'banana', 'papaya', 'mango'] \n",
    "print(fruits)\n",
    "del fruits\n",
    "print(fruits)"
   ]
  },
  {
   "cell_type": "markdown",
   "id": "60863f78",
   "metadata": {},
   "source": [
    "## 清空 List 的元素\n",
    "- list_name.clear()"
   ]
  },
  {
   "cell_type": "code",
   "execution_count": null,
   "id": "fd29d2b1",
   "metadata": {},
   "outputs": [],
   "source": [
    "fruits = ['guava', 'litchi', 'pear', 'banana', 'papaya', 'mango'] \n",
    "fruits.clear()\n",
    "print(fruits)"
   ]
  },
  {
   "cell_type": "markdown",
   "id": "84216354",
   "metadata": {},
   "source": [
    "## 排序\n",
    "- sorted(List_name) :排序並建新的 List，原本的 List 不受影響\n",
    "- List_name.sort() :直接改變 List 內容，不會回傳新的值\n",
    "- List_name.sort(reverse=True)"
   ]
  },
  {
   "cell_type": "code",
   "execution_count": 13,
   "id": "3c8e3018",
   "metadata": {},
   "outputs": [
    {
     "name": "stdout",
     "output_type": "stream",
     "text": [
      "[1, 3, 3, 5, 7]\n",
      "[1, 5, 3, 7, 3]\n"
     ]
    }
   ],
   "source": [
    "x = [1,5,3,7,3]\n",
    "print(sorted(x)) \n",
    "print(x)"
   ]
  },
  {
   "cell_type": "code",
   "execution_count": 14,
   "id": "866c2551",
   "metadata": {},
   "outputs": [
    {
     "name": "stdout",
     "output_type": "stream",
     "text": [
      "None\n",
      "[1, 3, 3, 5, 7]\n"
     ]
    }
   ],
   "source": [
    "x = [1,5,3,7,3]\n",
    "print(x.sort())   \n",
    "print(x)"
   ]
  },
  {
   "cell_type": "code",
   "execution_count": 15,
   "id": "ac3fcea7",
   "metadata": {},
   "outputs": [
    {
     "name": "stdout",
     "output_type": "stream",
     "text": [
      "[1, 3, 3, 5, 7]\n"
     ]
    }
   ],
   "source": [
    "x = [1,5,3,7,3]\n",
    "x.sort(reverse=False)\n",
    "print(x)"
   ]
  },
  {
   "cell_type": "markdown",
   "id": "b948233f",
   "metadata": {},
   "source": [
    "## 反轉列表\n",
    "- List_name.reverse()"
   ]
  },
  {
   "cell_type": "code",
   "execution_count": null,
   "id": "2de43e29",
   "metadata": {},
   "outputs": [],
   "source": [
    "x = [1,5,3,7,3]\n",
    "x.reverse()\n",
    "print(x)"
   ]
  },
  {
   "cell_type": "markdown",
   "id": "ea44f268",
   "metadata": {},
   "source": [
    "## 尋找該值在 List 出現幾次\n",
    "- List_name.count(element)\n",
    "- 若找的元素不在 list 則會是 0"
   ]
  },
  {
   "cell_type": "code",
   "execution_count": null,
   "id": "bcb0adb8",
   "metadata": {},
   "outputs": [],
   "source": [
    "x = [1,5,3,7,3]\n",
    "print(x.count(3))"
   ]
  },
  {
   "cell_type": "markdown",
   "id": "1e41c5fa",
   "metadata": {},
   "source": [
    "## 尋找該值的最大最小值\n",
    "- 最大值: max(List)\n",
    "- 最小值: min(List)"
   ]
  },
  {
   "cell_type": "code",
   "execution_count": null,
   "id": "73e1cee3",
   "metadata": {},
   "outputs": [],
   "source": [
    "print(max(15,32,41,52,60))\n",
    "print(min(23,43,54,22,56))\n",
    "print(max([15,32,41,52,60]))\n",
    "print(min([23,43,54,22,56]))"
   ]
  },
  {
   "cell_type": "code",
   "execution_count": null,
   "id": "490aed13",
   "metadata": {},
   "outputs": [],
   "source": [
    "list1 = [15,32,41,52,60]\n",
    "list2 = [23,43,54,22,56]\n",
    "print(max(list1))\n",
    "print(min(list2))"
   ]
  },
  {
   "cell_type": "markdown",
   "id": "84952016",
   "metadata": {},
   "source": [
    "## 確認元素是否在 List 裏面\n",
    "- 使用 in 運算子"
   ]
  },
  {
   "cell_type": "code",
   "execution_count": null,
   "id": "595f15bb",
   "metadata": {},
   "outputs": [],
   "source": [
    "fruits = ['guava', 'litchi', 'pear', 'banana', 'papaya', 'mango'] \n",
    "print('guava' in fruits)\n",
    "print('apple' in fruits)"
   ]
  },
  {
   "cell_type": "markdown",
   "id": "07eb1098",
   "metadata": {},
   "source": [
    "## 尋找元素的位置 - index\n",
    "- List_name.index(element)：尋找第一個找到的元素之 index 值\n",
    "- List_name.index(element,start,end)：尋找該範圍的元素之 index 值"
   ]
  },
  {
   "cell_type": "code",
   "execution_count": 68,
   "id": "f6230a2e",
   "metadata": {},
   "outputs": [
    {
     "name": "stdout",
     "output_type": "stream",
     "text": [
      "2\n"
     ]
    }
   ],
   "source": [
    "# 尋找第一個 3 的元素\n",
    "x = [1,5,3,7,3,6]\n",
    "print(x.index(3))"
   ]
  },
  {
   "cell_type": "code",
   "execution_count": 66,
   "id": "21f175b3",
   "metadata": {},
   "outputs": [
    {
     "data": {
      "text/plain": [
       "4"
      ]
     },
     "execution_count": 66,
     "metadata": {},
     "output_type": "execute_result"
    }
   ],
   "source": [
    "# 尋找第二個 3 的元素\n",
    "x = [1,5,3,7,3,6]\n",
    "x.index(3, 3, 5)"
   ]
  },
  {
   "cell_type": "code",
   "execution_count": null,
   "id": "5b9c8ae8",
   "metadata": {},
   "outputs": [],
   "source": []
  },
  {
   "cell_type": "markdown",
   "id": "85222e06",
   "metadata": {},
   "source": [
    "### 課後回饋:\n",
    "- extend 插在中間不要[]\n",
    "    - 參考下方\n",
    "    \n",
    "- remove() 指定 index?\n",
    "    - 可以使用 list_name.remove(list_name[index])，ex：fruits[3]\n",
    "    - 用 index 取該值，再指定該值進行 remove ，但有點多此一舉\n",
    "    - remove 本身適用於指定該值進行移除\n",
    "    - 但若想要透過 index 將該值移除可以使用 list_name.pop(index) / del list_name[index]\n",
    "\n",
    "- 使用 append()、insert() 加入 'banana','papaya','mango'?\n",
    "    - 若是使用 append()、insert()將 'banana','papaya','mango'加入 list，則會將他是會一個 Tuple 元素\n",
    "    - 若是使用 append()、insert()將 ['banana','papaya','mango'] 加入list，則會將他是會一個 list 元素\n",
    "\n",
    "- 中文排序與字母排序?\n",
    "   - 中文排序規則較特殊\n",
    "   \n",
    "- find 找字串可以，但可以找 list 嗎?\n",
    "    - 不行，list 沒有 find 這個方法\n",
    "    - 但可以使用 in 運算元確認該元素是否存在\n",
    "    - 若存在的話可以使用 list_name.index(element) 尋找該元素的位置\n",
    "    \n",
    "- stack、queue 應用\n"
   ]
  },
  {
   "cell_type": "code",
   "execution_count": 36,
   "id": "d35a8939",
   "metadata": {},
   "outputs": [
    {
     "name": "stdout",
     "output_type": "stream",
     "text": [
      "['guava', ['banana', 'papaya', 'mango'], 'litchi', 'pear']\n",
      "['guava', 'banana', 'papaya', 'mango', 'litchi', 'pear']\n"
     ]
    }
   ],
   "source": [
    "# 插入一個 list 元素，並去 []\n",
    "fruits1 = ['guava','litchi','pear']\n",
    "fruits2 = ['banana','papaya','mango']\n",
    "fruits1.insert(1,fruits2)\n",
    "print(fruits1)\n",
    "\n",
    "list1 = []\n",
    "for fruit in fruits1:\n",
    "    if type(fruit) == str:\n",
    "        list1.append(fruit)\n",
    "    elif type(fruit) == list:\n",
    "        list1.extend(fruit)\n",
    "print(list1)"
   ]
  },
  {
   "cell_type": "code",
   "execution_count": 28,
   "id": "26cf5b3c",
   "metadata": {},
   "outputs": [
    {
     "data": {
      "text/plain": [
       "['guava', 'litchi', 'banana', 'papaya', 'mango', 'pear']"
      ]
     },
     "execution_count": 28,
     "metadata": {},
     "output_type": "execute_result"
    }
   ],
   "source": [
    "# 插入一個 list 元素，並去 []\n",
    "\n",
    "fruits1 = ['guava','litchi','pear']\n",
    "fruits2 = ['banana','papaya','mango']\n",
    "fruits1[:2]+['banana','papaya','mango']+fruits1[2:]"
   ]
  },
  {
   "cell_type": "code",
   "execution_count": 26,
   "id": "2d7bd017",
   "metadata": {},
   "outputs": [
    {
     "data": {
      "text/plain": [
       "['guava', 'banana', 'papaya', 'mango', 'litchi', 'pear']"
      ]
     },
     "execution_count": 26,
     "metadata": {},
     "output_type": "execute_result"
    }
   ],
   "source": [
    "# 定義成 function\n",
    "def insert_position(position, list1, list2):\n",
    "    return list1[:position] + list2 + list1[position:]\n",
    "\n",
    "fruits1 = ['guava','litchi','pear']\n",
    "fruits2 = ['banana','papaya','mango']\n",
    "insert_position(1,fruits1,fruits2)"
   ]
  },
  {
   "cell_type": "code",
   "execution_count": null,
   "id": "24f7a656",
   "metadata": {},
   "outputs": [],
   "source": []
  }
 ],
 "metadata": {
  "kernelspec": {
   "display_name": "Python 3 (ipykernel)",
   "language": "python",
   "name": "python3"
  },
  "language_info": {
   "codemirror_mode": {
    "name": "ipython",
    "version": 3
   },
   "file_extension": ".py",
   "mimetype": "text/x-python",
   "name": "python",
   "nbconvert_exporter": "python",
   "pygments_lexer": "ipython3",
   "version": "3.9.5"
  }
 },
 "nbformat": 4,
 "nbformat_minor": 5
}
