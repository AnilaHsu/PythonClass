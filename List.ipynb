{
 "cells": [
  {
   "cell_type": "markdown",
   "id": "489fddff",
   "metadata": {},
   "source": [
    "# List 串列"
   ]
  },
  {
   "cell_type": "code",
   "execution_count": null,
   "id": "60f3c76f",
   "metadata": {},
   "outputs": [],
   "source": [
    "# 將多個數值型態的變數存入至一個 List 中\n",
    "number1 = 1\n",
    "number2 = 3\n",
    "number3 = 5\n",
    "number4 = 7\n",
    "number5 = 9\n",
    "number6 = 11\n",
    "number7 = 13\n",
    "number8 = 15"
   ]
  },
  {
   "cell_type": "code",
   "execution_count": null,
   "id": "09d60661",
   "metadata": {},
   "outputs": [],
   "source": [
    "numbers = [1,3,5,7,9,11,13,15]\n",
    "print(numbers)\n",
    "print(type(numbers))"
   ]
  },
  {
   "cell_type": "code",
   "execution_count": null,
   "id": "f3d70902",
   "metadata": {},
   "outputs": [],
   "source": [
    "# 將多個字串型態的變數存入至一個 List 中\n",
    "movie1 =  'Alien'\n",
    "movie2 = 'Inception'\n",
    "movie3 = 'The Martian'\n",
    "movie4 = 'Blade Runner'\n",
    "movie5 = 'Back to furtur'\n",
    "movie6 = 'Arrival'\n",
    "movie7 = 'Moon'\n",
    "movie8 = 'Looper'"
   ]
  },
  {
   "cell_type": "code",
   "execution_count": null,
   "id": "b4f7d9ae",
   "metadata": {},
   "outputs": [],
   "source": [
    "sci_fi = ['Alien','Inception','The Martian','Blade Runner','Back to furtur','Arrival','Moon','Looper']"
   ]
  },
  {
   "cell_type": "code",
   "execution_count": null,
   "id": "18aef69d",
   "metadata": {},
   "outputs": [],
   "source": [
    "print(sci_fi)"
   ]
  },
  {
   "cell_type": "code",
   "execution_count": null,
   "id": "c5cb2125",
   "metadata": {},
   "outputs": [],
   "source": [
    "# 在一個 List 可存入不同型態的值\n",
    "date = [2022,'二月']\n",
    "print(date)"
   ]
  },
  {
   "cell_type": "code",
   "execution_count": null,
   "id": "f6238866",
   "metadata": {},
   "outputs": [],
   "source": [
    "# 查看字串的長度\n",
    "print(len(numbers))\n",
    "print(len(sci_fi))\n",
    "print(len(date))"
   ]
  },
  {
   "cell_type": "code",
   "execution_count": null,
   "id": "5ae4b276",
   "metadata": {},
   "outputs": [],
   "source": [
    "# 修改 List 的元素\n",
    "color = ['black','grey','white']\n",
    "print(color)\n",
    "color[1] = 'blue'\n",
    "print(color)"
   ]
  },
  {
   "cell_type": "markdown",
   "id": "76c908d8",
   "metadata": {},
   "source": [
    "## 取得 List 的元素\n",
    "- list[start:end:step]\n",
    "- 取得的值包含開頭但不包含結尾的 index\n",
    "- step 預設為 1"
   ]
  },
  {
   "cell_type": "code",
   "execution_count": null,
   "id": "148bd6bf",
   "metadata": {},
   "outputs": [],
   "source": [
    "sci_fi = ['Alien','Inception','The Martian','Blade Runner','Back to furtur','Arrival','Moon','Looper']\n",
    "\n",
    "# 取得第一個元素\n",
    "print(sci_fi[0])\n",
    "\n",
    "# 取得最後一個元素\n",
    "print(sci_fi[7])\n",
    "print(sci_fi[-1])\n",
    "print(sci_fi[len(sci_fi)-1])"
   ]
  },
  {
   "cell_type": "code",
   "execution_count": null,
   "id": "95bd2ad8",
   "metadata": {},
   "outputs": [],
   "source": [
    "# 取得第一個至第五個的元素\n",
    "print(sci_fi[0:5])\n",
    "print(sci_fi[:5])\n",
    "\n",
    "# 取得第五個至最後一個元素 \n",
    "print(sci_fi[4:8])\n",
    "print(sci_fi[4:])\n",
    "print(sci_fi[4:len(sci_fi)]) "
   ]
  },
  {
   "cell_type": "code",
   "execution_count": null,
   "id": "857629a6",
   "metadata": {},
   "outputs": [],
   "source": [
    "# 比較\n",
    "print(sci_fi[1:-1]) # 不包含倒數最後一個\n",
    "print(sci_fi[1:])   # 包含最後一個元素"
   ]
  },
  {
   "cell_type": "code",
   "execution_count": null,
   "id": "67c2a09d",
   "metadata": {},
   "outputs": [],
   "source": [
    "sci_fi = ['Alien','Inception','The Martian','Blade Runner','Back to furtur','Arrival','Moon','Looper']\n",
    "\n",
    "# 取的奇數 index 的元素\n",
    "print(sci_fi[1:-1:2]) \n",
    "print(sci_fi[1::2])\n",
    "\n",
    "# 取的偶數 index 的元素\n",
    "print(sci_fi[:-1:2])\n",
    "print(sci_fi[::2])   "
   ]
  },
  {
   "cell_type": "markdown",
   "id": "81c4da91",
   "metadata": {},
   "source": [
    "## 新增 List 的元素\n",
    "- list_name.append(object)"
   ]
  },
  {
   "cell_type": "code",
   "execution_count": null,
   "id": "067c9766",
   "metadata": {},
   "outputs": [],
   "source": [
    "songs = ['stay','She','Forever Young']\n",
    "print(songs)"
   ]
  },
  {
   "cell_type": "code",
   "execution_count": null,
   "id": "05c2c6ad",
   "metadata": {},
   "outputs": [],
   "source": [
    "songs.append('Tomorrow')\n",
    "print(songs)"
   ]
  },
  {
   "cell_type": "markdown",
   "id": "6e517f7d",
   "metadata": {},
   "source": [
    "## 插入元素至 List\n",
    "- list_name.insert(position,object)"
   ]
  },
  {
   "cell_type": "code",
   "execution_count": null,
   "id": "0e6dba9b",
   "metadata": {},
   "outputs": [],
   "source": [
    "songs.insert(1,'classicriver')\n",
    "print(songs)"
   ]
  },
  {
   "cell_type": "markdown",
   "id": "00d213aa",
   "metadata": {},
   "source": [
    "## 將 List2 擴展至 List1 \n",
    "- List1.extend(List2)"
   ]
  },
  {
   "cell_type": "code",
   "execution_count": null,
   "id": "51b02b1b",
   "metadata": {},
   "outputs": [],
   "source": [
    "fruits1 = ['guava','litchi','pear']\n",
    "fruits2 = ['banana','papaya','mango']\n",
    "fruits1.extend(fruits2)\n",
    "print(fruits1)"
   ]
  },
  {
   "cell_type": "code",
   "execution_count": null,
   "id": "46f470e3",
   "metadata": {},
   "outputs": [],
   "source": [
    "# 比較 append() 方法\n",
    "fruits1 = ['guava','litchi','pear']\n",
    "fruits2 = ['banana','papaya','mango']\n",
    "fruits1.append(fruits2)\n",
    "print(fruits1)"
   ]
  },
  {
   "cell_type": "code",
   "execution_count": null,
   "id": "2be4e8db",
   "metadata": {},
   "outputs": [],
   "source": [
    "# 比較 insert() 方法\n",
    "fruits1 = ['guava','litchi','pear']\n",
    "fruits2 = ['banana','papaya','mango']\n",
    "fruits1.insert(1,fruits2)\n",
    "print(fruits1)"
   ]
  },
  {
   "cell_type": "code",
   "execution_count": null,
   "id": "5762e17d",
   "metadata": {},
   "outputs": [],
   "source": [
    "# 使用加法\n",
    "fruits1 = ['guava','litchi','pear']\n",
    "fruits2 = ['banana','papaya','mango']\n",
    "fruits3 = fruits1+fruits2\n",
    "print(fruits3)"
   ]
  },
  {
   "cell_type": "markdown",
   "id": "22760627",
   "metadata": {},
   "source": [
    "## 移除 List 裡面的元素\n",
    "- list_name.remove(element)"
   ]
  },
  {
   "cell_type": "code",
   "execution_count": null,
   "id": "5b3a5351",
   "metadata": {},
   "outputs": [],
   "source": [
    "fruits = ['guava', 'litchi', 'pear', 'banana', 'papaya', 'mango'] \n",
    "fruits.remove('litchi')\n",
    "print(fruits)"
   ]
  },
  {
   "cell_type": "markdown",
   "id": "60863f78",
   "metadata": {},
   "source": [
    "## 清空 List 的元素\n",
    "- list_name.clear()"
   ]
  },
  {
   "cell_type": "code",
   "execution_count": null,
   "id": "fd29d2b1",
   "metadata": {},
   "outputs": [],
   "source": [
    "fruits = ['guava', 'litchi', 'pear', 'banana', 'papaya', 'mango'] \n",
    "fruits.clear()\n",
    "print(fruits)"
   ]
  },
  {
   "cell_type": "markdown",
   "id": "0aaff6f7",
   "metadata": {},
   "source": [
    "## 移除 List 的最後一個元素\n",
    "- list_name.pop()\n",
    "- 預設移除 List 最後一個值，並回傳被移除的值\n",
    "- pop() 經常用於資料結構中，處理陣列之常見方式 (ex:stack、queue) 之實現方法"
   ]
  },
  {
   "cell_type": "code",
   "execution_count": null,
   "id": "a21d25dc",
   "metadata": {},
   "outputs": [],
   "source": [
    "fruits = ['guava', 'litchi', 'pear', 'banana', 'papaya', 'mango'] \n",
    "popped = fruits.pop()\n",
    "print(popped)\n",
    "print(fruits)"
   ]
  },
  {
   "cell_type": "markdown",
   "id": "84216354",
   "metadata": {},
   "source": [
    "## 排序\n",
    "- sorted(List_name) :排序並建新的 List，原本的 List 不受影響\n",
    "- List_name.sort() :直接改變 List 內容，不會回傳新的值\n",
    "- List_name.sort(reverse=True)"
   ]
  },
  {
   "cell_type": "code",
   "execution_count": null,
   "id": "3c8e3018",
   "metadata": {},
   "outputs": [],
   "source": [
    "x = [1,5,3,7,3]\n",
    "print(sorted(x)) \n",
    "print(x)"
   ]
  },
  {
   "cell_type": "code",
   "execution_count": null,
   "id": "866c2551",
   "metadata": {},
   "outputs": [],
   "source": [
    "x = [1,5,3,7,3]\n",
    "print(x.sort())   \n",
    "print(x)"
   ]
  },
  {
   "cell_type": "code",
   "execution_count": null,
   "id": "ac3fcea7",
   "metadata": {},
   "outputs": [],
   "source": [
    "x = [1,5,3,7,3]\n",
    "x.sort(reverse=True)\n",
    "print(x)"
   ]
  },
  {
   "cell_type": "markdown",
   "id": "b948233f",
   "metadata": {},
   "source": [
    "## 反轉列表\n",
    "- List_name.reverse()"
   ]
  },
  {
   "cell_type": "code",
   "execution_count": null,
   "id": "2de43e29",
   "metadata": {},
   "outputs": [],
   "source": [
    "x = [1,5,3,7,3]\n",
    "x.reverse()\n",
    "print(x)"
   ]
  },
  {
   "cell_type": "markdown",
   "id": "e465a219",
   "metadata": {},
   "source": [
    "## 尋找該值在 List 出現幾次\n",
    "- List_name.count(element)"
   ]
  },
  {
   "cell_type": "code",
   "execution_count": null,
   "id": "1ee06853",
   "metadata": {},
   "outputs": [],
   "source": [
    "x = [1,5,3,7,3]\n",
    "print(x.count(3))"
   ]
  },
  {
   "cell_type": "markdown",
   "id": "48faebcd",
   "metadata": {},
   "source": [
    "## 尋找該值的最大最小值\n",
    "- 最大值: max(List)\n",
    "- 最小值: min(List)"
   ]
  },
  {
   "cell_type": "code",
   "execution_count": null,
   "id": "f435361c",
   "metadata": {},
   "outputs": [],
   "source": [
    "print(max(15,32,41,52,60))\n",
    "print(min(23,43,54,22,56))\n",
    "print(max([15,32,41,52,60]))\n",
    "print(min([23,43,54,22,56]))"
   ]
  },
  {
   "cell_type": "code",
   "execution_count": null,
   "id": "11ba651c",
   "metadata": {},
   "outputs": [],
   "source": [
    "list1 = [15,32,41,52,60]\n",
    "list2 = [23,43,54,22,56]\n",
    "print(max(list1))\n",
    "print(min(list2))"
   ]
  },
  {
   "cell_type": "markdown",
   "id": "6891b300",
   "metadata": {},
   "source": [
    "## 尋找該值的 index\n",
    "- List_name.index(element)\n",
    "- 尋找第一個找到的 index 值"
   ]
  },
  {
   "cell_type": "code",
   "execution_count": null,
   "id": "94b90be1",
   "metadata": {},
   "outputs": [],
   "source": [
    "x = [1,5,3,7,3]\n",
    "print(x.index(5))"
   ]
  },
  {
   "cell_type": "markdown",
   "id": "711ae250",
   "metadata": {},
   "source": [
    "## 確認元素是否在 List 裏面\n",
    "- 使用 in 運算元 "
   ]
  },
  {
   "cell_type": "code",
   "execution_count": null,
   "id": "966b7cf3",
   "metadata": {},
   "outputs": [],
   "source": [
    "fruits = ['guava', 'litchi', 'pear', 'banana', 'papaya', 'mango'] \n",
    "print('guava' in fruits)\n",
    "print('apple' in fruits)···"
   ]
  },
  {
   "cell_type": "code",
   "execution_count": null,
   "id": "8e4e59f0",
   "metadata": {},
   "outputs": [],
   "source": []
  }
 ],
 "metadata": {
  "kernelspec": {
   "display_name": "Python 3 (ipykernel)",
   "language": "python",
   "name": "python3"
  },
  "language_info": {
   "codemirror_mode": {
    "name": "ipython",
    "version": 3
   },
   "file_extension": ".py",
   "mimetype": "text/x-python",
   "name": "python",
   "nbconvert_exporter": "python",
   "pygments_lexer": "ipython3",
   "version": "3.9.5"
  }
 },
 "nbformat": 4,
 "nbformat_minor": 5
}
