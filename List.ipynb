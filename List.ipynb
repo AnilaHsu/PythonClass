{
 "cells": [
  {
   "cell_type": "markdown",
   "id": "7752dcd9",
   "metadata": {},
   "source": [
    "# List 串列"
   ]
  },
  {
   "cell_type": "code",
   "execution_count": null,
   "id": "8baefb06",
   "metadata": {},
   "outputs": [],
   "source": [
    "# 將多個數值型態的變數存入至一個 List 中\n",
    "number1 = 1\n",
    "number2 = 3\n",
    "number3 = 5\n",
    "number4 = 7\n",
    "number5 = 9\n",
    "number6 = 11\n",
    "number7 = 13\n",
    "number8 = 15"
   ]
  },
  {
   "cell_type": "code",
   "execution_count": null,
   "id": "92998c97",
   "metadata": {},
   "outputs": [],
   "source": [
    "numbers = [1,3,5,7,9,11,13,15]\n",
    "print(numbers)\n",
    "print(type(numbers))"
   ]
  },
  {
   "cell_type": "code",
   "execution_count": null,
   "id": "f3d70902",
   "metadata": {},
   "outputs": [],
   "source": [
    "# 將多個字串型態的變數存入至一個 List 中\n",
    "movie1 =  'Alien'\n",
    "movie2 = 'Inception'\n",
    "movie3 = 'The Martian'\n",
    "movie4 = 'Blade Runner'\n",
    "movie5 = 'Back to furtur'\n",
    "movie6 = 'Arrival'\n",
    "movie7 = 'Moon'\n",
    "movie8 = 'Looper'"
   ]
  },
  {
   "cell_type": "code",
   "execution_count": null,
   "id": "b4f7d9ae",
   "metadata": {},
   "outputs": [],
   "source": [
    "sci_fi = ['Alien','Inception','The Martian','Blade Runner','Back to furtur','Arrival','Moon','Looper']"
   ]
  },
  {
   "cell_type": "code",
   "execution_count": null,
   "id": "3f9780d0",
   "metadata": {},
   "outputs": [],
   "source": [
    "print(sci_fi)"
   ]
  },
  {
   "cell_type": "code",
   "execution_count": null,
   "id": "534d7e97",
   "metadata": {},
   "outputs": [],
   "source": [
    "# 在一個 List 可存入不同型態的值\n",
    "date = [2022,'二月']\n",
    "print(date)"
   ]
  },
  {
   "cell_type": "code",
   "execution_count": null,
   "id": "5cf3322d",
   "metadata": {},
   "outputs": [],
   "source": [
    "# 查看字串的長度\n",
    "print(len(numbers))\n",
    "print(len(sci_fi))\n",
    "print(len(date))"
   ]
  },
  {
   "cell_type": "code",
   "execution_count": null,
   "id": "d96ba1f1",
   "metadata": {},
   "outputs": [],
   "source": [
    "# 修改 List 的元素\n",
    "color = ['black','grey','white']\n",
    "print(color)\n",
    "color[1] = 'blue'\n",
    "print(color)"
   ]
  },
  {
   "cell_type": "markdown",
   "id": "5b856207",
   "metadata": {},
   "source": [
    "## 取得 List 的元素\n",
    "- list[start:end:step]\n",
    "- 取得的值包含開頭但不包含結尾的 index\n",
    "- step 預設為 1"
   ]
  },
  {
   "cell_type": "code",
   "execution_count": null,
   "id": "a7b31ef6",
   "metadata": {},
   "outputs": [],
   "source": [
    "sci_fi = ['Alien','Inception','The Martian','Blade Runner','Back to furtur','Arrival','Moon','Looper']\n",
    "\n",
    "# 取得第一個元素\n",
    "print(sci_fi[0])\n",
    "\n",
    "# 取得最後一個元素\n",
    "print(sci_fi[7])\n",
    "print(sci_fi[-1])\n",
    "print(sci_fi[len(sci_fi)-1])"
   ]
  },
  {
   "cell_type": "code",
   "execution_count": null,
   "id": "33c1ef6d",
   "metadata": {},
   "outputs": [],
   "source": [
    "# 取得第一個至第五個的元素\n",
    "print(sci_fi[0:5])\n",
    "print(sci_fi[:5])\n",
    "\n",
    "# 取得第五個至最後一個元素 \n",
    "print(sci_fi[4:8])\n",
    "print(sci_fi[4:])\n",
    "print(sci_fi[4:len(sci_fi)]) "
   ]
  },
  {
   "cell_type": "code",
   "execution_count": null,
   "id": "7b7353d0",
   "metadata": {},
   "outputs": [],
   "source": [
    "# 比較\n",
    "print(sci_fi[1:-1]) # 不包含倒數最後一個\n",
    "print(sci_fi[1:])   # 包含最後一個元素"
   ]
  },
  {
   "cell_type": "code",
   "execution_count": null,
   "id": "ef1dd2ad",
   "metadata": {},
   "outputs": [],
   "source": [
    "sci_fi = ['Alien','Inception','The Martian','Blade Runner','Back to furtur','Arrival','Moon','Looper']\n",
    "\n",
    "# 取的奇數 index 的元素\n",
    "print(sci_fi[1:-1:2]) \n",
    "print(sci_fi[1::2])\n",
    "\n",
    "# 取的偶數 index 的元素\n",
    "print(sci_fi[:-1:2])\n",
    "print(sci_fi[::2])   "
   ]
  },
  {
   "cell_type": "markdown",
   "id": "80406789",
   "metadata": {},
   "source": [
    "## 新增 List 的元素\n",
    "- list_name.append(object)"
   ]
  },
  {
   "cell_type": "code",
   "execution_count": null,
   "id": "eac8cd28",
   "metadata": {},
   "outputs": [],
   "source": [
    "songs = ['stay','She','Forever Young']\n",
    "print(songs)"
   ]
  },
  {
   "cell_type": "code",
   "execution_count": null,
   "id": "7d125cf3",
   "metadata": {},
   "outputs": [],
   "source": [
    "songs.append('Tomorrow')\n",
    "print(songs)"
   ]
  },
  {
   "cell_type": "markdown",
   "id": "6a382f36",
   "metadata": {},
   "source": [
    "## 插入元素至 List\n",
    "- list_name.insert(position,object)"
   ]
  },
  {
   "cell_type": "code",
   "execution_count": null,
   "id": "d6a29606",
   "metadata": {},
   "outputs": [],
   "source": [
    "songs.insert(1,'classicriver')\n",
    "print(songs)"
   ]
  },
  {
   "cell_type": "markdown",
   "id": "bc01c40a",
   "metadata": {},
   "source": [
    "## 將 List2 擴展至 List1 \n",
    "- List1.extend(List2)"
   ]
  },
  {
   "cell_type": "code",
   "execution_count": null,
   "id": "7af2cf87",
   "metadata": {},
   "outputs": [],
   "source": [
    "fruits1 = ['guava','litchi','pear']\n",
    "fruits2 = ['banana','papaya','mango']\n",
    "fruits1.extend(fruits2)\n",
    "print(fruits1)"
   ]
  },
  {
   "cell_type": "code",
   "execution_count": null,
   "id": "d6bb5755",
   "metadata": {},
   "outputs": [],
   "source": [
    "# 比較 append() 方法\n",
    "fruits1 = ['guava','litchi','pear']\n",
    "fruits2 = ['banana','papaya','mango']\n",
    "fruits1.append(fruits2)\n",
    "print(fruits1)"
   ]
  },
  {
   "cell_type": "code",
   "execution_count": null,
   "id": "2feb0246",
   "metadata": {},
   "outputs": [],
   "source": [
    "# 比較 insert() 方法\n",
    "fruits1 = ['guava','litchi','pear']\n",
    "fruits2 = ['banana','papaya','mango']\n",
    "fruits1.insert(1,fruits2)\n",
    "print(fruits1)"
   ]
  },
  {
   "cell_type": "code",
   "execution_count": null,
   "id": "97a14a4a",
   "metadata": {},
   "outputs": [],
   "source": [
    "# 使用加法\n",
    "fruits1 = ['guava','litchi','pear']\n",
    "fruits2 = ['banana','papaya','mango']\n",
    "fruits3 = fruits1+fruits2\n",
    "print(fruits3)"
   ]
  },
  {
   "cell_type": "markdown",
   "id": "acfbdb4c",
   "metadata": {},
   "source": [
    "## 移除 List 裡面的元素\n",
    "- list_name.remove(object)"
   ]
  },
  {
   "cell_type": "code",
   "execution_count": null,
   "id": "e264bdb3",
   "metadata": {},
   "outputs": [],
   "source": [
    "fruits3 = ['guava', 'litchi', 'pear', 'banana', 'papaya', 'mango'] \n",
    "fruits3.remove('litchi')\n",
    "print(fruits3)"
   ]
  },
  {
   "cell_type": "markdown",
   "id": "a89ebad9",
   "metadata": {},
   "source": [
    "## 清空 List 的元素\n",
    "- list_name.clear()"
   ]
  },
  {
   "cell_type": "code",
   "execution_count": null,
   "id": "192a3733",
   "metadata": {},
   "outputs": [],
   "source": [
    "fruits3 = ['guava', 'litchi', 'pear', 'banana', 'papaya', 'mango'] \n",
    "fruits3.clear()\n",
    "print(fruits3)"
   ]
  },
  {
   "cell_type": "markdown",
   "id": "ba3b4348",
   "metadata": {},
   "source": [
    "## 移除 List 的最後一個元素\n",
    "- list_name.pop()\n",
    "- 預設移除 List 最後一個值，並回傳被移除的值\n",
    "- pop() 經常用於資料結構中，處理陣列之常見方式 (ex:stack、queue) 之實現方法"
   ]
  },
  {
   "cell_type": "code",
   "execution_count": null,
   "id": "9dd33321",
   "metadata": {},
   "outputs": [],
   "source": [
    "fruits3 = ['guava', 'litchi', 'pear', 'banana', 'papaya', 'mango'] \n",
    "popped = fruits3.pop()\n",
    "print(popped)\n",
    "print(fruits3)"
   ]
  },
  {
   "cell_type": "code",
   "execution_count": null,
   "id": "509ea9bb",
   "metadata": {},
   "outputs": [],
   "source": []
  },
  {
   "cell_type": "code",
   "execution_count": null,
   "id": "85403fa7",
   "metadata": {},
   "outputs": [],
   "source": []
  }
 ],
 "metadata": {
  "kernelspec": {
   "display_name": "Python 3 (ipykernel)",
   "language": "python",
   "name": "python3"
  },
  "language_info": {
   "codemirror_mode": {
    "name": "ipython",
    "version": 3
   },
   "file_extension": ".py",
   "mimetype": "text/x-python",
   "name": "python",
   "nbconvert_exporter": "python",
   "pygments_lexer": "ipython3",
   "version": "3.9.5"
  }
 },
 "nbformat": 4,
 "nbformat_minor": 5
}
