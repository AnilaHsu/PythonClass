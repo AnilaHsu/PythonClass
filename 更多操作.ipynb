{
 "cells": [
  {
   "cell_type": "markdown",
   "id": "3fba2e42",
   "metadata": {},
   "source": [
    "## 排序\n",
    "- sorted(List_name) :排序並建新的 List，原本的 List 不受影響\n",
    "- List_name.sort() :直接改變 List 內容，不會回傳新的值\n",
    "- List_name.sort(reverse=True)"
   ]
  },
  {
   "cell_type": "code",
   "execution_count": 1,
   "id": "4cff1f27",
   "metadata": {},
   "outputs": [
    {
     "name": "stdout",
     "output_type": "stream",
     "text": [
      "[1, 3, 3, 5, 7]\n",
      "[1, 5, 3, 7, 3]\n"
     ]
    }
   ],
   "source": [
    "x = [1,5,3,7,3]\n",
    "print(sorted(x)) \n",
    "print(x)"
   ]
  },
  {
   "cell_type": "code",
   "execution_count": 2,
   "id": "0a3deaba",
   "metadata": {},
   "outputs": [
    {
     "name": "stdout",
     "output_type": "stream",
     "text": [
      "None\n",
      "[1, 3, 3, 5, 7]\n"
     ]
    }
   ],
   "source": [
    "x = [1,5,3,7,3]\n",
    "print(x.sort())\n",
    "print(x)"
   ]
  },
  {
   "cell_type": "code",
   "execution_count": 3,
   "id": "fdbbfb4d",
   "metadata": {},
   "outputs": [
    {
     "name": "stdout",
     "output_type": "stream",
     "text": [
      "[7, 5, 3, 3, 1]\n"
     ]
    }
   ],
   "source": [
    "x = [1,5,3,7,3]\n",
    "x.sort(reverse=True)\n",
    "print(x)"
   ]
  },
  {
   "cell_type": "markdown",
   "id": "0f5d50ee",
   "metadata": {},
   "source": [
    "## 反轉列表\n",
    "- List_name.reverse()"
   ]
  },
  {
   "cell_type": "markdown",
   "id": "d4353c56",
   "metadata": {},
   "source": [
    "## 尋找該值的 index\n",
    "- List_name.index()\n",
    "- 尋找第一個找到的 index 值"
   ]
  },
  {
   "cell_type": "markdown",
   "id": "96da60bc",
   "metadata": {},
   "source": [
    "## 尋找該值在 List 出現幾次\n",
    "- List_name.count()"
   ]
  }
 ],
 "metadata": {
  "kernelspec": {
   "display_name": "Python 3 (ipykernel)",
   "language": "python",
   "name": "python3"
  },
  "language_info": {
   "codemirror_mode": {
    "name": "ipython",
    "version": 3
   },
   "file_extension": ".py",
   "mimetype": "text/x-python",
   "name": "python",
   "nbconvert_exporter": "python",
   "pygments_lexer": "ipython3",
   "version": "3.9.5"
  }
 },
 "nbformat": 4,
 "nbformat_minor": 5
}
