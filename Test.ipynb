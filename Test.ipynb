{
 "cells": [
  {
   "cell_type": "code",
   "execution_count": 13,
   "id": "75d75f23",
   "metadata": {},
   "outputs": [
    {
     "name": "stdout",
     "output_type": "stream",
     "text": [
      "deque([])\n"
     ]
    }
   ],
   "source": [
    "from collections import deque\n",
    "x = deque()\n",
    "y = 'hello'\n",
    "print(x)\n",
    "print(not x)\n",
    "    "
   ]
  },
  {
   "cell_type": "code",
   "execution_count": 15,
   "id": "02f4678c",
   "metadata": {},
   "outputs": [
    {
     "name": "stdout",
     "output_type": "stream",
     "text": [
      "exit!\n"
     ]
    }
   ],
   "source": [
    "s='hello'\n",
    "\n",
    "if 'e' not in s:\n",
    "    print('not exist!')\n",
    "else:\n",
    "    print('exit!')"
   ]
  },
  {
   "cell_type": "code",
   "execution_count": 16,
   "id": "59220710",
   "metadata": {},
   "outputs": [
    {
     "name": "stdout",
     "output_type": "stream",
     "text": [
      "exist!\n"
     ]
    }
   ],
   "source": [
    "if 'e' in s:\n",
    "    print('exist!')\n",
    "else:\n",
    "    print('not exit!')"
   ]
  },
  {
   "cell_type": "code",
   "execution_count": 21,
   "id": "7529109e",
   "metadata": {},
   "outputs": [
    {
     "name": "stdout",
     "output_type": "stream",
     "text": [
      "False:empty\n"
     ]
    }
   ],
   "source": [
    "listtest = []\n",
    "if listtest:\n",
    "    print('True: not empty')\n",
    "else:\n",
    "    print('False: empty')"
   ]
  },
  {
   "cell_type": "code",
   "execution_count": 23,
   "id": "ed25876d",
   "metadata": {},
   "outputs": [
    {
     "name": "stdout",
     "output_type": "stream",
     "text": [
      "True: empty\n"
     ]
    }
   ],
   "source": [
    "listtest = []\n",
    "if not listtest:\n",
    "    print('True: empty')\n",
    "else:\n",
    "    print('False: not empty')"
   ]
  },
  {
   "cell_type": "code",
   "execution_count": 24,
   "id": "74bd3150",
   "metadata": {},
   "outputs": [
    {
     "name": "stdout",
     "output_type": "stream",
     "text": [
      "True: have el\n"
     ]
    }
   ],
   "source": [
    "listtest = [1]\n",
    "if listtest:\n",
    "    print('True: have el')\n",
    "else:\n",
    "    print('False: not have el')"
   ]
  },
  {
   "cell_type": "code",
   "execution_count": 25,
   "id": "e3d07cd1",
   "metadata": {},
   "outputs": [
    {
     "name": "stdout",
     "output_type": "stream",
     "text": [
      "False:\n"
     ]
    }
   ],
   "source": [
    "listtest = [1]\n",
    "if not listtest:\n",
    "    print('True: ')\n",
    "else:\n",
    "    print('False:')"
   ]
  },
  {
   "cell_type": "code",
   "execution_count": 41,
   "id": "dfbe9371",
   "metadata": {},
   "outputs": [
    {
     "name": "stdout",
     "output_type": "stream",
     "text": [
      "True\n"
     ]
    }
   ],
   "source": [
    "class Solution:\n",
    "    def isValid(self, s: str) -> bool:\n",
    "        mapping = {')': '(',\n",
    "                   '}': '{',\n",
    "                   ']': '['}\n",
    "        \n",
    "        stack = []\n",
    "        for element in s:\n",
    "            if stack == []:\n",
    "                stack.append(element)\n",
    "                continue\n",
    "                \n",
    "            if (element in mapping) and (mapping[element] == stack[-1]):\n",
    "                _ = stack.pop()\n",
    "            elif (element in mapping) and (mapping[element] != stack[-1]):\n",
    "                stack.append(element)\n",
    "            else:\n",
    "                stack.append(element)\n",
    "                \n",
    "        if stack == []:\n",
    "            return True\n",
    "        else:\n",
    "            return False\n",
    "\n",
    "    s = '{[{()}]}{}'\n",
    "    x = isValid(s,s)\n",
    "    print(x)"
   ]
  },
  {
   "cell_type": "code",
   "execution_count": null,
   "id": "c2f0349d",
   "metadata": {},
   "outputs": [],
   "source": []
  }
 ],
 "metadata": {
  "kernelspec": {
   "display_name": "Python 3 (ipykernel)",
   "language": "python",
   "name": "python3"
  },
  "language_info": {
   "codemirror_mode": {
    "name": "ipython",
    "version": 3
   },
   "file_extension": ".py",
   "mimetype": "text/x-python",
   "name": "python",
   "nbconvert_exporter": "python",
   "pygments_lexer": "ipython3",
   "version": "3.9.5"
  }
 },
 "nbformat": 4,
 "nbformat_minor": 5
}
