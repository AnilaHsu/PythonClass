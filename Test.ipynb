{
 "cells": [
  {
   "cell_type": "code",
   "execution_count": null,
   "id": "200a5e3d",
   "metadata": {},
   "outputs": [],
   "source": [
    "# 屬性、方法差異"
   ]
  },
  {
   "cell_type": "code",
   "execution_count": null,
   "id": "38a8fea8",
   "metadata": {},
   "outputs": [],
   "source": [
    "# 補充 數值運算"
   ]
  },
  {
   "cell_type": "code",
   "execution_count": null,
   "id": "81535ab7",
   "metadata": {},
   "outputs": [],
   "source": [
    "## 數值格式化\n",
    "# 使用:後面為總字元寬度，用於對齊\n",
    "# 字串向左對齊(空白補在後);數值向右對齊(空白補在前面)\n",
    "\n",
    "table = {'Sjoer': 41275678901, 'Jack': 4098, 'Dcab': 7678}\n",
    "\n",
    "print()\n",
    "\n",
    "for name, phone in table.items():\n",
    "    print(f'{name:5s}==>{phone:5}')   # string\n",
    "\n",
    "print()\n",
    "\n",
    "for name, phone in table.items():\n",
    "    print(f'{name:5}==>{phone:16f}') # float\n",
    "\n",
    "print()\n",
    "\n",
    "for name, phone in table.items():\n",
    "    print(f'{name:5}==>{phone:5d}') # decimal\n",
    "\n",
    "print()\n",
    "\n",
    "for name, phone in table.items():\n",
    "    print(f'{name:5}==>{phone:5x}') # hex"
   ]
  },
  {
   "cell_type": "code",
   "execution_count": null,
   "id": "674ffa89",
   "metadata": {},
   "outputs": [],
   "source": [
    "# 字串格式化: 字串使用 s ; 整數使用 d/f/x ; 浮點數使用 f\n",
    "# 字串不能轉 d、f、x ; 整數不能轉 s ; 浮點數不能轉 s、d、x\n",
    "print(\"{}\".format(3.1415926))\n",
    "print(\"{:.2f}\".format(3.1415926))\n",
    "print(format(3.1415926,'.2f'))"
   ]
  },
  {
   "cell_type": "code",
   "execution_count": null,
   "id": "18bfc3a4",
   "metadata": {},
   "outputs": [],
   "source": [
    "print(format(2))\n",
    "print(format(2,'2'))\n",
    "print(format(2,'2d'))\n",
    "print(format(2,'.3f'))\n",
    "print(format(2,'2f'))\n",
    "print(format(12345,'5x'))\n",
    "print(format(2))\n",
    "print(len(format('abcde','8')))"
   ]
  },
  {
   "cell_type": "code",
   "execution_count": null,
   "id": "f30d6201",
   "metadata": {},
   "outputs": [],
   "source": [
    "# 使用「!a」套用 ascii()，「!s」套用 str()，「!r」套用 repr()：\n",
    "\n",
    "animals = 'eels'\n",
    "print(f'My hovercraft is full of {animals}.')\n",
    "print(f'My hovercraft is full of {animals!a}.')\n",
    "print(f'My hovercraft is full of {animals!r}.')\n"
   ]
  },
  {
   "cell_type": "code",
   "execution_count": null,
   "id": "3b6d6089",
   "metadata": {},
   "outputs": [],
   "source": []
  },
  {
   "cell_type": "code",
   "execution_count": null,
   "id": "33125282",
   "metadata": {},
   "outputs": [],
   "source": [
    "# 補充 input "
   ]
  },
  {
   "cell_type": "code",
   "execution_count": null,
   "id": "9e935b05",
   "metadata": {},
   "outputs": [],
   "source": [
    "# 使用 input() 與 open() 開啟檔案\n",
    "\n",
    "file_name = input('請輸入檔名')\n",
    "open(file_name,'w')"
   ]
  },
  {
   "cell_type": "code",
   "execution_count": null,
   "id": "29006164",
   "metadata": {},
   "outputs": [],
   "source": []
  },
  {
   "cell_type": "code",
   "execution_count": 2,
   "id": "1e235581",
   "metadata": {},
   "outputs": [
    {
     "name": "stdout",
     "output_type": "stream",
     "text": [
      "which fruit do you like,guava or litchi or pear? guava\n",
      "['litchi', 'pear', 'banana', 'papaya', 'mango']\n"
     ]
    }
   ],
   "source": [
    "# 補充 List \n",
    "fruits = ['guava', 'litchi', 'pear', 'banana', 'papaya', 'mango'] \n",
    "x = input('which fruit do you like,guava or litchi or pear? ')\n",
    "fruits.remove(x)\n",
    "print(fruits)"
   ]
  },
  {
   "cell_type": "markdown",
   "id": "0fd3c329",
   "metadata": {},
   "source": [
    "## List 與 String\n",
    "- List 元素合併成 String: 'seperate'.join(List_name)\n",
    "- 將 String 分離成一個 List 中的不同元素: string.split('seperate')\n",
    "    * strnig.split('seperate') 若無指定 seperate，預設以空白區隔"
   ]
  },
  {
   "cell_type": "code",
   "execution_count": 14,
   "id": "470bee9d",
   "metadata": {},
   "outputs": [
    {
     "name": "stdout",
     "output_type": "stream",
     "text": [
      "guava,litchi,pear,banana,papaya,mango\n",
      "guavalitchipearbananapapayamango\n"
     ]
    }
   ],
   "source": [
    "fruits = ['guava', 'litchi', 'pear', 'banana', 'papaya', 'mango']\n",
    "\n",
    "string1 = ','.join(fruits)\n",
    "print(string1)"
   ]
  },
  {
   "cell_type": "code",
   "execution_count": 16,
   "id": "eeb5d470",
   "metadata": {},
   "outputs": [
    {
     "ename": "TypeError",
     "evalue": "sequence item 0: expected str instance, list found",
     "output_type": "error",
     "traceback": [
      "\u001b[0;31m---------------------------------------------------------------------------\u001b[0m",
      "\u001b[0;31mTypeError\u001b[0m                                 Traceback (most recent call last)",
      "\u001b[0;32m/var/folders/rq/kwbpmjpx34330vb83n98l_8m0000gp/T/ipykernel_83915/1673414544.py\u001b[0m in \u001b[0;36m<module>\u001b[0;34m\u001b[0m\n\u001b[1;32m      1\u001b[0m \u001b[0mfruits2\u001b[0m \u001b[0;34m=\u001b[0m \u001b[0;34m[\u001b[0m\u001b[0;34m[\u001b[0m\u001b[0;34m'guava'\u001b[0m\u001b[0;34m]\u001b[0m\u001b[0;34m,\u001b[0m \u001b[0;34m[\u001b[0m\u001b[0;34m'banana'\u001b[0m\u001b[0;34m]\u001b[0m\u001b[0;34m,\u001b[0m \u001b[0;34m[\u001b[0m\u001b[0;34m'papaya'\u001b[0m\u001b[0;34m]\u001b[0m\u001b[0;34m,\u001b[0m \u001b[0;34m[\u001b[0m\u001b[0;34m'mango'\u001b[0m\u001b[0;34m]\u001b[0m\u001b[0;34m,\u001b[0m \u001b[0;34m[\u001b[0m\u001b[0;34m'litchi'\u001b[0m\u001b[0;34m]\u001b[0m\u001b[0;34m,\u001b[0m \u001b[0;34m[\u001b[0m\u001b[0;34m'pear'\u001b[0m\u001b[0;34m]\u001b[0m\u001b[0;34m]\u001b[0m\u001b[0;34m\u001b[0m\u001b[0;34m\u001b[0m\u001b[0m\n\u001b[0;32m----> 2\u001b[0;31m \u001b[0mprint\u001b[0m\u001b[0;34m(\u001b[0m\u001b[0;34m','\u001b[0m\u001b[0;34m.\u001b[0m\u001b[0mjoin\u001b[0m\u001b[0;34m(\u001b[0m\u001b[0mfruits2\u001b[0m\u001b[0;34m)\u001b[0m\u001b[0;34m)\u001b[0m\u001b[0;34m\u001b[0m\u001b[0;34m\u001b[0m\u001b[0m\n\u001b[0m\u001b[1;32m      3\u001b[0m \u001b[0mprint\u001b[0m\u001b[0;34m(\u001b[0m\u001b[0mfruits2\u001b[0m\u001b[0;34m)\u001b[0m\u001b[0;34m\u001b[0m\u001b[0;34m\u001b[0m\u001b[0m\n",
      "\u001b[0;31mTypeError\u001b[0m: sequence item 0: expected str instance, list found"
     ]
    }
   ],
   "source": [
    "fruits2 = [['guava'], ['banana'], ['papaya'], ['mango'], ['litchi'], ['pear']]\n",
    "print(','.join(fruits2))\n",
    "print(fruits2)"
   ]
  },
  {
   "cell_type": "code",
   "execution_count": 35,
   "id": "6cf5443d",
   "metadata": {},
   "outputs": [
    {
     "name": "stdout",
     "output_type": "stream",
     "text": [
      "['guava', 'banana,papaya,mango', 'litchi', 'pear']\n"
     ]
    }
   ],
   "source": [
    "fruits = ['guava', ['banana', 'papaya', 'mango'], 'litchi', 'pear']\n",
    "list1 = []\n",
    "\n",
    "for fruit in fruits:\n",
    "    if type(fruit) == str:\n",
    "        list1.append(fruit)\n",
    "    elif type(fruit) == list:\n",
    "        list1.append(','.join(fruit))\n",
    "print(list1)\n",
    "    "
   ]
  },
  {
   "cell_type": "code",
   "execution_count": 36,
   "id": "24e3a93d",
   "metadata": {},
   "outputs": [
    {
     "name": "stdout",
     "output_type": "stream",
     "text": [
      "['guava', 'banana', 'papaya', 'mango', 'litchi', 'pear']\n"
     ]
    }
   ],
   "source": [
    "fruits = ['guava', ['banana', 'papaya', 'mango'], 'litchi', 'pear']\n",
    "list1 = []\n",
    "\n",
    "for fruit in fruits:\n",
    "    if type(fruit) == str:\n",
    "        list1.append(fruit)\n",
    "    elif type(fruit) == list:\n",
    "        list1.extend(fruit)\n",
    "print(list1)"
   ]
  },
  {
   "cell_type": "code",
   "execution_count": 18,
   "id": "611384ec",
   "metadata": {},
   "outputs": [
    {
     "name": "stdout",
     "output_type": "stream",
     "text": [
      "['guava', 'litchi', 'pear', 'banana', 'papaya', 'mango']\n",
      "['g', 'u', 'a', 'v', 'a', 'banana', 'papaya', 'mango', 'l', 'i', 't', 'c', 'h', 'i', 'p', 'e', 'a', 'r']\n"
     ]
    }
   ],
   "source": [
    "from itertools import chain\n",
    "\n",
    "fruits = [['guava', 'litchi', 'pear', 'banana', 'papaya', 'mango']]\n",
    "list_flat1 = list(chain(*fruits))\n",
    "print(list_flat1)\n",
    "\n",
    "fruits2 = ['guava', ['banana', 'papaya', 'mango'], 'litchi', 'pear']\n",
    "list_flat2 = list(chain(*fruits2))\n",
    "print(list_flat2)"
   ]
  },
  {
   "cell_type": "code",
   "execution_count": 15,
   "id": "f4abd410",
   "metadata": {},
   "outputs": [
    {
     "name": "stdout",
     "output_type": "stream",
     "text": [
      "['Sometimes,', 'if', 'you', 'stand', 'on', 'the', 'rail', 'of', 'a', 'bridge', 'and', 'lean', 'over', 'to', 'watch', 'the', 'river', 'slipping', 'slowly', 'away', 'beneath', 'you,', 'you', 'will', 'suddenly', 'know', 'everything', 'there', 'is', 'to', 'be', 'known']\n",
      "['Sometimes', ' if you stand on the rail of a bridge and lean over to watch the river slipping slowly away beneath you', ' you will suddenly know everything there is to be known']\n"
     ]
    }
   ],
   "source": [
    "# strnig.split('seperate') 若無指定 seperate，預設以空白區隔\n",
    "string = 'Sometimes, if you stand on the rail of a bridge and lean over to watch the river slipping slowly away beneath you, you will suddenly know everything there is to be known'\n",
    "list1 = string.split()\n",
    "print(list1)\n",
    "list2 = string.split(',')\n",
    "print(list2)"
   ]
  },
  {
   "cell_type": "code",
   "execution_count": 22,
   "id": "b1334d87",
   "metadata": {},
   "outputs": [
    {
     "name": "stdout",
     "output_type": "stream",
     "text": [
      "1 2 3\n",
      "1 2 3\n",
      "['1', '2', '3']\n"
     ]
    }
   ],
   "source": [
    "## 輸入數值以空白間隔！！！\n",
    "string = input()\n",
    "print(string)\n",
    "list1 = string.split()\n",
    "print(list1)\n",
    "\n",
    "# 若輸入 123，list1 = ['123']\n",
    "# 若輸入 1,2,3，list1 = ['1,2,3']\n",
    "# 若輸入 1 2 3，list1 = ['1', '2', '3']"
   ]
  },
  {
   "cell_type": "code",
   "execution_count": 25,
   "id": "3fda559a",
   "metadata": {},
   "outputs": [
    {
     "name": "stdout",
     "output_type": "stream",
     "text": [
      "1 2 3\n",
      "['1 2 3']\n"
     ]
    }
   ],
   "source": [
    "## 輸入數值以逗號間隔\n",
    "list2 = input().split(',')\n",
    "print(list2)\n",
    "\n",
    "# 若輸入123，list2 = ['123']\n",
    "# 若輸入1,2,3，list2 = ['1', '2', '3']\n",
    "# 若輸入1 2 3，list2 = ['1 2 3']"
   ]
  },
  {
   "cell_type": "code",
   "execution_count": 27,
   "id": "5726fd4a",
   "metadata": {},
   "outputs": [
    {
     "name": "stdout",
     "output_type": "stream",
     "text": [
      "1 2 3\n",
      "['1', '2', '3']\n",
      "1\n",
      "2\n",
      "3\n"
     ]
    }
   ],
   "source": [
    "## 使用 for-loop 迭代每個元素\n",
    "list3 = input('數入數值以空白區隔').split()\n",
    "print(list3)\n",
    "for i in list3:\n",
    "    print(int(i))"
   ]
  },
  {
   "cell_type": "code",
   "execution_count": 30,
   "id": "33ca0531",
   "metadata": {},
   "outputs": [
    {
     "name": "stdout",
     "output_type": "stream",
     "text": [
      "數入數值以空白區隔1 2 3\n",
      "[1, 2, 3]\n"
     ]
    }
   ],
   "source": [
    "# 簡化\n",
    "list_comprehension = [int(i) for i in input('數入數值以空白區隔 ').split()]\n",
    "print(list_comprehension)"
   ]
  },
  {
   "cell_type": "code",
   "execution_count": null,
   "id": "aebd1875",
   "metadata": {},
   "outputs": [],
   "source": []
  },
  {
   "cell_type": "code",
   "execution_count": null,
   "id": "f5a03220",
   "metadata": {},
   "outputs": [],
   "source": [
    "# 補充 Tuple"
   ]
  },
  {
   "cell_type": "code",
   "execution_count": 3,
   "id": "3891252e",
   "metadata": {},
   "outputs": [
    {
     "name": "stdout",
     "output_type": "stream",
     "text": [
      "(10, 20, 30, 40, 50)\n"
     ]
    },
    {
     "ename": "IndexError",
     "evalue": "tuple index out of range",
     "output_type": "error",
     "traceback": [
      "\u001b[0;31m---------------------------------------------------------------------------\u001b[0m",
      "\u001b[0;31mIndexError\u001b[0m                                Traceback (most recent call last)",
      "\u001b[0;32m/var/folders/rq/kwbpmjpx34330vb83n98l_8m0000gp/T/ipykernel_29815/1501595305.py\u001b[0m in \u001b[0;36m<module>\u001b[0;34m\u001b[0m\n\u001b[1;32m      3\u001b[0m \u001b[0mnumbers\u001b[0m \u001b[0;34m=\u001b[0m \u001b[0;34m(\u001b[0m\u001b[0;36m10\u001b[0m\u001b[0;34m,\u001b[0m\u001b[0;36m20\u001b[0m\u001b[0;34m,\u001b[0m\u001b[0;36m30\u001b[0m\u001b[0;34m,\u001b[0m\u001b[0;36m40\u001b[0m\u001b[0;34m,\u001b[0m\u001b[0;36m50\u001b[0m\u001b[0;34m)\u001b[0m\u001b[0;34m\u001b[0m\u001b[0;34m\u001b[0m\u001b[0m\n\u001b[1;32m      4\u001b[0m \u001b[0mprint\u001b[0m\u001b[0;34m(\u001b[0m\u001b[0mnumbers\u001b[0m\u001b[0;34m[\u001b[0m\u001b[0;36m0\u001b[0m\u001b[0;34m:\u001b[0m\u001b[0;36m10\u001b[0m\u001b[0;34m]\u001b[0m\u001b[0;34m)\u001b[0m\u001b[0;34m\u001b[0m\u001b[0;34m\u001b[0m\u001b[0m\n\u001b[0;32m----> 5\u001b[0;31m \u001b[0mprint\u001b[0m\u001b[0;34m(\u001b[0m\u001b[0mnumbers\u001b[0m\u001b[0;34m[\u001b[0m\u001b[0;36m5\u001b[0m\u001b[0;34m]\u001b[0m\u001b[0;34m)\u001b[0m\u001b[0;34m\u001b[0m\u001b[0;34m\u001b[0m\u001b[0m\n\u001b[0m",
      "\u001b[0;31mIndexError\u001b[0m: tuple index out of range"
     ]
    }
   ],
   "source": [
    "# 若取值時 index 的範圍超出:\n",
    "# 取單一元素會產生錯誤訊息;取連續元素則會取至最後一個元素\n",
    "numbers = (10,20,30,40,50)\n",
    "print(numbers[0:10])\n",
    "print(numbers[5])"
   ]
  },
  {
   "cell_type": "code",
   "execution_count": 5,
   "id": "dcb0025e",
   "metadata": {},
   "outputs": [
    {
     "name": "stdout",
     "output_type": "stream",
     "text": [
      "()\n",
      "(50,)\n"
     ]
    }
   ],
   "source": [
    "# 取得第三個到最後的元素\n",
    "numbers = (10,20,30,40,50) \n",
    "## -1 為最後一個元素，因此連續取值,含頭不含尾\n",
    "## 若連續取值時，開頭與最後的元素重複取則會取不到值\n",
    "print(numbers[4:-1])\n",
    "print(numbers[4:])"
   ]
  },
  {
   "cell_type": "code",
   "execution_count": null,
   "id": "3c2e0c55",
   "metadata": {},
   "outputs": [],
   "source": []
  },
  {
   "cell_type": "code",
   "execution_count": null,
   "id": "c3ac5756",
   "metadata": {},
   "outputs": [],
   "source": [
    "# 其他"
   ]
  },
  {
   "cell_type": "code",
   "execution_count": 13,
   "id": "75d75f23",
   "metadata": {},
   "outputs": [
    {
     "name": "stdout",
     "output_type": "stream",
     "text": [
      "deque([])\n"
     ]
    }
   ],
   "source": [
    "from collections import deque\n",
    "x = deque()\n",
    "y = 'hello'\n",
    "print(x)\n",
    "print(not x)\n",
    "    "
   ]
  },
  {
   "cell_type": "code",
   "execution_count": 15,
   "id": "02f4678c",
   "metadata": {},
   "outputs": [
    {
     "name": "stdout",
     "output_type": "stream",
     "text": [
      "exit!\n"
     ]
    }
   ],
   "source": [
    "s='hello'\n",
    "\n",
    "if 'e' not in s:\n",
    "    print('not exist!')\n",
    "else:\n",
    "    print('exit!')"
   ]
  },
  {
   "cell_type": "code",
   "execution_count": 16,
   "id": "59220710",
   "metadata": {},
   "outputs": [
    {
     "name": "stdout",
     "output_type": "stream",
     "text": [
      "exist!\n"
     ]
    }
   ],
   "source": [
    "if 'e' in s:\n",
    "    print('exist!')\n",
    "else:\n",
    "    print('not exit!')"
   ]
  },
  {
   "cell_type": "code",
   "execution_count": 21,
   "id": "7529109e",
   "metadata": {},
   "outputs": [
    {
     "name": "stdout",
     "output_type": "stream",
     "text": [
      "False:empty\n"
     ]
    }
   ],
   "source": [
    "listtest = []\n",
    "if listtest:\n",
    "    print('True: not empty')\n",
    "else:\n",
    "    print('False: empty')"
   ]
  },
  {
   "cell_type": "code",
   "execution_count": 1,
   "id": "ed25876d",
   "metadata": {},
   "outputs": [
    {
     "name": "stdout",
     "output_type": "stream",
     "text": [
      "True: empty\n"
     ]
    }
   ],
   "source": [
    "listtest = []\n",
    "if not listtest:\n",
    "    print('True: empty')\n",
    "else:\n",
    "    print('False: not empty')"
   ]
  },
  {
   "cell_type": "code",
   "execution_count": 24,
   "id": "74bd3150",
   "metadata": {},
   "outputs": [
    {
     "name": "stdout",
     "output_type": "stream",
     "text": [
      "True: have el\n"
     ]
    }
   ],
   "source": [
    "listtest = [1]\n",
    "if listtest:\n",
    "    print('True: have el')\n",
    "else:\n",
    "    print('False: not have el')"
   ]
  },
  {
   "cell_type": "code",
   "execution_count": 25,
   "id": "e3d07cd1",
   "metadata": {},
   "outputs": [
    {
     "name": "stdout",
     "output_type": "stream",
     "text": [
      "False:\n"
     ]
    }
   ],
   "source": [
    "listtest = [1]\n",
    "if not listtest:\n",
    "    print('True: ')\n",
    "else:\n",
    "    print('False:')"
   ]
  },
  {
   "cell_type": "code",
   "execution_count": 41,
   "id": "dfbe9371",
   "metadata": {},
   "outputs": [
    {
     "name": "stdout",
     "output_type": "stream",
     "text": [
      "True\n"
     ]
    }
   ],
   "source": [
    "class Solution:\n",
    "    def isValid(self, s: str) -> bool:\n",
    "        mapping = {')': '(',\n",
    "                   '}': '{',\n",
    "                   ']': '['}\n",
    "        \n",
    "        stack = []\n",
    "        for element in s:\n",
    "            if stack == []:\n",
    "                stack.append(element)\n",
    "                continue\n",
    "                \n",
    "            if (element in mapping) and (mapping[element] == stack[-1]):\n",
    "                _ = stack.pop()\n",
    "            elif (element in mapping) and (mapping[element] != stack[-1]):\n",
    "                stack.append(element)\n",
    "            else:\n",
    "                stack.append(element)\n",
    "                \n",
    "        if stack == []:\n",
    "            return True\n",
    "        else:\n",
    "            return False\n",
    "\n",
    "    s = '{[{()}]}{}'\n",
    "    x = isValid(s,s)\n",
    "    print(x)"
   ]
  },
  {
   "cell_type": "code",
   "execution_count": null,
   "id": "c2f0349d",
   "metadata": {},
   "outputs": [],
   "source": []
  }
 ],
 "metadata": {
  "kernelspec": {
   "display_name": "Python 3 (ipykernel)",
   "language": "python",
   "name": "python3"
  },
  "language_info": {
   "codemirror_mode": {
    "name": "ipython",
    "version": 3
   },
   "file_extension": ".py",
   "mimetype": "text/x-python",
   "name": "python",
   "nbconvert_exporter": "python",
   "pygments_lexer": "ipython3",
   "version": "3.9.5"
  }
 },
 "nbformat": 4,
 "nbformat_minor": 5
}
