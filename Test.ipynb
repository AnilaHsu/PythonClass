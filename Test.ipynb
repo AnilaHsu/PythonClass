{
 "cells": [
  {
   "cell_type": "code",
   "execution_count": null,
   "id": "200a5e3d",
   "metadata": {},
   "outputs": [],
   "source": [
    "# 屬性、方法差異"
   ]
  },
  {
   "cell_type": "code",
   "execution_count": null,
   "id": "31567ea3",
   "metadata": {},
   "outputs": [],
   "source": [
    "# 補充 數值運算"
   ]
  },
  {
   "cell_type": "code",
   "execution_count": null,
   "id": "e6383c25",
   "metadata": {},
   "outputs": [],
   "source": [
    "## 數值格式化\n",
    "# 使用:後面為總字元寬度，用於對齊\n",
    "# 字串向左對齊(空白補在後);數值向右對齊(空白補在前面)\n",
    "\n",
    "table = {'Sjoer': 41275678901, 'Jack': 4098, 'Dcab': 7678}\n",
    "\n",
    "print()\n",
    "\n",
    "for name, phone in table.items():\n",
    "    print(f'{name:5s}==>{phone:5}')   # string\n",
    "\n",
    "print()\n",
    "\n",
    "for name, phone in table.items():\n",
    "    print(f'{name:5}==>{phone:16f}') # float\n",
    "\n",
    "print()\n",
    "\n",
    "for name, phone in table.items():\n",
    "    print(f'{name:5}==>{phone:5d}') # decimal\n",
    "\n",
    "print()\n",
    "\n",
    "for name, phone in table.items():\n",
    "    print(f'{name:5}==>{phone:5x}') # hex"
   ]
  },
  {
   "cell_type": "code",
   "execution_count": null,
   "id": "f4e3941a",
   "metadata": {},
   "outputs": [],
   "source": [
    "# 字串格式化: 字串使用 s ; 整數使用 d/f/x ; 浮點數使用 f\n",
    "# 字串不能轉 d、f、x ; 整數不能轉 s ; 浮點數不能轉 s、d、x\n",
    "print(\"{}\".format(3.1415926))\n",
    "print(\"{:.2f}\".format(3.1415926))\n",
    "print(format(3.1415926,'.2f'))"
   ]
  },
  {
   "cell_type": "code",
   "execution_count": null,
   "id": "3d8c75de",
   "metadata": {},
   "outputs": [],
   "source": [
    "print(format(2))\n",
    "print(format(2,'2'))\n",
    "print(format(2,'2d'))\n",
    "print(format(2,'.3f'))\n",
    "print(format(2,'2f'))\n",
    "print(format(12345,'5x'))\n",
    "print(format(2))\n",
    "print(len(format('abcde','8')))"
   ]
  },
  {
   "cell_type": "code",
   "execution_count": null,
   "id": "75a8f4c2",
   "metadata": {},
   "outputs": [],
   "source": [
    "# 使用「!a」套用 ascii()，「!s」套用 str()，「!r」套用 repr()：\n",
    "\n",
    "animals = 'eels'\n",
    "print(f'My hovercraft is full of {animals}.')\n",
    "print(f'My hovercraft is full of {animals!a}.')\n",
    "print(f'My hovercraft is full of {animals!r}.')\n"
   ]
  },
  {
   "cell_type": "code",
   "execution_count": null,
   "id": "96e4ad89",
   "metadata": {},
   "outputs": [],
   "source": []
  },
  {
   "cell_type": "code",
   "execution_count": null,
   "id": "40848303",
   "metadata": {},
   "outputs": [],
   "source": [
    "# 補充 input "
   ]
  },
  {
   "cell_type": "code",
   "execution_count": 2,
   "id": "71c1967a",
   "metadata": {},
   "outputs": [
    {
     "name": "stdout",
     "output_type": "stream",
     "text": [
      "請輸入數字2\n",
      "3\n"
     ]
    }
   ],
   "source": [
    "num = int(input('請輸入數字'))\n",
    "num+=1\n",
    "print(num)"
   ]
  },
  {
   "cell_type": "code",
   "execution_count": null,
   "id": "10ded005",
   "metadata": {},
   "outputs": [],
   "source": [
    "# 簡化\n",
    "value = input('請輸入三個數值，以逗點區隔')\n",
    "print(value)\n",
    "\n",
    "a,b,c = map(int,value.split(','))\n",
    "print(a,b,c)"
   ]
  },
  {
   "cell_type": "code",
   "execution_count": null,
   "id": "054af933",
   "metadata": {},
   "outputs": [],
   "source": [
    "## 存儲多變數的值\n",
    "s,t,w = 'a','b','c'\n",
    "print(s,t,w)\n",
    "\n",
    "x,y,z = ['d','e','f']\n",
    "print(x,y,z)"
   ]
  },
  {
   "cell_type": "code",
   "execution_count": null,
   "id": "6ae7b4da",
   "metadata": {},
   "outputs": [],
   "source": [
    "# 使用 input() 與 open() 開啟檔案\n",
    "\n",
    "file_name = input('請輸入檔名')\n",
    "open(file_name,'w')"
   ]
  },
  {
   "cell_type": "code",
   "execution_count": null,
   "id": "38e4db91",
   "metadata": {},
   "outputs": [],
   "source": []
  },
  {
   "cell_type": "code",
   "execution_count": null,
   "id": "7961ed4f",
   "metadata": {},
   "outputs": [],
   "source": [
    "# 其他"
   ]
  },
  {
   "cell_type": "code",
   "execution_count": 13,
   "id": "75d75f23",
   "metadata": {},
   "outputs": [
    {
     "name": "stdout",
     "output_type": "stream",
     "text": [
      "deque([])\n"
     ]
    }
   ],
   "source": [
    "from collections import deque\n",
    "x = deque()\n",
    "y = 'hello'\n",
    "print(x)\n",
    "print(not x)\n",
    "    "
   ]
  },
  {
   "cell_type": "code",
   "execution_count": 15,
   "id": "02f4678c",
   "metadata": {},
   "outputs": [
    {
     "name": "stdout",
     "output_type": "stream",
     "text": [
      "exit!\n"
     ]
    }
   ],
   "source": [
    "s='hello'\n",
    "\n",
    "if 'e' not in s:\n",
    "    print('not exist!')\n",
    "else:\n",
    "    print('exit!')"
   ]
  },
  {
   "cell_type": "code",
   "execution_count": 16,
   "id": "59220710",
   "metadata": {},
   "outputs": [
    {
     "name": "stdout",
     "output_type": "stream",
     "text": [
      "exist!\n"
     ]
    }
   ],
   "source": [
    "if 'e' in s:\n",
    "    print('exist!')\n",
    "else:\n",
    "    print('not exit!')"
   ]
  },
  {
   "cell_type": "code",
   "execution_count": 21,
   "id": "7529109e",
   "metadata": {},
   "outputs": [
    {
     "name": "stdout",
     "output_type": "stream",
     "text": [
      "False:empty\n"
     ]
    }
   ],
   "source": [
    "listtest = []\n",
    "if listtest:\n",
    "    print('True: not empty')\n",
    "else:\n",
    "    print('False: empty')"
   ]
  },
  {
   "cell_type": "code",
   "execution_count": 1,
   "id": "ed25876d",
   "metadata": {},
   "outputs": [
    {
     "name": "stdout",
     "output_type": "stream",
     "text": [
      "True: empty\n"
     ]
    }
   ],
   "source": [
    "listtest = []\n",
    "if not listtest:\n",
    "    print('True: empty')\n",
    "else:\n",
    "    print('False: not empty')"
   ]
  },
  {
   "cell_type": "code",
   "execution_count": 24,
   "id": "74bd3150",
   "metadata": {},
   "outputs": [
    {
     "name": "stdout",
     "output_type": "stream",
     "text": [
      "True: have el\n"
     ]
    }
   ],
   "source": [
    "listtest = [1]\n",
    "if listtest:\n",
    "    print('True: have el')\n",
    "else:\n",
    "    print('False: not have el')"
   ]
  },
  {
   "cell_type": "code",
   "execution_count": 25,
   "id": "e3d07cd1",
   "metadata": {},
   "outputs": [
    {
     "name": "stdout",
     "output_type": "stream",
     "text": [
      "False:\n"
     ]
    }
   ],
   "source": [
    "listtest = [1]\n",
    "if not listtest:\n",
    "    print('True: ')\n",
    "else:\n",
    "    print('False:')"
   ]
  },
  {
   "cell_type": "code",
   "execution_count": 41,
   "id": "dfbe9371",
   "metadata": {},
   "outputs": [
    {
     "name": "stdout",
     "output_type": "stream",
     "text": [
      "True\n"
     ]
    }
   ],
   "source": [
    "class Solution:\n",
    "    def isValid(self, s: str) -> bool:\n",
    "        mapping = {')': '(',\n",
    "                   '}': '{',\n",
    "                   ']': '['}\n",
    "        \n",
    "        stack = []\n",
    "        for element in s:\n",
    "            if stack == []:\n",
    "                stack.append(element)\n",
    "                continue\n",
    "                \n",
    "            if (element in mapping) and (mapping[element] == stack[-1]):\n",
    "                _ = stack.pop()\n",
    "            elif (element in mapping) and (mapping[element] != stack[-1]):\n",
    "                stack.append(element)\n",
    "            else:\n",
    "                stack.append(element)\n",
    "                \n",
    "        if stack == []:\n",
    "            return True\n",
    "        else:\n",
    "            return False\n",
    "\n",
    "    s = '{[{()}]}{}'\n",
    "    x = isValid(s,s)\n",
    "    print(x)"
   ]
  },
  {
   "cell_type": "code",
   "execution_count": null,
   "id": "c2f0349d",
   "metadata": {},
   "outputs": [],
   "source": []
  }
 ],
 "metadata": {
  "kernelspec": {
   "display_name": "Python 3 (ipykernel)",
   "language": "python",
   "name": "python3"
  },
  "language_info": {
   "codemirror_mode": {
    "name": "ipython",
    "version": 3
   },
   "file_extension": ".py",
   "mimetype": "text/x-python",
   "name": "python",
   "nbconvert_exporter": "python",
   "pygments_lexer": "ipython3",
   "version": "3.9.5"
  }
 },
 "nbformat": 4,
 "nbformat_minor": 5
}
