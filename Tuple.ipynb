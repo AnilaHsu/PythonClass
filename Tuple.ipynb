{
 "cells": [
  {
   "cell_type": "markdown",
   "id": "801ce950",
   "metadata": {},
   "source": [
    "# Tuple"
   ]
  },
  {
   "cell_type": "markdown",
   "id": "04104357",
   "metadata": {},
   "source": [
    "## 創建 Tuple"
   ]
  },
  {
   "cell_type": "code",
   "execution_count": null,
   "id": "47f953a1",
   "metadata": {},
   "outputs": [],
   "source": [
    "numbers = (10,20,30,40,50)\n",
    "print(numbers)"
   ]
  },
  {
   "cell_type": "code",
   "execution_count": 11,
   "id": "b02c8fdd",
   "metadata": {},
   "outputs": [
    {
     "name": "stdout",
     "output_type": "stream",
     "text": [
      "10\n",
      "50\n"
     ]
    }
   ],
   "source": [
    "# 取得 Tuple 的單一元素\n",
    "numbers = (10,20,30,40,50)\n",
    "\n",
    "## 取得第一個元素\n",
    "print(numbers[0])\n",
    "\n",
    "## 取得第二筆元素\n",
    "print(numbers[-1])"
   ]
  },
  {
   "cell_type": "markdown",
   "id": "6ed9cd49",
   "metadata": {},
   "source": [
    "## 取的 Tuple 的連續元素"
   ]
  },
  {
   "cell_type": "code",
   "execution_count": 18,
   "id": "b20066b8",
   "metadata": {},
   "outputs": [
    {
     "name": "stdout",
     "output_type": "stream",
     "text": [
      "(10, 20, 30)\n",
      "(10, 20, 30)\n",
      "(30, 40)\n",
      "(30, 40, 50)\n"
     ]
    }
   ],
   "source": [
    "numbers = (10,20,30,40,50)\n",
    "\n",
    "## 取得第一個到第三個元素\n",
    "print(numbers[0:3])\n",
    "print(numbers[:3])\n",
    "\n",
    "## 取得第三個到最後的元素\n",
    "print(numbers[2:-1])\n",
    "print(numbers[2:])"
   ]
  },
  {
   "cell_type": "code",
   "execution_count": 9,
   "id": "1c2cc70f",
   "metadata": {},
   "outputs": [
    {
     "name": "stdout",
     "output_type": "stream",
     "text": [
      "5\n"
     ]
    }
   ],
   "source": [
    "# 取得 Tuple 長度\n",
    "print(len(numbers))"
   ]
  },
  {
   "cell_type": "markdown",
   "id": "eac2fc9b",
   "metadata": {},
   "source": [
    "## List vs Tuple\n",
    "- List 型態被創建可修改、新增、刪除\n",
    "- Tuple 型態被創建則不可修改、新增、刪除"
   ]
  },
  {
   "cell_type": "code",
   "execution_count": 19,
   "id": "37c2bfba",
   "metadata": {},
   "outputs": [
    {
     "ename": "TypeError",
     "evalue": "'tuple' object does not support item assignment",
     "output_type": "error",
     "traceback": [
      "\u001b[0;31m---------------------------------------------------------------------------\u001b[0m",
      "\u001b[0;31mTypeError\u001b[0m                                 Traceback (most recent call last)",
      "\u001b[0;32m/var/folders/rq/kwbpmjpx34330vb83n98l_8m0000gp/T/ipykernel_29865/3061955272.py\u001b[0m in \u001b[0;36m<module>\u001b[0;34m\u001b[0m\n\u001b[1;32m      1\u001b[0m \u001b[0mnumbers\u001b[0m \u001b[0;34m=\u001b[0m \u001b[0;34m(\u001b[0m\u001b[0;36m10\u001b[0m\u001b[0;34m,\u001b[0m\u001b[0;36m20\u001b[0m\u001b[0;34m,\u001b[0m\u001b[0;36m30\u001b[0m\u001b[0;34m,\u001b[0m\u001b[0;36m40\u001b[0m\u001b[0;34m,\u001b[0m\u001b[0;36m50\u001b[0m\u001b[0;34m)\u001b[0m\u001b[0;34m\u001b[0m\u001b[0;34m\u001b[0m\u001b[0m\n\u001b[0;32m----> 2\u001b[0;31m \u001b[0mnumbers\u001b[0m\u001b[0;34m[\u001b[0m\u001b[0;36m0\u001b[0m\u001b[0;34m]\u001b[0m \u001b[0;34m=\u001b[0m \u001b[0;36m1\u001b[0m\u001b[0;34m\u001b[0m\u001b[0;34m\u001b[0m\u001b[0m\n\u001b[0m",
      "\u001b[0;31mTypeError\u001b[0m: 'tuple' object does not support item assignment"
     ]
    }
   ],
   "source": [
    "numbers = (10,20,30,40,50)\n",
    "numbers[0] = 1"
   ]
  },
  {
   "cell_type": "markdown",
   "id": "0cf726d9",
   "metadata": {},
   "source": [
    "## Tuple 的應用\n",
    "- 防止資料被意外修改 ex：經緯度的紀錄"
   ]
  }
 ],
 "metadata": {
  "kernelspec": {
   "display_name": "Python 3 (ipykernel)",
   "language": "python",
   "name": "python3"
  },
  "language_info": {
   "codemirror_mode": {
    "name": "ipython",
    "version": 3
   },
   "file_extension": ".py",
   "mimetype": "text/x-python",
   "name": "python",
   "nbconvert_exporter": "python",
   "pygments_lexer": "ipython3",
   "version": "3.9.5"
  }
 },
 "nbformat": 4,
 "nbformat_minor": 5
}
