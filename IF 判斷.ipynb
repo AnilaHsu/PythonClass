{
 "cells": [
  {
   "cell_type": "markdown",
   "id": "869e94fc",
   "metadata": {},
   "source": [
    "# IF 判斷"
   ]
  },
  {
   "cell_type": "markdown",
   "id": "060bf071",
   "metadata": {},
   "source": [
    "## if 敘述\n",
    "- 範例:\n",
    "if condition:\n",
    "    statement"
   ]
  },
  {
   "cell_type": "code",
   "execution_count": 5,
   "id": "ce7b5d4a",
   "metadata": {},
   "outputs": [
    {
     "name": "stdout",
     "output_type": "stream",
     "text": [
      "smile\n"
     ]
    }
   ],
   "source": [
    "happy = True \n",
    "\n",
    "if happy:\n",
    "    print('Smile')"
   ]
  },
  {
   "cell_type": "code",
   "execution_count": 6,
   "id": "7f09c8f8",
   "metadata": {},
   "outputs": [],
   "source": [
    "happy = False \n",
    "\n",
    "if happy:\n",
    "    print('Smile')"
   ]
  },
  {
   "cell_type": "markdown",
   "id": "4de680c9",
   "metadata": {},
   "source": [
    "## if else 敘述\n",
    "- 範例:\n",
    "if condition:\n",
    "    statement1\n",
    "else:\n",
    "    statement2"
   ]
  },
  {
   "cell_type": "code",
   "execution_count": 29,
   "id": "a1084878",
   "metadata": {},
   "outputs": [
    {
     "name": "stdout",
     "output_type": "stream",
     "text": [
      "帶雨傘\n"
     ]
    }
   ],
   "source": [
    "rainy = True \n",
    "\n",
    "if rainy:\n",
    "    print('帶雨傘')\n",
    "else:\n",
    "    print('不帶雨傘')"
   ]
  },
  {
   "cell_type": "code",
   "execution_count": 30,
   "id": "f0d0e36f",
   "metadata": {},
   "outputs": [
    {
     "name": "stdout",
     "output_type": "stream",
     "text": [
      "不帶雨傘\n"
     ]
    }
   ],
   "source": [
    "rainy = False \n",
    "\n",
    "if rainy:\n",
    "    print('帶雨傘')\n",
    "else:\n",
    "    print('不帶雨傘')"
   ]
  },
  {
   "cell_type": "markdown",
   "id": "8b8ca752",
   "metadata": {},
   "source": [
    "## if elif else 敘述\n",
    "- 範例:\n",
    "if condition1:\n",
    "    statement1\n",
    "elif condition2:\n",
    "    statement2\n",
    "else:\n",
    "    statement3"
   ]
  },
  {
   "cell_type": "code",
   "execution_count": null,
   "id": "9677a536",
   "metadata": {},
   "outputs": [],
   "source": [
    "weather ='Sunny'\n",
    "\n",
    "if weather == 'Sunny':\n",
    "    print('The weather is sunny')\n",
    "elif weather == 'Rainy':\n",
    "    print('The weather is rainy')\n",
    "else:\n",
    "    print('The weather is cloudy')"
   ]
  },
  {
   "cell_type": "code",
   "execution_count": null,
   "id": "e51afcc9",
   "metadata": {},
   "outputs": [],
   "source": [
    "weather ='Rainy'\n",
    "\n",
    "if weather == 'Sunny':\n",
    "    print('The weather is sunny')\n",
    "elif weather == 'Rainy':\n",
    "    print('The weather is rainy')\n",
    "else:\n",
    "    print('The weather is cloudy')"
   ]
  },
  {
   "cell_type": "code",
   "execution_count": null,
   "id": "d18fd014",
   "metadata": {},
   "outputs": [],
   "source": []
  },
  {
   "cell_type": "code",
   "execution_count": null,
   "id": "2c5e7784",
   "metadata": {},
   "outputs": [],
   "source": [
    "# if 判斷與比較運算子"
   ]
  },
  {
   "cell_type": "code",
   "execution_count": null,
   "id": "01f61c28",
   "metadata": {},
   "outputs": [],
   "source": [
    "x = 95\n",
    "if x == 95:\n",
    "    print('True')\n",
    "else:\n",
    "    print('False')"
   ]
  },
  {
   "cell_type": "code",
   "execution_count": 43,
   "id": "1ea939cb",
   "metadata": {},
   "outputs": [
    {
     "name": "stdout",
     "output_type": "stream",
     "text": [
      "False\n"
     ]
    }
   ],
   "source": [
    "x = 95\n",
    "if x != 95:\n",
    "    print('True')\n",
    "else:\n",
    "    print('False')"
   ]
  },
  {
   "cell_type": "code",
   "execution_count": 24,
   "id": "ef941eb5",
   "metadata": {},
   "outputs": [
    {
     "name": "stdout",
     "output_type": "stream",
     "text": [
      "請輸入你的成績50\n",
      "Cheer up!\n"
     ]
    }
   ],
   "source": [
    "score = 90\n",
    "\n",
    "if score == 100:\n",
    "    print('Great!')\n",
    "elif score >= 80:\n",
    "    print('Good!')\n",
    "elif score >= 60:\n",
    "    print('not bad!')\n",
    "else:\n",
    "    print('Cheer up!')"
   ]
  },
  {
   "cell_type": "code",
   "execution_count": null,
   "id": "18b09c9a",
   "metadata": {},
   "outputs": [],
   "source": []
  },
  {
   "cell_type": "code",
   "execution_count": 20,
   "id": "dfc78ed0",
   "metadata": {},
   "outputs": [
    {
     "name": "stdout",
     "output_type": "stream",
     "text": [
      "passable\n"
     ]
    }
   ],
   "source": [
    "## if 判斷與邏輯運算子"
   ]
  },
  {
   "cell_type": "code",
   "execution_count": null,
   "id": "6b9a5d9e",
   "metadata": {},
   "outputs": [],
   "source": [
    "staff = True\n",
    "member = True\n",
    "\n",
    "if staff and member:\n",
    "    print('70% off')\n",
    "elif staff or member:\n",
    "    print('80% off')\n",
    "else:\n",
    "    print('90% off')"
   ]
  },
  {
   "cell_type": "code",
   "execution_count": null,
   "id": "7ba95e42",
   "metadata": {},
   "outputs": [],
   "source": [
    "staff = True\n",
    "member = False\n",
    "\n",
    "if staff and member:\n",
    "    print('70% off')\n",
    "elif staff or member:\n",
    "    print('80% off')\n",
    "else:\n",
    "    print('90% off')"
   ]
  },
  {
   "cell_type": "code",
   "execution_count": 32,
   "id": "97149f56",
   "metadata": {},
   "outputs": [
    {
     "name": "stdout",
     "output_type": "stream",
     "text": [
      "80% off\n"
     ]
    }
   ],
   "source": [
    "staff = False\n",
    "member = True\n",
    "\n",
    "if staff and member:\n",
    "    print('70% off')\n",
    "elif staff or member:\n",
    "    print('80% off')\n",
    "else:\n",
    "    print('90% off')"
   ]
  },
  {
   "cell_type": "code",
   "execution_count": 33,
   "id": "e86cffc8",
   "metadata": {},
   "outputs": [
    {
     "name": "stdout",
     "output_type": "stream",
     "text": [
      "90% off\n"
     ]
    }
   ],
   "source": [
    "staff = False\n",
    "member = False\n",
    "\n",
    "if staff and member:\n",
    "    print('70% off')\n",
    "elif staff or member:\n",
    "    print('80% off')\n",
    "else:\n",
    "    print('90% off')"
   ]
  },
  {
   "cell_type": "code",
   "execution_count": null,
   "id": "bdb03744",
   "metadata": {},
   "outputs": [],
   "source": []
  },
  {
   "cell_type": "code",
   "execution_count": null,
   "id": "ac839319",
   "metadata": {},
   "outputs": [],
   "source": [
    "## if 判斷與比較運算子、邏輯運算子"
   ]
  },
  {
   "cell_type": "code",
   "execution_count": 34,
   "id": "f8cd43a5",
   "metadata": {},
   "outputs": [
    {
     "name": "stdout",
     "output_type": "stream",
     "text": [
      "That is Ture\n"
     ]
    }
   ],
   "source": [
    "x = 1 \n",
    "y = 2\n",
    "z = 3\n",
    "if x < y and y < z :\n",
    "    print('That is Ture')\n",
    "else:\n",
    "    print('That is False')"
   ]
  },
  {
   "cell_type": "code",
   "execution_count": 44,
   "id": "5edd8fdc",
   "metadata": {},
   "outputs": [
    {
     "name": "stdout",
     "output_type": "stream",
     "text": [
      "That is False\n"
     ]
    }
   ],
   "source": [
    "x = 1 \n",
    "y = 2\n",
    "z = 3\n",
    "if x > y and x < z :\n",
    "    print('That is Ture')\n",
    "else:\n",
    "    print('That is False')"
   ]
  },
  {
   "cell_type": "code",
   "execution_count": 36,
   "id": "6b4c139b",
   "metadata": {},
   "outputs": [
    {
     "name": "stdout",
     "output_type": "stream",
     "text": [
      "That is Ture\n"
     ]
    }
   ],
   "source": [
    "x = 1 \n",
    "y = 2\n",
    "z = 3\n",
    "if x < y or y < z :\n",
    "    print('That is Ture')\n",
    "else:\n",
    "    print('That is False')"
   ]
  },
  {
   "cell_type": "code",
   "execution_count": 45,
   "id": "12afcdcd",
   "metadata": {},
   "outputs": [
    {
     "name": "stdout",
     "output_type": "stream",
     "text": [
      "That is Ture\n"
     ]
    }
   ],
   "source": [
    "x = 1 \n",
    "y = 2\n",
    "z = 3\n",
    "if x < z  or x > y :\n",
    "    print('That is Ture')\n",
    "else:\n",
    "    print('That is False')"
   ]
  },
  {
   "cell_type": "code",
   "execution_count": 51,
   "id": "9bf3b6ec",
   "metadata": {},
   "outputs": [
    {
     "name": "stdout",
     "output_type": "stream",
     "text": [
      "That is False\n"
     ]
    }
   ],
   "source": [
    "x = 1 \n",
    "y = 2\n",
    "z = 3\n",
    "if x > z or z < y :\n",
    "    print('That is Ture')\n",
    "else:\n",
    "    print('That is False')"
   ]
  },
  {
   "cell_type": "code",
   "execution_count": 47,
   "id": "953bc60a",
   "metadata": {},
   "outputs": [
    {
     "name": "stdout",
     "output_type": "stream",
     "text": [
      "That is Ture\n"
     ]
    }
   ],
   "source": [
    "x = 1 \n",
    "y = 2\n",
    "z = 3\n",
    "if x == 1 and z != 4:\n",
    "    print('That is Ture')\n",
    "else:\n",
    "    print('That is False')"
   ]
  },
  {
   "cell_type": "code",
   "execution_count": 48,
   "id": "7558b316",
   "metadata": {},
   "outputs": [
    {
     "name": "stdout",
     "output_type": "stream",
     "text": [
      "That is False\n"
     ]
    }
   ],
   "source": [
    "x = 1 \n",
    "y = 2\n",
    "z = 3\n",
    "if x == 1 and z != 3:\n",
    "    print('That is Ture')\n",
    "else:\n",
    "    print('That is False')"
   ]
  },
  {
   "cell_type": "code",
   "execution_count": 49,
   "id": "b639edd2",
   "metadata": {},
   "outputs": [
    {
     "name": "stdout",
     "output_type": "stream",
     "text": [
      "That is Ture\n"
     ]
    }
   ],
   "source": [
    "x = 1 \n",
    "y = 2\n",
    "z = 3\n",
    "if x == 1 or z != 4:\n",
    "    print('That is Ture')\n",
    "else:\n",
    "    print('That is False')"
   ]
  },
  {
   "cell_type": "code",
   "execution_count": 52,
   "id": "24b95bc7",
   "metadata": {},
   "outputs": [
    {
     "name": "stdout",
     "output_type": "stream",
     "text": [
      "That is False\n"
     ]
    }
   ],
   "source": [
    "x = 1 \n",
    "y = 2\n",
    "z = 3\n",
    "if x == 2 or z != 3:\n",
    "    print('That is Ture')\n",
    "else:\n",
    "    print('That is False')"
   ]
  },
  {
   "cell_type": "code",
   "execution_count": null,
   "id": "ca29fe3b",
   "metadata": {},
   "outputs": [],
   "source": []
  },
  {
   "cell_type": "code",
   "execution_count": null,
   "id": "5d13cb75",
   "metadata": {},
   "outputs": [],
   "source": []
  }
 ],
 "metadata": {
  "kernelspec": {
   "display_name": "Python 3 (ipykernel)",
   "language": "python",
   "name": "python3"
  },
  "language_info": {
   "codemirror_mode": {
    "name": "ipython",
    "version": 3
   },
   "file_extension": ".py",
   "mimetype": "text/x-python",
   "name": "python",
   "nbconvert_exporter": "python",
   "pygments_lexer": "ipython3",
   "version": "3.9.5"
  }
 },
 "nbformat": 4,
 "nbformat_minor": 5
}
