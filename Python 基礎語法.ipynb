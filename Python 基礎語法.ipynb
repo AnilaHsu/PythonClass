{
 "cells": [
  {
   "cell_type": "markdown",
   "id": "121200df",
   "metadata": {},
   "source": [
    "# Why learn Python"
   ]
  },
  {
   "cell_type": "code",
   "execution_count": null,
   "id": "57b02d46",
   "metadata": {},
   "outputs": [],
   "source": []
  },
  {
   "cell_type": "markdown",
   "id": "029b9c26",
   "metadata": {},
   "source": [
    "# What is jupyter notebook"
   ]
  },
  {
   "cell_type": "code",
   "execution_count": null,
   "id": "0bc31720",
   "metadata": {},
   "outputs": [],
   "source": []
  },
  {
   "cell_type": "markdown",
   "id": "1a90965d",
   "metadata": {},
   "source": [
    "# Introduction to Python"
   ]
  },
  {
   "cell_type": "markdown",
   "id": "49b6a2ac",
   "metadata": {},
   "source": [
    "## output"
   ]
  },
  {
   "cell_type": "code",
   "execution_count": null,
   "id": "c90260bd",
   "metadata": {},
   "outputs": [],
   "source": [
    "print()"
   ]
  },
  {
   "cell_type": "markdown",
   "id": "928bdfd4",
   "metadata": {},
   "source": [
    "# Python 基本的資料型態"
   ]
  },
  {
   "cell_type": "markdown",
   "id": "9297e78c",
   "metadata": {},
   "source": [
    "### 1.  str\n",
    "### 2.  int, float\n",
    "### 3.  bool"
   ]
  },
  {
   "cell_type": "markdown",
   "id": "d675b71e",
   "metadata": {},
   "source": [
    "## str\n",
    "- 可用「'」、「\"」\n",
    "- 使用「'''」將句子換行"
   ]
  },
  {
   "cell_type": "code",
   "execution_count": null,
   "id": "23e6cc63",
   "metadata": {},
   "outputs": [],
   "source": [
    "# 印出數字字串\n",
    "print('1')"
   ]
  },
  {
   "cell_type": "code",
   "execution_count": null,
   "id": "1ba7b919",
   "metadata": {},
   "outputs": [],
   "source": [
    "# 印出字母字串、字串型態\n",
    "print('The One')"
   ]
  },
  {
   "cell_type": "code",
   "execution_count": null,
   "id": "dc5b7594",
   "metadata": {},
   "outputs": [],
   "source": [
    "# 印出含引號之字串\n",
    "print(\"'Apologize' is a song by the American pop band OneRepublic.\")"
   ]
  },
  {
   "cell_type": "code",
   "execution_count": null,
   "id": "67012fdb",
   "metadata": {},
   "outputs": [],
   "source": [
    "# 將字串換行\n",
    "print('''work smart,\n",
    "        living casual. ''')"
   ]
  },
  {
   "cell_type": "markdown",
   "id": "8f5ad51b",
   "metadata": {},
   "source": [
    "## int"
   ]
  },
  {
   "cell_type": "code",
   "execution_count": null,
   "id": "b1a3b6c3",
   "metadata": {},
   "outputs": [],
   "source": [
    "# 印出整數數值、整數數值型態\n",
    "print(1)\n",
    "print(-55)"
   ]
  },
  {
   "cell_type": "code",
   "execution_count": null,
   "id": "e0edc280",
   "metadata": {},
   "outputs": [],
   "source": []
  },
  {
   "cell_type": "markdown",
   "id": "13155111",
   "metadata": {},
   "source": [
    "## float"
   ]
  },
  {
   "cell_type": "code",
   "execution_count": null,
   "id": "70a23ca5",
   "metadata": {},
   "outputs": [],
   "source": [
    "# # 印出浮點數數值、浮點數數值型態\n",
    "print(3.14159)"
   ]
  },
  {
   "cell_type": "code",
   "execution_count": null,
   "id": "0aac0f2a",
   "metadata": {},
   "outputs": [],
   "source": []
  },
  {
   "cell_type": "markdown",
   "id": "1c7a3417",
   "metadata": {},
   "source": [
    "## bool\n",
    "- 分為 True、False \n",
    "- 通常為運算的結果"
   ]
  },
  {
   "cell_type": "code",
   "execution_count": null,
   "id": "16c93206",
   "metadata": {},
   "outputs": [],
   "source": [
    "# 印出 bool\n",
    "# T 和 F 記得大寫\n",
    "print(True)\n",
    "print(False)"
   ]
  },
  {
   "cell_type": "code",
   "execution_count": null,
   "id": "4edeefa2",
   "metadata": {},
   "outputs": [],
   "source": [
    "### 使用「==」進行運算"
   ]
  },
  {
   "cell_type": "code",
   "execution_count": null,
   "id": "c5ba6aa4",
   "metadata": {},
   "outputs": [],
   "source": [
    "x=1\n",
    "y=2\n",
    "print(x==y)"
   ]
  },
  {
   "cell_type": "markdown",
   "id": "dbd31ca2",
   "metadata": {},
   "source": [
    "### type() \n",
    "- 判斷型態的重要函式\n"
   ]
  },
  {
   "cell_type": "code",
   "execution_count": null,
   "id": "41911fa2",
   "metadata": {
    "scrolled": true
   },
   "outputs": [],
   "source": [
    "print('1')\n",
    "print(type('1'))\n",
    "print('The One')\n",
    "print(type('The One'))\n",
    "print(1)\n",
    "print(type(1))\n",
    "print(-55)\n",
    "print(type(-55))\n",
    "print(3,14159)\n",
    "print(type(3.14159))\n",
    "print(True)\n",
    "print(type(True))"
   ]
  },
  {
   "cell_type": "code",
   "execution_count": null,
   "id": "341915a4",
   "metadata": {},
   "outputs": [],
   "source": [
    "### 型態轉換"
   ]
  },
  {
   "cell_type": "code",
   "execution_count": null,
   "id": "7f3efa74",
   "metadata": {},
   "outputs": [],
   "source": [
    "print('1')\n",
    "print(type('1'))\n",
    "print(int('1'))\n",
    "print(type(int('1')))\n",
    "print(float('1'))\n",
    "print(type(float('1')))"
   ]
  },
  {
   "cell_type": "code",
   "execution_count": null,
   "id": "8124ce7b",
   "metadata": {},
   "outputs": [],
   "source": [
    "print(1)\n",
    "print(type(1))\n",
    "print(str(1))\n",
    "print(type(str(1)))\n",
    "print(float(1))\n",
    "print(type(float(1)))"
   ]
  },
  {
   "cell_type": "code",
   "execution_count": null,
   "id": "76ecb2b6",
   "metadata": {},
   "outputs": [],
   "source": [
    "## 將 a 轉換成字串，並印出 a 的型態\n",
    "a = 6.43"
   ]
  },
  {
   "cell_type": "code",
   "execution_count": null,
   "id": "6232c13c",
   "metadata": {},
   "outputs": [],
   "source": []
  },
  {
   "cell_type": "markdown",
   "id": "33ed219b",
   "metadata": {},
   "source": [
    "# 變數\n",
    "- 存放資料的代數"
   ]
  },
  {
   "cell_type": "markdown",
   "id": "c7ea7d3a",
   "metadata": {},
   "source": [
    "## 宣告規則\n",
    "1. 變數的命名可以以由字母、數字、底線組合\n",
    "2. 但不能以數字開頭"
   ]
  },
  {
   "cell_type": "markdown",
   "id": "9609e4a1",
   "metadata": {},
   "source": [
    "## Assign\n",
    "- 使用「=」將值放入變數中"
   ]
  },
  {
   "cell_type": "code",
   "execution_count": null,
   "id": "cb8bf46c",
   "metadata": {},
   "outputs": [],
   "source": [
    "x = 1\n",
    "y = 'Hello'\n",
    "z = True"
   ]
  },
  {
   "cell_type": "code",
   "execution_count": null,
   "id": "b785989b",
   "metadata": {},
   "outputs": [],
   "source": [
    "print(x)\n",
    "print(y)\n",
    "print(z)"
   ]
  },
  {
   "cell_type": "code",
   "execution_count": null,
   "id": "78c9635d",
   "metadata": {},
   "outputs": [],
   "source": [
    "## 創建屬於自己的變數"
   ]
  },
  {
   "cell_type": "code",
   "execution_count": null,
   "id": "f72981ba",
   "metadata": {},
   "outputs": [],
   "source": []
  },
  {
   "cell_type": "markdown",
   "id": "1f583732",
   "metadata": {},
   "source": [
    "## 變數交換"
   ]
  },
  {
   "cell_type": "code",
   "execution_count": null,
   "id": "62e83627",
   "metadata": {},
   "outputs": [],
   "source": [
    "# 一般語言變數交換\n",
    "print('普通語言變數交換')\n",
    "a = 1\n",
    "b = 2\n",
    "print(a, b)\n",
    "\n",
    "temp = a\n",
    "a = b\n",
    "b = temp\n",
    "print(a, b)"
   ]
  },
  {
   "cell_type": "code",
   "execution_count": null,
   "id": "cc1af038",
   "metadata": {},
   "outputs": [],
   "source": [
    "# Python 兩個變數交換\n",
    "print('兩個變數交換')\n",
    "a = 1\n",
    "b = 2\n",
    "print(a, b)\n",
    "\n",
    "a, b = b, a\n",
    "print(a, b)\n"
   ]
  },
  {
   "cell_type": "code",
   "execution_count": null,
   "id": "4f05552c",
   "metadata": {},
   "outputs": [],
   "source": [
    "# Python 多個變數交換\n",
    "print('多個變數交換')\n",
    "a = 1\n",
    "b = 2\n",
    "c = 3\n",
    "print(a, b, c)\n",
    "\n",
    "c, b, a = a, b, c\n",
    "print(a, b, c)"
   ]
  },
  {
   "cell_type": "code",
   "execution_count": null,
   "id": "f9189d76",
   "metadata": {},
   "outputs": [],
   "source": []
  },
  {
   "cell_type": "code",
   "execution_count": null,
   "id": "8a2980d3",
   "metadata": {},
   "outputs": [],
   "source": [
    "# 關係運算子\n",
    "x = 1\n",
    "y = 2\n",
    "print(x == y)\n",
    "print(x != y)\n",
    "print(x > y)\n",
    "print(x < y)\n",
    "print(x >= y)\n",
    "print(x <= y)"
   ]
  },
  {
   "cell_type": "code",
   "execution_count": null,
   "id": "1b5ddf5c",
   "metadata": {},
   "outputs": [],
   "source": [
    "# 邏輯運算子\n",
    "# and\n",
    "print('and : ')\n",
    "print(True and True)\n",
    "print(True and False)\n",
    "print(False and True)\n",
    "print(False and False)\n",
    "print()\n",
    "\n",
    "# or\n",
    "print('or : ')\n",
    "print(True or True)\n",
    "print(True or False)\n",
    "print(False or True)\n",
    "print(False or False)\n",
    "print()\n",
    "\n",
    "# not\n",
    "print('not : ')\n",
    "print(not True)\n",
    "print(not False)"
   ]
  }
 ],
 "metadata": {
  "kernelspec": {
   "display_name": "Python 3 (ipykernel)",
   "language": "python",
   "name": "python3"
  },
  "language_info": {
   "codemirror_mode": {
    "name": "ipython",
    "version": 3
   },
   "file_extension": ".py",
   "mimetype": "text/x-python",
   "name": "python",
   "nbconvert_exporter": "python",
   "pygments_lexer": "ipython3",
   "version": "3.9.5"
  }
 },
 "nbformat": 4,
 "nbformat_minor": 5
}
