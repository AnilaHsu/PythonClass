{
 "cells": [
  {
   "cell_type": "markdown",
   "id": "4cc7237c",
   "metadata": {},
   "source": [
    "# input\n",
    "- 請使用者輸入資料\n",
    "- 資料會以字串的方式表示"
   ]
  },
  {
   "cell_type": "code",
   "execution_count": null,
   "id": "407b58a5",
   "metadata": {},
   "outputs": [],
   "source": [
    "# 輸入一個值\n",
    "input()"
   ]
  },
  {
   "cell_type": "code",
   "execution_count": null,
   "id": "2889a15d",
   "metadata": {},
   "outputs": [],
   "source": [
    "# 輸入一個值並存入變數 \n",
    "x = input(\"請輸入一個數字\")\n",
    "print(x)\n",
    "print(type(x))"
   ]
  },
  {
   "cell_type": "code",
   "execution_count": null,
   "id": "c7d10def",
   "metadata": {},
   "outputs": [],
   "source": [
    "name = input('請輸入你的名字:')\n",
    "print('Hello!'+ name)"
   ]
  },
  {
   "cell_type": "code",
   "execution_count": null,
   "id": "220734fa",
   "metadata": {},
   "outputs": [],
   "source": [
    "month = input('請輸入你的生日月份:')\n",
    "day = input('請輸入你的生日日期:')\n",
    "print('你的生日是'+ month +'月'+day+'號。')"
   ]
  },
  {
   "cell_type": "code",
   "execution_count": null,
   "id": "09be148f",
   "metadata": {},
   "outputs": [],
   "source": [
    "# 輸入兩個數值並相加\n",
    "# 該數值為字串的型態\n",
    "\n",
    "num1 = input('請輸入數字一')\n",
    "num2 = input('請輸入數字二')\n",
    "print(num1+num2)"
   ]
  },
  {
   "cell_type": "code",
   "execution_count": null,
   "id": "8841af00",
   "metadata": {},
   "outputs": [],
   "source": [
    "# 輸入兩個數值並相加\n",
    "# 整數字串使用 int() 轉成數值\n",
    "# 小數字串使用 float() 轉成數值\n",
    "num1 = input('請輸入數字一')\n",
    "num2 = input('請輸入數字二')\n",
    "print()"
   ]
  },
  {
   "cell_type": "code",
   "execution_count": null,
   "id": "fbbe63c6",
   "metadata": {},
   "outputs": [],
   "source": [
    "# 請使用者輸入一個數值並存入變數 num\n",
    "# 將該變數 +1 並印出來\n"
   ]
  },
  {
   "cell_type": "code",
   "execution_count": null,
   "id": "fb7cbd1c",
   "metadata": {},
   "outputs": [],
   "source": [
    "num = int(input('請輸入數字'))\n",
    "num+=1\n",
    "print(num)"
   ]
  },
  {
   "cell_type": "code",
   "execution_count": null,
   "id": "8714550e",
   "metadata": {},
   "outputs": [],
   "source": [
    "# Q:將輸入的數值資料依序存入變數並相加"
   ]
  },
  {
   "cell_type": "code",
   "execution_count": null,
   "id": "b619b2a1",
   "metadata": {},
   "outputs": [],
   "source": [
    "# 做法一：\n",
    "## 使用 input() 將各數值分開存入變數\n",
    "a = input('數入數值一')\n",
    "b = input('輸入數值二')\n",
    "c = input('輸入數值三')\n",
    "print(a,b,c)\n",
    "\n",
    "print(int(a)+int(b)+int(c))"
   ]
  },
  {
   "cell_type": "code",
   "execution_count": 9,
   "id": "40080960",
   "metadata": {},
   "outputs": [
    {
     "name": "stdout",
     "output_type": "stream",
     "text": [
      "123\n",
      "1 2 3\n",
      "6\n"
     ]
    }
   ],
   "source": [
    "# 作法二：\n",
    "## 輸入三位數數值，依序存入 a,b,c 當中並印出來，再相加\n",
    "a,b,c = input()\n",
    "print(a,b,c)\n",
    "\n",
    "print(int(a)+int(b)+int(c))\n",
    "\n",
    "### note1:僅能依變數數量輸入該數量的數值，且必須輸入數值不能是字符\n",
    "### note2:若無限定輸入的數值數量，不確定需存入幾個變數，可以使用 for-loop 迭代 String 得出結果\n"
   ]
  },
  {
   "cell_type": "code",
   "execution_count": 17,
   "id": "f8d37ce8",
   "metadata": {},
   "outputs": [
    {
     "name": "stdout",
     "output_type": "stream",
     "text": [
      "輸入數值以空白間隔1 2 3\n",
      "1\n",
      " \n",
      "2\n",
      " \n",
      "3\n"
     ]
    }
   ],
   "source": [
    "# 補充\n",
    "string = input('輸入數值且不須間隔')\n",
    "for s in string:\n",
    "    print(int(s))"
   ]
  },
  {
   "cell_type": "code",
   "execution_count": null,
   "id": "dcfa6fe3",
   "metadata": {},
   "outputs": [],
   "source": [
    "# 作法三：\n",
    "## 輸入三個數值以逗點區隔，依序存入 a,b,c 當中，，再相加\n",
    "value = input('請輸入三個數值，以逗點區隔')\n",
    "print(value)\n",
    "# 使用「,」的方式將 value 分開\n",
    "split_value = value.split(',')\n",
    "print(split_value)\n",
    "a,b,c = split_value\n",
    "print(a,b,c)\n",
    "\n",
    "print(int(a)+int(b)+int(c))"
   ]
  },
  {
   "cell_type": "code",
   "execution_count": 12,
   "id": "ba191e5d",
   "metadata": {},
   "outputs": [
    {
     "name": "stdout",
     "output_type": "stream",
     "text": [
      "請輸入三個數值，以逗點區隔2,3,4\n",
      "2,3,4\n",
      "x = <map object at 0x107c3be50>\n",
      "a,b,c = 2 3 4\n"
     ]
    }
   ],
   "source": [
    "# 作法三簡化：\n",
    "value = input('請輸入三個數值，以逗點區隔')\n",
    "print(value)\n",
    "\n",
    "x = map(int,value.split(','))\n",
    "print('x =',x)\n",
    "a,b,c = map(int,value.split(','))\n",
    "print('a,b,c =',a,b,c)\n",
    "\n",
    "### note：若無限定輸入的數值數量，不確定需存入幾個變數，可以使用 for-loop 迭代 List 得出結果\n"
   ]
  },
  {
   "cell_type": "code",
   "execution_count": 20,
   "id": "68a196ae",
   "metadata": {},
   "outputs": [
    {
     "name": "stdout",
     "output_type": "stream",
     "text": [
      "輸入數值以空白間隔1 2 3\n",
      "['1', '2', '3']\n",
      "1\n",
      "2\n",
      "3\n",
      "<map object at 0x107d18d00>\n",
      "1\n",
      "2\n",
      "3\n"
     ]
    }
   ],
   "source": [
    "# 補充\n",
    "string = input('輸入數值以空白間隔')\n",
    "list1 = string.split()\n",
    "print(list1)\n",
    "\n",
    "for s in list1:\n",
    "    print(int(s))\n",
    "\n",
    "list2 = map(int,string.split())\n",
    "print(list2)\n",
    "\n",
    "for s in list2:\n",
    "    print(s)"
   ]
  },
  {
   "cell_type": "code",
   "execution_count": null,
   "id": "ef10c6ea",
   "metadata": {},
   "outputs": [],
   "source": []
  },
  {
   "cell_type": "code",
   "execution_count": null,
   "id": "eb5f9d1b",
   "metadata": {},
   "outputs": [],
   "source": [
    "# Python 多個變數賦值之使用方法\n",
    "a,b,c = 1,2,3\n",
    "print(a,b,c)\n",
    "print(type(a))\n",
    "\n",
    "d,e,f = [4,5,6]\n",
    "print(d,e,f)\n",
    "print(type(d))\n",
    "\n",
    "g,h,i = '789'\n",
    "print(g,h,i)\n",
    "print(type(g))"
   ]
  },
  {
   "cell_type": "code",
   "execution_count": null,
   "id": "4b0e7abd",
   "metadata": {},
   "outputs": [],
   "source": []
  }
 ],
 "metadata": {
  "kernelspec": {
   "display_name": "Python 3 (ipykernel)",
   "language": "python",
   "name": "python3"
  },
  "language_info": {
   "codemirror_mode": {
    "name": "ipython",
    "version": 3
   },
   "file_extension": ".py",
   "mimetype": "text/x-python",
   "name": "python",
   "nbconvert_exporter": "python",
   "pygments_lexer": "ipython3",
   "version": "3.9.5"
  }
 },
 "nbformat": 4,
 "nbformat_minor": 5
}
