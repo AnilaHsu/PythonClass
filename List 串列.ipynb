{
 "cells": [
  {
   "cell_type": "code",
   "execution_count": null,
   "id": "c45ba3aa",
   "metadata": {},
   "outputs": [],
   "source": [
    "# List"
   ]
  },
  {
   "cell_type": "code",
   "execution_count": null,
   "id": "f3d70902",
   "metadata": {},
   "outputs": [],
   "source": []
  },
  {
   "cell_type": "code",
   "execution_count": null,
   "id": "b4f7d9ae",
   "metadata": {},
   "outputs": [],
   "source": []
  },
  {
   "cell_type": "markdown",
   "id": "d1c465f1",
   "metadata": {},
   "source": [
    "## 排序\n",
    "- sorted(list) :排序並建新的 List，原本的 List 不受影響\n",
    "- list.sort() :直接改變 List 內容，不會回傳新的值"
   ]
  },
  {
   "cell_type": "code",
   "execution_count": 3,
   "id": "7bd3653a",
   "metadata": {},
   "outputs": [
    {
     "name": "stdout",
     "output_type": "stream",
     "text": [
      "[1, 3, 3, 5, 7]\n",
      "None\n"
     ]
    }
   ],
   "source": [
    "x = [1,5,3,7,3]\n",
    "print(sorted(x))  \n",
    "print(x.sort())   "
   ]
  },
  {
   "cell_type": "code",
   "execution_count": 4,
   "id": "e84393dc",
   "metadata": {},
   "outputs": [
    {
     "name": "stdout",
     "output_type": "stream",
     "text": [
      "[1, 2, 4, 5]\n"
     ]
    }
   ],
   "source": [
    "list1=[1,2]\n",
    "list2=[4,5]\n",
    "print(list1+list2)"
   ]
  },
  {
   "cell_type": "code",
   "execution_count": 17,
   "id": "b13f1ebc",
   "metadata": {},
   "outputs": [
    {
     "name": "stdout",
     "output_type": "stream",
     "text": [
      "exit!\n"
     ]
    }
   ],
   "source": []
  },
  {
   "cell_type": "code",
   "execution_count": null,
   "id": "385b01a9",
   "metadata": {},
   "outputs": [],
   "source": []
  }
 ],
 "metadata": {
  "kernelspec": {
   "display_name": "Python 3 (ipykernel)",
   "language": "python",
   "name": "python3"
  },
  "language_info": {
   "codemirror_mode": {
    "name": "ipython",
    "version": 3
   },
   "file_extension": ".py",
   "mimetype": "text/x-python",
   "name": "python",
   "nbconvert_exporter": "python",
   "pygments_lexer": "ipython3",
   "version": "3.9.5"
  }
 },
 "nbformat": 4,
 "nbformat_minor": 5
}
