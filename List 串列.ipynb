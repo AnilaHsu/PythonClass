{
 "cells": [
  {
   "cell_type": "markdown",
   "id": "528b667c",
   "metadata": {},
   "source": [
    "# List 串列"
   ]
  },
  {
   "cell_type": "code",
   "execution_count": null,
   "id": "f657dcd6",
   "metadata": {},
   "outputs": [],
   "source": [
    "# 將多個數值型態的變數存入至一個 list 中\n",
    "number1 = 1\n",
    "number2 = 3\n",
    "number3 = 5\n",
    "number4 = 7\n",
    "number5 = 9\n",
    "number6 = 11\n",
    "number7 = 13\n",
    "number8 = 15"
   ]
  },
  {
   "cell_type": "code",
   "execution_count": 4,
   "id": "a8b9da94",
   "metadata": {},
   "outputs": [
    {
     "name": "stdout",
     "output_type": "stream",
     "text": [
      "[1, 3, 5, 7, 9, 11, 13, 15]\n",
      "<class 'list'>\n"
     ]
    }
   ],
   "source": [
    "numbers = [1,3,5,7,9,11,13,15]\n",
    "print(numbers)\n",
    "print(type(numbers))"
   ]
  },
  {
   "cell_type": "code",
   "execution_count": null,
   "id": "f3d70902",
   "metadata": {},
   "outputs": [],
   "source": [
    "# 將多個字串型態的變數存入至一個 list 中\n",
    "movie1 =  'Alien'\n",
    "movie2 = 'Inception'\n",
    "movie3 = 'The Martian'\n",
    "movie4 = 'Blade Runner'\n",
    "movie5 = 'Back to furtur'\n",
    "movie6 = 'Arrival'\n",
    "movie7 = 'Moon'\n",
    "movie8 = 'Looper'"
   ]
  },
  {
   "cell_type": "code",
   "execution_count": 9,
   "id": "b4f7d9ae",
   "metadata": {},
   "outputs": [],
   "source": [
    "sci_fi = ['Alien','Inception','The Martian','Blade Runner','Back to furtur','Arrival','Moon','Looper']"
   ]
  },
  {
   "cell_type": "code",
   "execution_count": 10,
   "id": "cf66c87e",
   "metadata": {},
   "outputs": [
    {
     "name": "stdout",
     "output_type": "stream",
     "text": [
      "['Alien', 'Inception', 'The Martian', 'Blade Runner', 'Back to furtur', 'Arrival', 'Moon', 'Looper']\n"
     ]
    }
   ],
   "source": [
    "print(sci_fi)"
   ]
  },
  {
   "cell_type": "code",
   "execution_count": 11,
   "id": "8fbb3c21",
   "metadata": {},
   "outputs": [
    {
     "name": "stdout",
     "output_type": "stream",
     "text": [
      "[2022, '二月']\n"
     ]
    }
   ],
   "source": [
    "# 在一個 list 可存入不同型態的值\n",
    "date = [2022,'二月']\n",
    "print(date)"
   ]
  },
  {
   "cell_type": "code",
   "execution_count": 13,
   "id": "dd0e362d",
   "metadata": {},
   "outputs": [
    {
     "name": "stdout",
     "output_type": "stream",
     "text": [
      "8\n",
      "8\n",
      "2\n"
     ]
    }
   ],
   "source": [
    "# 查看字串的長度\n",
    "print(len(numbers))\n",
    "print(len(sci_fi))\n",
    "print(len(date))"
   ]
  },
  {
   "cell_type": "markdown",
   "id": "f8b3cfa3",
   "metadata": {},
   "source": [
    "## 取得 list 的元素\n",
    "- list[start:end:step]\n",
    "- 取得的值包含開頭但不包含結尾的 index\n",
    "- step 預設為 1"
   ]
  },
  {
   "cell_type": "code",
   "execution_count": 28,
   "id": "97aa7c68",
   "metadata": {},
   "outputs": [
    {
     "name": "stdout",
     "output_type": "stream",
     "text": [
      "Alien\n",
      "Looper\n",
      "Looper\n"
     ]
    }
   ],
   "source": [
    "sci_fi = ['Alien','Inception','The Martian','Blade Runner','Back to furtur','Arrival','Moon','Looper']\n",
    "\n",
    "# 取得第一個元素\n",
    "print(sci_fi[0])\n",
    "\n",
    "# 取得最後一個元素\n",
    "print(sci_fi[-1])\n",
    "print(sci_fi[len(sci_fi)-1])"
   ]
  },
  {
   "cell_type": "code",
   "execution_count": 27,
   "id": "243ef943",
   "metadata": {},
   "outputs": [
    {
     "name": "stdout",
     "output_type": "stream",
     "text": [
      "['Alien', 'Inception', 'The Martian', 'Blade Runner', 'Back to furtur']\n",
      "['Alien', 'Inception', 'The Martian', 'Blade Runner', 'Back to furtur']\n",
      "['Back to furtur', 'Arrival', 'Moon', 'Looper']\n",
      "['Back to furtur', 'Arrival', 'Moon', 'Looper']\n",
      "['Back to furtur', 'Arrival', 'Moon', 'Looper']\n"
     ]
    }
   ],
   "source": [
    "# 取得第一個至第五個的元素 (index 0 - index 4)\n",
    "print(sci_fi[0:5])\n",
    "print(sci_fi[:5])\n",
    "\n",
    "# 取得第五個至最後一個元素 (index 4 - index 7)\n",
    "print(sci_fi[4:8])\n",
    "print(sci_fi[4:])\n",
    "print(sci_fi[4:len(sci_fi)]) "
   ]
  },
  {
   "cell_type": "code",
   "execution_count": null,
   "id": "0afd4752",
   "metadata": {},
   "outputs": [],
   "source": [
    "# 比較\n",
    "print(sci_fi[1:-1]) # 不包含最後一個元素\n",
    "print(sci_fi[1:])   # 包含最後一個元素"
   ]
  },
  {
   "cell_type": "code",
   "execution_count": 34,
   "id": "0f2e5761",
   "metadata": {},
   "outputs": [
    {
     "name": "stdout",
     "output_type": "stream",
     "text": [
      "['Inception', 'Blade Runner', 'Arrival']\n",
      "['Inception', 'Blade Runner', 'Arrival', 'Looper']\n",
      "['Alien', 'The Martian', 'Back to furtur', 'Moon']\n",
      "['Alien', 'The Martian', 'Back to furtur', 'Moon']\n"
     ]
    }
   ],
   "source": [
    "sci_fi = ['Alien','Inception','The Martian','Blade Runner','Back to furtur','Arrival','Moon','Looper']\n",
    "\n",
    "# 取的奇數 index 的元素\n",
    "print(sci_fi[1:-1:2]) \n",
    "print(sci_fi[1::2])\n",
    "\n",
    "# 取的偶數 index 的元素\n",
    "print(sci_fi[:-1:2])\n",
    "print(sci_fi[::2])   "
   ]
  },
  {
   "cell_type": "code",
   "execution_count": null,
   "id": "0c03175e",
   "metadata": {},
   "outputs": [],
   "source": []
  },
  {
   "cell_type": "code",
   "execution_count": null,
   "id": "b62afc35",
   "metadata": {},
   "outputs": [],
   "source": []
  },
  {
   "cell_type": "code",
   "execution_count": null,
   "id": "60beb76f",
   "metadata": {},
   "outputs": [],
   "source": []
  },
  {
   "cell_type": "code",
   "execution_count": null,
   "id": "62c6b1f0",
   "metadata": {},
   "outputs": [],
   "source": []
  },
  {
   "cell_type": "markdown",
   "id": "d1c465f1",
   "metadata": {},
   "source": [
    "## 排序\n",
    "- sorted(list) :排序並建新的 List，原本的 List 不受影響\n",
    "- list.sort() :直接改變 List 內容，不會回傳新的值"
   ]
  },
  {
   "cell_type": "code",
   "execution_count": 3,
   "id": "7bd3653a",
   "metadata": {},
   "outputs": [
    {
     "name": "stdout",
     "output_type": "stream",
     "text": [
      "[1, 3, 3, 5, 7]\n",
      "None\n"
     ]
    }
   ],
   "source": [
    "x = [1,5,3,7,3]\n",
    "print(sorted(x))  \n",
    "print(x.sort())   "
   ]
  },
  {
   "cell_type": "code",
   "execution_count": 4,
   "id": "e84393dc",
   "metadata": {},
   "outputs": [
    {
     "name": "stdout",
     "output_type": "stream",
     "text": [
      "[1, 2, 4, 5]\n"
     ]
    }
   ],
   "source": [
    "list1=[1,2]\n",
    "list2=[4,5]\n",
    "print(list1+list2)"
   ]
  },
  {
   "cell_type": "code",
   "execution_count": 17,
   "id": "b13f1ebc",
   "metadata": {},
   "outputs": [
    {
     "name": "stdout",
     "output_type": "stream",
     "text": [
      "exit!\n"
     ]
    }
   ],
   "source": []
  },
  {
   "cell_type": "code",
   "execution_count": null,
   "id": "385b01a9",
   "metadata": {},
   "outputs": [],
   "source": []
  }
 ],
 "metadata": {
  "kernelspec": {
   "display_name": "Python 3 (ipykernel)",
   "language": "python",
   "name": "python3"
  },
  "language_info": {
   "codemirror_mode": {
    "name": "ipython",
    "version": 3
   },
   "file_extension": ".py",
   "mimetype": "text/x-python",
   "name": "python",
   "nbconvert_exporter": "python",
   "pygments_lexer": "ipython3",
   "version": "3.9.5"
  }
 },
 "nbformat": 4,
 "nbformat_minor": 5
}
