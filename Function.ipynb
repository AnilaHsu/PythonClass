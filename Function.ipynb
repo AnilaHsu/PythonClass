{
 "cells": [
  {
   "cell_type": "markdown",
   "id": "8f2b1dfb",
   "metadata": {},
   "source": [
    "# function "
   ]
  },
  {
   "cell_type": "markdown",
   "id": "144780bb",
   "metadata": {},
   "source": [
    "## 定義函式\n",
    "- 宣告:使用 def 來定義函式，包括函式的名稱、函式所需的參數\n",
    "- 程式碼內容:使用縮排來撰寫函式要執行的程式碼內容"
   ]
  },
  {
   "cell_type": "code",
   "execution_count": null,
   "id": "ccfaa7ca",
   "metadata": {},
   "outputs": [],
   "source": [
    "def hello():\n",
    "    print('hello')"
   ]
  },
  {
   "cell_type": "markdown",
   "id": "a93f3914",
   "metadata": {},
   "source": [
    "## 呼叫函式"
   ]
  },
  {
   "cell_type": "code",
   "execution_count": null,
   "id": "781f3631",
   "metadata": {},
   "outputs": [],
   "source": [
    "hello()"
   ]
  },
  {
   "cell_type": "markdown",
   "id": "82b07448",
   "metadata": {},
   "source": [
    "## 代入參數\n",
    "- 需注意傳入的參數型態"
   ]
  },
  {
   "cell_type": "code",
   "execution_count": null,
   "id": "daa69ec0",
   "metadata": {},
   "outputs": [],
   "source": [
    "def hello(name):\n",
    "    print('hello'+ name)\n",
    "\n",
    "hello('Mochi')"
   ]
  },
  {
   "cell_type": "code",
   "execution_count": null,
   "id": "c300b6ee",
   "metadata": {},
   "outputs": [],
   "source": [
    "# 代入參數，參數使用變數儲存，請使用者輸入變數的值\n",
    "\n",
    "def hello(name):\n",
    "    print('hello '+ name)\n",
    "    \n",
    "name = input('What is your name?')\n",
    "hello(name)\n"
   ]
  },
  {
   "cell_type": "code",
   "execution_count": 23,
   "id": "5aa41b66",
   "metadata": {},
   "outputs": [
    {
     "name": "stdout",
     "output_type": "stream",
     "text": [
      "Hello Mochi I am 18 years old.\n"
     ]
    }
   ],
   "source": [
    "# 代入多個參數\n",
    "def hello(name,age):\n",
    "    print('My name is '+ name + ' I am' + age + 'years old.')\n",
    "\n",
    "hello('Anila','23')\n"
   ]
  },
  {
   "cell_type": "code",
   "execution_count": 18,
   "id": "4495f093",
   "metadata": {},
   "outputs": [
    {
     "name": "stdout",
     "output_type": "stream",
     "text": [
      "Hello Mochi I am 18 years old.\n"
     ]
    }
   ],
   "source": [
    "# 代入多個參數\n",
    "## 需注意參數傳入的型態\n",
    "\n",
    "# 字串相連需將數值轉成字串格式\n",
    "def hello(name,age):\n",
    "    print('My name is '+ name + ' I am '+ str(age) + ' years old.')\n",
    "\n",
    "hello('Anila',18)\n"
   ]
  },
  {
   "cell_type": "code",
   "execution_count": null,
   "id": "b7b82a98",
   "metadata": {},
   "outputs": [],
   "source": [
    "# 代入參數，參數使用變數儲存，請使用者輸入變數的值\n",
    "## 需注意參數傳入的型態\n",
    "\n",
    "# input()會使用字串型態儲存變數\n",
    "# 輸入數值時記得轉換成數值型態\n",
    "def square(num1):\n",
    "    x = num1**2\n",
    "    print(x)\n",
    "\n",
    "num1 = input('請輸入一個數字')  \n",
    "square(int(num1))"
   ]
  },
  {
   "cell_type": "markdown",
   "id": "37e84244",
   "metadata": {},
   "source": [
    "## 回傳: return\n",
    "- 遇到 return 就回傳結果並結束函式\n",
    "\n",
    "### return 的作用\n",
    "- 呼叫:僅執行函式的內容\n",
    "- 回傳:回傳函式的結果(通常用變數儲存回傳結果)"
   ]
  },
  {
   "cell_type": "code",
   "execution_count": 40,
   "id": "6893105d",
   "metadata": {},
   "outputs": [
    {
     "name": "stdout",
     "output_type": "stream",
     "text": [
      "3\n"
     ]
    },
    {
     "data": {
      "text/plain": [
       "1"
      ]
     },
     "execution_count": 40,
     "metadata": {},
     "output_type": "execute_result"
    }
   ],
   "source": [
    "# 呼叫函式執行函式內容\n",
    "# 回傳函式結果，但沒有輸出、沒有儲存回傳值\n",
    "def add(num1,num2):\n",
    "    print(num1+num2)\n",
    "    return num1\n",
    "\n",
    "add(1,2)"
   ]
  },
  {
   "cell_type": "code",
   "execution_count": 41,
   "id": "c5f18e09",
   "metadata": {},
   "outputs": [
    {
     "data": {
      "text/plain": [
       "1"
      ]
     },
     "execution_count": 41,
     "metadata": {},
     "output_type": "execute_result"
    }
   ],
   "source": [
    "# 呼叫函式執行函式內容，但執行內容沒有任何輸出\n",
    "# 回傳函式結果，但沒有輸出、沒有儲存回傳值\n",
    "def add(num1,num2):\n",
    "    return num1\n",
    "\n",
    "add(1,2)"
   ]
  },
  {
   "cell_type": "code",
   "execution_count": 1,
   "id": "f9866860",
   "metadata": {},
   "outputs": [
    {
     "name": "stdout",
     "output_type": "stream",
     "text": [
      "3\n"
     ]
    }
   ],
   "source": [
    "# 呼叫函式執行函式內容\n",
    "# 回傳函式結果，並存入變數 x，但未輸出\n",
    "def add(num1,num2):\n",
    "    print(num1+num2)\n",
    "    return num1\n",
    "\n",
    "x = add(1,2)"
   ]
  },
  {
   "cell_type": "code",
   "execution_count": 2,
   "id": "efe07000",
   "metadata": {},
   "outputs": [
    {
     "name": "stdout",
     "output_type": "stream",
     "text": [
      "3\n",
      "1\n"
     ]
    }
   ],
   "source": [
    "# 呼叫函式執行函式內容\n",
    "# 回傳函式結果，存入變數 x，並輸出\n",
    "def add(num1,num2):\n",
    "    print(num1+num2)\n",
    "    return num1\n",
    "\n",
    "x = add(1,2)\n",
    "print(x)"
   ]
  },
  {
   "cell_type": "code",
   "execution_count": 3,
   "id": "805d5987",
   "metadata": {},
   "outputs": [
    {
     "name": "stdout",
     "output_type": "stream",
     "text": [
      "3\n",
      "None\n"
     ]
    }
   ],
   "source": [
    "# 呼叫函式執行函式內容\n",
    "# 沒有回傳函式結果，預設回傳 None\n",
    "def add(num1,num2):\n",
    "    print(num1+num2)\n",
    "\n",
    "x = add(1,2)\n",
    "print(x)"
   ]
  },
  {
   "cell_type": "code",
   "execution_count": 47,
   "id": "c2aa104e",
   "metadata": {},
   "outputs": [
    {
     "data": {
      "text/plain": [
       "(3, -1)"
      ]
     },
     "execution_count": 47,
     "metadata": {},
     "output_type": "execute_result"
    }
   ],
   "source": [
    "## 多個回傳值，僅回傳結果，但沒有輸出、沒有儲存回傳值\n",
    "def add(num1,num2):\n",
    "    return num1+num2,num1-num2\n",
    "\n",
    "add(1,2)"
   ]
  },
  {
   "cell_type": "code",
   "execution_count": 45,
   "id": "ec0e821c",
   "metadata": {},
   "outputs": [
    {
     "name": "stdout",
     "output_type": "stream",
     "text": [
      "3 -1\n"
     ]
    }
   ],
   "source": [
    "## 多個回傳值並存入變數 x 和 y，並輸出\n",
    "def add(num1,num2):\n",
    "    return num1+num2,num1-num2\n",
    "\n",
    "x,y = add(1,2)\n",
    "print(x,y)\n"
   ]
  },
  {
   "cell_type": "code",
   "execution_count": null,
   "id": "2eea045b",
   "metadata": {},
   "outputs": [],
   "source": []
  },
  {
   "cell_type": "code",
   "execution_count": null,
   "id": "aab84bef",
   "metadata": {},
   "outputs": [],
   "source": []
  }
 ],
 "metadata": {
  "kernelspec": {
   "display_name": "Python 3 (ipykernel)",
   "language": "python",
   "name": "python3"
  },
  "language_info": {
   "codemirror_mode": {
    "name": "ipython",
    "version": 3
   },
   "file_extension": ".py",
   "mimetype": "text/x-python",
   "name": "python",
   "nbconvert_exporter": "python",
   "pygments_lexer": "ipython3",
   "version": "3.9.5"
  }
 },
 "nbformat": 4,
 "nbformat_minor": 5
}
