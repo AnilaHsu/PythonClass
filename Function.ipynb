{
 "cells": [
  {
   "cell_type": "markdown",
   "id": "ef4598de",
   "metadata": {},
   "source": [
    "# function "
   ]
  },
  {
   "cell_type": "markdown",
   "id": "4fd6997b",
   "metadata": {},
   "source": [
    "## 定義函式\n",
    "- 宣告:使用 def 來定義函式，包括函式的名稱、函式所需的參數\n",
    "- 程式碼內容:使用縮排來撰寫函式要執行的程式碼內容"
   ]
  },
  {
   "cell_type": "code",
   "execution_count": 2,
   "id": "5fa348cb",
   "metadata": {},
   "outputs": [],
   "source": [
    "def hello():\n",
    "    print('hello')"
   ]
  },
  {
   "cell_type": "markdown",
   "id": "6bb08bf2",
   "metadata": {},
   "source": [
    "## 呼叫函式"
   ]
  },
  {
   "cell_type": "code",
   "execution_count": null,
   "id": "c23b2dfd",
   "metadata": {},
   "outputs": [],
   "source": [
    "hello()"
   ]
  },
  {
   "cell_type": "markdown",
   "id": "e81f1df6",
   "metadata": {},
   "source": [
    "## 代入參數\n",
    "- 需注意傳入的參數型態"
   ]
  },
  {
   "cell_type": "code",
   "execution_count": null,
   "id": "e144b6c7",
   "metadata": {},
   "outputs": [],
   "source": [
    "def hello(name):\n",
    "    print('hello'+ name)\n",
    "\n",
    "hello('Mochi')"
   ]
  },
  {
   "cell_type": "code",
   "execution_count": null,
   "id": "6ac3c90b",
   "metadata": {},
   "outputs": [],
   "source": []
  },
  {
   "cell_type": "code",
   "execution_count": 18,
   "id": "835d3ad7",
   "metadata": {},
   "outputs": [
    {
     "name": "stdout",
     "output_type": "stream",
     "text": [
      "Hello Mochi I am 18 years old.\n"
     ]
    }
   ],
   "source": [
    "# 代入多個參數\n",
    "# 字串相連需將數值轉成字串格式\n",
    "\n",
    "def hello(name,age):\n",
    "    print('Hello '+ name + ' I am '+ str(age) + ' years old.')\n",
    "\n",
    "hello('Mochi',18)\n"
   ]
  },
  {
   "cell_type": "code",
   "execution_count": 23,
   "id": "9dde4f96",
   "metadata": {},
   "outputs": [
    {
     "name": "stdout",
     "output_type": "stream",
     "text": [
      "Hello Mochi I am 18 years old.\n"
     ]
    }
   ],
   "source": [
    "# 代入多個參數\n",
    "# 使用逗點區隔\n",
    "def hello(name,age):\n",
    "    print('Hello '+ name + ' I am', age ,'years old.')\n",
    "\n",
    "hello('Mochi',18)\n"
   ]
  },
  {
   "cell_type": "markdown",
   "id": "f77d0eef",
   "metadata": {},
   "source": [
    "## 回傳: return\n",
    "- 遇到 return 就回傳結果並結束函式\n",
    "- 呼叫:執行函式的內容\n",
    "- 回傳:回傳函式的結果(通常用變數儲存回傳結果)"
   ]
  },
  {
   "cell_type": "code",
   "execution_count": 40,
   "id": "17180d1e",
   "metadata": {},
   "outputs": [
    {
     "name": "stdout",
     "output_type": "stream",
     "text": [
      "3\n"
     ]
    },
    {
     "data": {
      "text/plain": [
       "1"
      ]
     },
     "execution_count": 40,
     "metadata": {},
     "output_type": "execute_result"
    }
   ],
   "source": [
    "# 呼叫函式執行函式內容\n",
    "# 回傳函式結果\n",
    "def add(num1,num2):\n",
    "    print(num1+num2)\n",
    "    return num1\n",
    "\n",
    "add(1,2)"
   ]
  },
  {
   "cell_type": "code",
   "execution_count": 41,
   "id": "f065c30f",
   "metadata": {},
   "outputs": [
    {
     "data": {
      "text/plain": [
       "1"
      ]
     },
     "execution_count": 41,
     "metadata": {},
     "output_type": "execute_result"
    }
   ],
   "source": [
    "# 呼叫函式執行函式內容\n",
    "# 回傳函式結果\n",
    "def add(num1,num2):\n",
    "    return num1\n",
    "\n",
    "add(1,2)"
   ]
  },
  {
   "cell_type": "code",
   "execution_count": 36,
   "id": "147b6d27",
   "metadata": {},
   "outputs": [
    {
     "name": "stdout",
     "output_type": "stream",
     "text": [
      "3\n",
      "None\n"
     ]
    }
   ],
   "source": [
    "# 呼叫函式執行函式內容\n",
    "# 沒有回傳函式結果，預設回傳 None\n",
    "def add(num1,num2):\n",
    "    print(num1+num2)\n",
    "\n",
    "x = add(1,2)\n",
    "print(x)"
   ]
  },
  {
   "cell_type": "code",
   "execution_count": 47,
   "id": "d45da511",
   "metadata": {},
   "outputs": [
    {
     "data": {
      "text/plain": [
       "(3, -1)"
      ]
     },
     "execution_count": 47,
     "metadata": {},
     "output_type": "execute_result"
    }
   ],
   "source": [
    "## 多個回傳值\n",
    "def add(num1,num2):\n",
    "    return num1+num2,num1-num2\n",
    "\n",
    "add(1,2)"
   ]
  },
  {
   "cell_type": "code",
   "execution_count": 45,
   "id": "ff4175b0",
   "metadata": {},
   "outputs": [
    {
     "name": "stdout",
     "output_type": "stream",
     "text": [
      "3 -1\n"
     ]
    }
   ],
   "source": [
    "## 多個回傳值並存入 x 和 y\n",
    "def add(num1,num2):\n",
    "    return num1+num2,num1-num2\n",
    "\n",
    "x,y = add(1,2)\n",
    "print(x,y)\n"
   ]
  },
  {
   "cell_type": "code",
   "execution_count": null,
   "id": "cee4913e",
   "metadata": {},
   "outputs": [],
   "source": []
  },
  {
   "cell_type": "code",
   "execution_count": null,
   "id": "8994d137",
   "metadata": {},
   "outputs": [],
   "source": []
  }
 ],
 "metadata": {
  "kernelspec": {
   "display_name": "Python 3 (ipykernel)",
   "language": "python",
   "name": "python3"
  },
  "language_info": {
   "codemirror_mode": {
    "name": "ipython",
    "version": 3
   },
   "file_extension": ".py",
   "mimetype": "text/x-python",
   "name": "python",
   "nbconvert_exporter": "python",
   "pygments_lexer": "ipython3",
   "version": "3.9.5"
  }
 },
 "nbformat": 4,
 "nbformat_minor": 5
}
