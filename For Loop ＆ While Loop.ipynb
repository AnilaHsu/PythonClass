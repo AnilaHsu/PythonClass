{
 "cells": [
  {
   "cell_type": "markdown",
   "id": "a7b0b6e1",
   "metadata": {},
   "source": [
    "# For Loop"
   ]
  },
  {
   "cell_type": "markdown",
   "id": "b84c50c2",
   "metadata": {},
   "source": [
    "## 單層 for-loop \n",
    "- 使用 for 和 in 關鍵字\n",
    "- for 變數 in 序列(Sequence)"
   ]
  },
  {
   "cell_type": "code",
   "execution_count": null,
   "id": "a98eedc6",
   "metadata": {},
   "outputs": [],
   "source": [
    "# string\n",
    "for i in 'Firstins':\n",
    "    print(i)"
   ]
  },
  {
   "cell_type": "code",
   "execution_count": null,
   "id": "ad18137a",
   "metadata": {},
   "outputs": [],
   "source": [
    "# list\n",
    "colleagues = ['Angel','Lillian','Michelle','Joy']\n",
    "for i in colleagues:\n",
    "    print(i)"
   ]
  },
  {
   "cell_type": "code",
   "execution_count": null,
   "id": "30b34110",
   "metadata": {},
   "outputs": [],
   "source": [
    "nums = [0,1,2,3,4,5]\n",
    "for i in nums:\n",
    "    print(i)"
   ]
  },
  {
   "cell_type": "code",
   "execution_count": null,
   "id": "1e82cb24",
   "metadata": {},
   "outputs": [],
   "source": [
    "## for loop & range()"
   ]
  },
  {
   "cell_type": "code",
   "execution_count": null,
   "id": "dd8124d7",
   "metadata": {},
   "outputs": [],
   "source": [
    "for i in range(5):\n",
    "    print(i)"
   ]
  },
  {
   "cell_type": "code",
   "execution_count": 98,
   "id": "37d0ebc2",
   "metadata": {},
   "outputs": [
    {
     "name": "stdout",
     "output_type": "stream",
     "text": [
      "2\n",
      "3\n",
      "4\n",
      "5\n",
      "6\n"
     ]
    }
   ],
   "source": [
    "# 將 1 加 1 執行五次: 1+1+1+1+1\n"
   ]
  },
  {
   "cell_type": "code",
   "execution_count": null,
   "id": "74b55dfc",
   "metadata": {},
   "outputs": [],
   "source": [
    "# 計算 1 加到 8 的總和: 0+1+2+3+4+5+6+7+8\n"
   ]
  },
  {
   "cell_type": "code",
   "execution_count": null,
   "id": "9490d561",
   "metadata": {},
   "outputs": [],
   "source": [
    "for i in range(2,9):\n",
    "    print(i)"
   ]
  },
  {
   "cell_type": "code",
   "execution_count": null,
   "id": "affcfa4a",
   "metadata": {},
   "outputs": [],
   "source": [
    "# 計算 2 加到 8 的總和: 2+3+4+5+6+7+8\n"
   ]
  },
  {
   "cell_type": "code",
   "execution_count": null,
   "id": "38d92d71",
   "metadata": {},
   "outputs": [],
   "source": [
    "for i in range(1,10,2):\n",
    "    print(i)"
   ]
  },
  {
   "cell_type": "code",
   "execution_count": null,
   "id": "cf0075c6",
   "metadata": {},
   "outputs": [],
   "source": [
    "# 計算 0-100 奇數總和\n"
   ]
  },
  {
   "cell_type": "code",
   "execution_count": null,
   "id": "2915f76d",
   "metadata": {},
   "outputs": [],
   "source": [
    "colleagues = ['Henry','Angel','Tim','Lillian','Andy','Michelle','John','Joy']\n",
    "for i in colleagues:\n",
    "    print(i)"
   ]
  },
  {
   "cell_type": "code",
   "execution_count": null,
   "id": "145140f9",
   "metadata": {},
   "outputs": [],
   "source": [
    "colleagues = ['Henry','Angel','Tim','Lillian','Andy','Michelle','John','Joy']\n",
    "for i in range(len(colleagues)):\n",
    "    print(colleagues[i])"
   ]
  },
  {
   "cell_type": "code",
   "execution_count": null,
   "id": "9d2d4e12",
   "metadata": {},
   "outputs": [],
   "source": [
    "colleagues = ['Henry','Angel','Tim','Lillian','Andy','Michelle','John','Joy']\n",
    "for i in range(0,len(colleagues),2):\n",
    "    print(colleagues[i])"
   ]
  },
  {
   "cell_type": "code",
   "execution_count": null,
   "id": "9cdbef1a",
   "metadata": {},
   "outputs": [],
   "source": [
    "## for loop & enumerate()"
   ]
  },
  {
   "cell_type": "code",
   "execution_count": null,
   "id": "efeecbac",
   "metadata": {},
   "outputs": [],
   "source": [
    "# 加上索引\n",
    "fruits = ['guava', 'litchi', 'pear', 'banana', 'papaya', 'mango'] \n",
    "\n",
    "for index, fruit in enumerate(fruits): \n",
    "    print(index, fruit) "
   ]
  },
  {
   "cell_type": "code",
   "execution_count": null,
   "id": "85280e11",
   "metadata": {},
   "outputs": [],
   "source": [
    "## for loop & zip()"
   ]
  },
  {
   "cell_type": "code",
   "execution_count": null,
   "id": "5194e65d",
   "metadata": {},
   "outputs": [],
   "source": [
    "# 合併兩個 List\n",
    "fruits = ['guava', 'litchi', 'pear', 'banana', 'papaya', 'mango'] \n",
    "price_list = [100,120,80,70,90,60]\n",
    "for fruit,price in zip(fruits,price_list):\n",
    "    print(fruit,price)"
   ]
  },
  {
   "cell_type": "code",
   "execution_count": null,
   "id": "357803ec",
   "metadata": {},
   "outputs": [],
   "source": [
    "# 印出 2 的 6 次方\n",
    "print(pow(2,6))"
   ]
  },
  {
   "cell_type": "code",
   "execution_count": null,
   "id": "cc61e8e8",
   "metadata": {},
   "outputs": [],
   "source": [
    "# 將 2 的 6 次方使用 for-loop 呈現\n",
    "\n",
    "num = 2\n",
    "result = 2\n",
    "for i in range(5):\n",
    "    result = result * num\n",
    "    print(result)"
   ]
  },
  {
   "cell_type": "markdown",
   "id": "cec5ba9f",
   "metadata": {},
   "source": [
    "## 巢狀 for-loop"
   ]
  },
  {
   "cell_type": "code",
   "execution_count": null,
   "id": "c78bd573",
   "metadata": {},
   "outputs": [],
   "source": [
    "for i in range(5):\n",
    "    for j in range(5):\n",
    "        print(i,j)"
   ]
  },
  {
   "cell_type": "code",
   "execution_count": null,
   "id": "c08b1102",
   "metadata": {},
   "outputs": [],
   "source": [
    "# 九九乘法表"
   ]
  },
  {
   "cell_type": "code",
   "execution_count": null,
   "id": "810c2a8d",
   "metadata": {},
   "outputs": [],
   "source": [
    "for i in range(1,10):\n",
    "    for j in range(1,10):\n",
    "        print(i,'*',j,'=',i*j)"
   ]
  },
  {
   "cell_type": "markdown",
   "id": "399ad4b5",
   "metadata": {},
   "source": [
    "### break and continue"
   ]
  },
  {
   "cell_type": "code",
   "execution_count": null,
   "id": "0f31d71e",
   "metadata": {},
   "outputs": [],
   "source": [
    "x = 'TheOne'\n",
    "for i in x:\n",
    "    if i =='n':\n",
    "        break\n",
    "    print(i)"
   ]
  },
  {
   "cell_type": "code",
   "execution_count": null,
   "id": "2cf15fa5",
   "metadata": {},
   "outputs": [],
   "source": [
    "x = 'TheOne'\n",
    "for i in x:\n",
    "    if i =='n':\n",
    "        continue\n",
    "    print(i)"
   ]
  },
  {
   "cell_type": "code",
   "execution_count": null,
   "id": "3407de1d",
   "metadata": {},
   "outputs": [],
   "source": [
    "for i in range(1,30):\n",
    "    if  i % 5 == 0:\n",
    "        break\n",
    "    print(i)"
   ]
  },
  {
   "cell_type": "code",
   "execution_count": null,
   "id": "53abf6a4",
   "metadata": {},
   "outputs": [],
   "source": [
    "for i in range(1,30):\n",
    "    if  i % 5 == 0:\n",
    "        continue\n",
    "    print(i)"
   ]
  },
  {
   "cell_type": "markdown",
   "id": "b5a1d820",
   "metadata": {},
   "source": [
    "# while Loop"
   ]
  },
  {
   "cell_type": "code",
   "execution_count": 96,
   "id": "fe374cea",
   "metadata": {},
   "outputs": [
    {
     "name": "stdout",
     "output_type": "stream",
     "text": [
      "0\n",
      "1\n",
      "2\n",
      "3\n",
      "4\n",
      "5\n"
     ]
    }
   ],
   "source": [
    "x = 0\n",
    "while x <= 5:\n",
    "    print(x)\n",
    "    x = x + 1"
   ]
  },
  {
   "cell_type": "code",
   "execution_count": 107,
   "id": "685416cf",
   "metadata": {},
   "outputs": [
    {
     "name": "stdout",
     "output_type": "stream",
     "text": [
      "11\n"
     ]
    }
   ],
   "source": [
    "# x 加總 10 次\n",
    "x = 1\n",
    "while x <= 10:\n",
    "    x = x+1\n",
    "print(x)"
   ]
  },
  {
   "cell_type": "code",
   "execution_count": 108,
   "id": "dd586ad9",
   "metadata": {},
   "outputs": [
    {
     "name": "stdout",
     "output_type": "stream",
     "text": [
      "1\n",
      "3\n",
      "6\n",
      "10\n",
      "15\n",
      "21\n",
      "28\n",
      "36\n",
      "45\n",
      "55\n"
     ]
    }
   ],
   "source": [
    "# 計算 1 到 10 的總和\n",
    "x = 1\n",
    "result = 0\n",
    "while x <= 10:\n",
    "    result = result + x\n",
    "    x = x + 1\n",
    "    print(result)"
   ]
  },
  {
   "cell_type": "code",
   "execution_count": null,
   "id": "9c74f46d",
   "metadata": {},
   "outputs": [],
   "source": []
  },
  {
   "cell_type": "code",
   "execution_count": null,
   "id": "ccaddd8a",
   "metadata": {},
   "outputs": [],
   "source": []
  }
 ],
 "metadata": {
  "kernelspec": {
   "display_name": "Python 3 (ipykernel)",
   "language": "python",
   "name": "python3"
  },
  "language_info": {
   "codemirror_mode": {
    "name": "ipython",
    "version": 3
   },
   "file_extension": ".py",
   "mimetype": "text/x-python",
   "name": "python",
   "nbconvert_exporter": "python",
   "pygments_lexer": "ipython3",
   "version": "3.9.5"
  }
 },
 "nbformat": 4,
 "nbformat_minor": 5
}
