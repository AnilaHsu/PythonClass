{
 "cells": [
  {
   "cell_type": "markdown",
   "id": "d7bc9c1c",
   "metadata": {},
   "source": [
    "# For Loop"
   ]
  },
  {
   "cell_type": "markdown",
   "id": "c1a28672",
   "metadata": {},
   "source": [
    "## 單層 for-loop \n",
    "- 使用 for 和 in 關鍵字\n",
    "- for 變數 in 序列(Sequence)"
   ]
  },
  {
   "cell_type": "code",
   "execution_count": null,
   "id": "88e0f52c",
   "metadata": {},
   "outputs": [],
   "source": [
    "# string\n",
    "for i in 'Firstins':\n",
    "    print(i)"
   ]
  },
  {
   "cell_type": "code",
   "execution_count": null,
   "id": "8368fbee",
   "metadata": {},
   "outputs": [],
   "source": [
    "# list\n",
    "colleagues = ['Angel','Lillian','Michelle','Joy']\n",
    "for i in colleagues:\n",
    "    print(i)"
   ]
  },
  {
   "cell_type": "code",
   "execution_count": null,
   "id": "d50d6e40",
   "metadata": {},
   "outputs": [],
   "source": [
    "nums = [0,1,2,3,4,5]\n",
    "for i in nums:\n",
    "    print(i)"
   ]
  },
  {
   "cell_type": "code",
   "execution_count": null,
   "id": "266b8903",
   "metadata": {},
   "outputs": [],
   "source": [
    "## for loop & range()"
   ]
  },
  {
   "cell_type": "code",
   "execution_count": null,
   "id": "129ea3a0",
   "metadata": {},
   "outputs": [],
   "source": [
    "for i in range(5):\n",
    "    print(i)"
   ]
  },
  {
   "cell_type": "code",
   "execution_count": 98,
   "id": "17437089",
   "metadata": {},
   "outputs": [
    {
     "name": "stdout",
     "output_type": "stream",
     "text": [
      "2\n",
      "3\n",
      "4\n",
      "5\n",
      "6\n"
     ]
    }
   ],
   "source": [
    "# Q: 將 1 加 1 執行五次: 1+1+1+1+1\n"
   ]
  },
  {
   "cell_type": "code",
   "execution_count": null,
   "id": "8203b347",
   "metadata": {},
   "outputs": [],
   "source": [
    "# Q: 計算 1 加到 8 的總和: 0+1+2+3+4+5+6+7+8\n"
   ]
  },
  {
   "cell_type": "code",
   "execution_count": null,
   "id": "0e2ad1dd",
   "metadata": {},
   "outputs": [],
   "source": [
    "for i in range(2,9):\n",
    "    print(i)"
   ]
  },
  {
   "cell_type": "code",
   "execution_count": null,
   "id": "61df6511",
   "metadata": {},
   "outputs": [],
   "source": [
    "# Q: 計算 2 加到 8 的總和: 2+3+4+5+6+7+8\n"
   ]
  },
  {
   "cell_type": "code",
   "execution_count": null,
   "id": "c0a7ce94",
   "metadata": {},
   "outputs": [],
   "source": [
    "for i in range(1,10,2):\n",
    "    print(i)"
   ]
  },
  {
   "cell_type": "code",
   "execution_count": null,
   "id": "a3cc3d24",
   "metadata": {},
   "outputs": [],
   "source": [
    "# Q: 計算 0-100 奇數總和\n"
   ]
  },
  {
   "cell_type": "code",
   "execution_count": null,
   "id": "9a592bc1",
   "metadata": {},
   "outputs": [],
   "source": [
    "colleagues = ['Henry','Angel','Tim','Lillian','Andy','Michelle','John','Joy']\n",
    "for i in colleagues:\n",
    "    print(i)"
   ]
  },
  {
   "cell_type": "code",
   "execution_count": null,
   "id": "0a6bf5b9",
   "metadata": {},
   "outputs": [],
   "source": [
    "colleagues = ['Henry','Angel','Tim','Lillian','Andy','Michelle','John','Joy']\n",
    "for i in range(len(colleagues)):\n",
    "    print(colleagues[i])"
   ]
  },
  {
   "cell_type": "code",
   "execution_count": null,
   "id": "c46ae0be",
   "metadata": {},
   "outputs": [],
   "source": [
    "colleagues = ['Henry','Angel','Tim','Lillian','Andy','Michelle','John','Joy']\n",
    "for i in range(0,len(colleagues),2):\n",
    "    print(colleagues[i])"
   ]
  },
  {
   "cell_type": "code",
   "execution_count": null,
   "id": "3661f2cd",
   "metadata": {},
   "outputs": [],
   "source": [
    "## for loop & enumerate()"
   ]
  },
  {
   "cell_type": "code",
   "execution_count": null,
   "id": "aad33404",
   "metadata": {},
   "outputs": [],
   "source": [
    "# 加上索引\n",
    "fruits = ['guava', 'litchi', 'pear', 'banana', 'papaya', 'mango'] \n",
    "\n",
    "for index, fruit in enumerate(fruits): \n",
    "    print(index, fruit) "
   ]
  },
  {
   "cell_type": "code",
   "execution_count": null,
   "id": "d58a9c77",
   "metadata": {},
   "outputs": [],
   "source": [
    "## for loop & zip()"
   ]
  },
  {
   "cell_type": "code",
   "execution_count": null,
   "id": "4d3ceded",
   "metadata": {},
   "outputs": [],
   "source": [
    "# 合併兩個 List\n",
    "fruits = ['guava', 'litchi', 'pear', 'banana', 'papaya', 'mango'] \n",
    "price_list = [100,120,80,70,90,60]\n",
    "for fruit,price in zip(fruits,price_list):\n",
    "    print(fruit,price)"
   ]
  },
  {
   "cell_type": "code",
   "execution_count": null,
   "id": "488ac270",
   "metadata": {},
   "outputs": [],
   "source": [
    "# 印出 2 的 6 次方\n",
    "print(pow(2,6))"
   ]
  },
  {
   "cell_type": "code",
   "execution_count": null,
   "id": "db523f6d",
   "metadata": {},
   "outputs": [],
   "source": [
    "# 將 2 的 6 次方使用 for-loop 呈現\n",
    "\n",
    "num = 2\n",
    "result = 2\n",
    "for i in range(5):\n",
    "    result = result * num\n",
    "    print(result)"
   ]
  },
  {
   "cell_type": "markdown",
   "id": "23dc4dc6",
   "metadata": {},
   "source": [
    "## 巢狀 for-loop"
   ]
  },
  {
   "cell_type": "code",
   "execution_count": null,
   "id": "600f5776",
   "metadata": {},
   "outputs": [],
   "source": [
    "for i in range(5):\n",
    "    for j in range(5):\n",
    "        print(i,j)"
   ]
  },
  {
   "cell_type": "code",
   "execution_count": null,
   "id": "134b18b9",
   "metadata": {},
   "outputs": [],
   "source": [
    "# Q: 九九乘法表\n"
   ]
  },
  {
   "cell_type": "markdown",
   "id": "2666a732",
   "metadata": {},
   "source": [
    "### break and continue"
   ]
  },
  {
   "cell_type": "code",
   "execution_count": null,
   "id": "ca7df51a",
   "metadata": {},
   "outputs": [],
   "source": [
    "x = 'TheOne'\n",
    "for i in x:\n",
    "    if i =='n':\n",
    "        break\n",
    "    print(i)"
   ]
  },
  {
   "cell_type": "code",
   "execution_count": null,
   "id": "c63631cd",
   "metadata": {},
   "outputs": [],
   "source": [
    "x = 'TheOne'\n",
    "for i in x:\n",
    "    if i =='n':\n",
    "        continue\n",
    "    print(i)"
   ]
  },
  {
   "cell_type": "code",
   "execution_count": null,
   "id": "7a0ae008",
   "metadata": {},
   "outputs": [],
   "source": [
    "for i in range(1,30):\n",
    "    if  i % 5 == 0:\n",
    "        break\n",
    "    print(i)"
   ]
  },
  {
   "cell_type": "code",
   "execution_count": null,
   "id": "8c90c91f",
   "metadata": {},
   "outputs": [],
   "source": [
    "for i in range(1,30):\n",
    "    if  i % 5 == 0:\n",
    "        continue\n",
    "    print(i)"
   ]
  },
  {
   "cell_type": "markdown",
   "id": "42ee49d4",
   "metadata": {},
   "source": [
    "# while Loop"
   ]
  },
  {
   "cell_type": "code",
   "execution_count": 96,
   "id": "8605b883",
   "metadata": {},
   "outputs": [
    {
     "name": "stdout",
     "output_type": "stream",
     "text": [
      "0\n",
      "1\n",
      "2\n",
      "3\n",
      "4\n",
      "5\n"
     ]
    }
   ],
   "source": [
    "x = 0\n",
    "while x <= 5:\n",
    "    print(x)\n",
    "    x = x + 1"
   ]
  },
  {
   "cell_type": "code",
   "execution_count": 107,
   "id": "f73c77d0",
   "metadata": {},
   "outputs": [
    {
     "name": "stdout",
     "output_type": "stream",
     "text": [
      "11\n"
     ]
    }
   ],
   "source": [
    "# x 加總 10 次\n",
    "x = 1\n",
    "while x <= 10:\n",
    "    x = x+1\n",
    "print(x)"
   ]
  },
  {
   "cell_type": "code",
   "execution_count": 108,
   "id": "62a793d7",
   "metadata": {},
   "outputs": [
    {
     "name": "stdout",
     "output_type": "stream",
     "text": [
      "1\n",
      "3\n",
      "6\n",
      "10\n",
      "15\n",
      "21\n",
      "28\n",
      "36\n",
      "45\n",
      "55\n"
     ]
    }
   ],
   "source": [
    "# 計算 1 到 10 的總和\n",
    "x = 1\n",
    "result = 0\n",
    "while x <= 10:\n",
    "    result = result + x\n",
    "    x = x + 1\n",
    "    print(result)"
   ]
  },
  {
   "cell_type": "code",
   "execution_count": null,
   "id": "6f1cc345",
   "metadata": {},
   "outputs": [],
   "source": [
    "i = 0\n",
    "while i < 10:\n",
    "    i = i + 1\n",
    "    if i == 4:\n",
    "        continue\n",
    "    print (i, end = \" \")"
   ]
  },
  {
   "cell_type": "code",
   "execution_count": null,
   "id": "537b46a7",
   "metadata": {},
   "outputs": [],
   "source": []
  },
  {
   "cell_type": "code",
   "execution_count": null,
   "id": "29f583de",
   "metadata": {},
   "outputs": [],
   "source": []
  }
 ],
 "metadata": {
  "kernelspec": {
   "display_name": "Python 3 (ipykernel)",
   "language": "python",
   "name": "python3"
  },
  "language_info": {
   "codemirror_mode": {
    "name": "ipython",
    "version": 3
   },
   "file_extension": ".py",
   "mimetype": "text/x-python",
   "name": "python",
   "nbconvert_exporter": "python",
   "pygments_lexer": "ipython3",
   "version": "3.9.5"
  }
 },
 "nbformat": 4,
 "nbformat_minor": 5
}
