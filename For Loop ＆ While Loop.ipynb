{
 "cells": [
  {
   "cell_type": "markdown",
   "id": "04b123b1",
   "metadata": {},
   "source": [
    "# For Loop"
   ]
  },
  {
   "cell_type": "markdown",
   "id": "08a01cec",
   "metadata": {},
   "source": [
    "## 單層 for-loop \n",
    "- 使用 for 和 in 關鍵字\n",
    "- for 變數 in 序列(Sequence)"
   ]
  },
  {
   "cell_type": "code",
   "execution_count": 1,
   "id": "e7e6efc7",
   "metadata": {},
   "outputs": [
    {
     "name": "stdout",
     "output_type": "stream",
     "text": [
      "F\n",
      "i\n",
      "r\n",
      "s\n",
      "t\n",
      "i\n",
      "n\n",
      "s\n"
     ]
    }
   ],
   "source": [
    "# string\n",
    "for i in 'Firstins':\n",
    "    print(i)"
   ]
  },
  {
   "cell_type": "code",
   "execution_count": 2,
   "id": "6d13be83",
   "metadata": {},
   "outputs": [
    {
     "name": "stdout",
     "output_type": "stream",
     "text": [
      "Angel\n",
      "Lillian\n",
      "Michelle\n",
      "Joy\n"
     ]
    }
   ],
   "source": [
    "# list\n",
    "colleagues = ['Angel','Lillian','Michelle','Joy']\n",
    "for i in colleagues:\n",
    "    print(i)"
   ]
  },
  {
   "cell_type": "code",
   "execution_count": 3,
   "id": "51754fb0",
   "metadata": {},
   "outputs": [
    {
     "name": "stdout",
     "output_type": "stream",
     "text": [
      "0\n",
      "1\n",
      "2\n",
      "3\n",
      "4\n",
      "5\n"
     ]
    }
   ],
   "source": [
    "nums = [0,1,2,3,4,5]\n",
    "for i in nums:\n",
    "    print(i)"
   ]
  },
  {
   "cell_type": "code",
   "execution_count": null,
   "id": "9820b0e9",
   "metadata": {},
   "outputs": [],
   "source": [
    "## for loop & range()"
   ]
  },
  {
   "cell_type": "code",
   "execution_count": null,
   "id": "c8ff8d89",
   "metadata": {},
   "outputs": [],
   "source": [
    "for i in range(5):\n",
    "    print(i)"
   ]
  },
  {
   "cell_type": "code",
   "execution_count": 6,
   "id": "b368dce1",
   "metadata": {},
   "outputs": [
    {
     "name": "stdout",
     "output_type": "stream",
     "text": [
      "2\n",
      "3\n",
      "4\n",
      "5\n",
      "6\n"
     ]
    }
   ],
   "source": [
    "# Q: 將 1 加 1 執行五次: 1+1+1+1+1+1\n",
    "x = 1\n",
    "for i in range(5):\n",
    "    x = x+1\n",
    "    print(x)"
   ]
  },
  {
   "cell_type": "code",
   "execution_count": 7,
   "id": "990f8c6c",
   "metadata": {},
   "outputs": [
    {
     "name": "stdout",
     "output_type": "stream",
     "text": [
      "36\n"
     ]
    }
   ],
   "source": [
    "# Q: 計算 1 加到 8 的總和: 0+1+2+3+4+5+6+7+8\n",
    "x = 0\n",
    "for i in range(9):\n",
    "    x = x+i\n",
    "print(x)"
   ]
  },
  {
   "cell_type": "code",
   "execution_count": 8,
   "id": "09e2028d",
   "metadata": {},
   "outputs": [
    {
     "name": "stdout",
     "output_type": "stream",
     "text": [
      "2\n",
      "3\n",
      "4\n",
      "5\n",
      "6\n",
      "7\n",
      "8\n"
     ]
    }
   ],
   "source": [
    "for i in range(2,9):\n",
    "    print(i)"
   ]
  },
  {
   "cell_type": "code",
   "execution_count": 9,
   "id": "6dd4f8f6",
   "metadata": {},
   "outputs": [
    {
     "name": "stdout",
     "output_type": "stream",
     "text": [
      "35\n"
     ]
    }
   ],
   "source": [
    "# Q: 計算 2 加到 8 的總和: 2+3+4+5+6+7+8\n",
    "x = 0\n",
    "for i in range(2,9):\n",
    "    x = x+i\n",
    "print(x)"
   ]
  },
  {
   "cell_type": "code",
   "execution_count": 10,
   "id": "681d11a7",
   "metadata": {},
   "outputs": [
    {
     "name": "stdout",
     "output_type": "stream",
     "text": [
      "1\n",
      "3\n",
      "5\n",
      "7\n",
      "9\n"
     ]
    }
   ],
   "source": [
    "for i in range(1,10,2):\n",
    "    print(i)"
   ]
  },
  {
   "cell_type": "code",
   "execution_count": 18,
   "id": "5ef097bf",
   "metadata": {},
   "outputs": [
    {
     "name": "stdout",
     "output_type": "stream",
     "text": [
      "2550\n"
     ]
    }
   ],
   "source": [
    "# Q: 計算 0-100 奇數總和\n",
    "x = 0\n",
    "for i in range(0,101,2):\n",
    "    x=x+i\n",
    "print(x)"
   ]
  },
  {
   "cell_type": "code",
   "execution_count": null,
   "id": "f29a60d4",
   "metadata": {},
   "outputs": [],
   "source": [
    "colleagues = ['Henry','Angel','Tim','Lillian','Andy','Michelle','John','Joy']\n",
    "for i in colleagues:\n",
    "    print(i)"
   ]
  },
  {
   "cell_type": "code",
   "execution_count": null,
   "id": "78807fab",
   "metadata": {},
   "outputs": [],
   "source": [
    "colleagues = ['Henry','Angel','Tim','Lillian','Andy','Michelle','John','Joy']\n",
    "for i in range(len(colleagues)):\n",
    "    print(colleagues[i])"
   ]
  },
  {
   "cell_type": "code",
   "execution_count": null,
   "id": "ed5bd5aa",
   "metadata": {},
   "outputs": [],
   "source": [
    "colleagues = ['Henry','Angel','Tim','Lillian','Andy','Michelle','John','Joy']\n",
    "for i in range(0,len(colleagues),2):\n",
    "    print(colleagues[i])"
   ]
  },
  {
   "cell_type": "code",
   "execution_count": null,
   "id": "2af0ade7",
   "metadata": {},
   "outputs": [],
   "source": [
    "## for loop & enumerate()"
   ]
  },
  {
   "cell_type": "code",
   "execution_count": 23,
   "id": "60186150",
   "metadata": {},
   "outputs": [
    {
     "name": "stdout",
     "output_type": "stream",
     "text": [
      "(0, 'guava')\n",
      "(1, 'litchi')\n",
      "(2, 'pear')\n",
      "(3, 'banana')\n",
      "(4, 'papaya')\n",
      "(5, 'mango')\n"
     ]
    }
   ],
   "source": [
    "# 加上索引\n",
    "fruits = ['guava', 'litchi', 'pear', 'banana', 'papaya', 'mango'] \n",
    "\n",
    "for index, fruit in enumerate(fruits): \n",
    "    print(index, fruit) "
   ]
  },
  {
   "cell_type": "code",
   "execution_count": null,
   "id": "ba10fe1a",
   "metadata": {},
   "outputs": [],
   "source": [
    "## for loop & zip()"
   ]
  },
  {
   "cell_type": "code",
   "execution_count": 25,
   "id": "15879e53",
   "metadata": {},
   "outputs": [
    {
     "name": "stdout",
     "output_type": "stream",
     "text": [
      "guava 100\n",
      "litchi 120\n",
      "pear 80\n",
      "banana 70\n",
      "papaya 90\n",
      "mango 60\n"
     ]
    }
   ],
   "source": [
    "# 合併兩個 List\n",
    "fruits = ['guava', 'litchi', 'pear', 'banana', 'papaya', 'mango'] \n",
    "price_list = [100,120,80,70,90,60]\n",
    "\n",
    "for fruit,price in zip(fruits,price_list):\n",
    "    print(fruit,price)"
   ]
  },
  {
   "cell_type": "code",
   "execution_count": null,
   "id": "3ed0fc63",
   "metadata": {},
   "outputs": [],
   "source": [
    "# 印出 2 的 6 次方\n",
    "print(pow(2,6))"
   ]
  },
  {
   "cell_type": "code",
   "execution_count": null,
   "id": "35656ede",
   "metadata": {},
   "outputs": [],
   "source": [
    "# 將 2 的 6 次方使用 for-loop 呈現\n",
    "\n",
    "num = 2\n",
    "result = 2\n",
    "for i in range(5):\n",
    "    result = result * num\n",
    "    print(result)"
   ]
  },
  {
   "cell_type": "markdown",
   "id": "4a599fc4",
   "metadata": {},
   "source": [
    "## 巢狀 for-loop"
   ]
  },
  {
   "cell_type": "code",
   "execution_count": 26,
   "id": "afe1dca0",
   "metadata": {},
   "outputs": [
    {
     "name": "stdout",
     "output_type": "stream",
     "text": [
      "0 0\n",
      "0 1\n",
      "0 2\n",
      "0 3\n",
      "0 4\n",
      "1 0\n",
      "1 1\n",
      "1 2\n",
      "1 3\n",
      "1 4\n",
      "2 0\n",
      "2 1\n",
      "2 2\n",
      "2 3\n",
      "2 4\n",
      "3 0\n",
      "3 1\n",
      "3 2\n",
      "3 3\n",
      "3 4\n",
      "4 0\n",
      "4 1\n",
      "4 2\n",
      "4 3\n",
      "4 4\n"
     ]
    }
   ],
   "source": [
    "for i in range(5):\n",
    "    for j in range(5):\n",
    "        print(i,j)"
   ]
  },
  {
   "cell_type": "code",
   "execution_count": 28,
   "id": "a9ce9e10",
   "metadata": {},
   "outputs": [
    {
     "name": "stdout",
     "output_type": "stream",
     "text": [
      "1 * 1 = 1\n",
      "1 * 2 = 2\n",
      "1 * 3 = 3\n",
      "1 * 4 = 4\n",
      "1 * 5 = 5\n",
      "1 * 6 = 6\n",
      "1 * 7 = 7\n",
      "1 * 8 = 8\n",
      "1 * 9 = 9\n",
      "2 * 1 = 2\n",
      "2 * 2 = 4\n",
      "2 * 3 = 6\n",
      "2 * 4 = 8\n",
      "2 * 5 = 10\n",
      "2 * 6 = 12\n",
      "2 * 7 = 14\n",
      "2 * 8 = 16\n",
      "2 * 9 = 18\n",
      "3 * 1 = 3\n",
      "3 * 2 = 6\n",
      "3 * 3 = 9\n",
      "3 * 4 = 12\n",
      "3 * 5 = 15\n",
      "3 * 6 = 18\n",
      "3 * 7 = 21\n",
      "3 * 8 = 24\n",
      "3 * 9 = 27\n",
      "4 * 1 = 4\n",
      "4 * 2 = 8\n",
      "4 * 3 = 12\n",
      "4 * 4 = 16\n",
      "4 * 5 = 20\n",
      "4 * 6 = 24\n",
      "4 * 7 = 28\n",
      "4 * 8 = 32\n",
      "4 * 9 = 36\n",
      "5 * 1 = 5\n",
      "5 * 2 = 10\n",
      "5 * 3 = 15\n",
      "5 * 4 = 20\n",
      "5 * 5 = 25\n",
      "5 * 6 = 30\n",
      "5 * 7 = 35\n",
      "5 * 8 = 40\n",
      "5 * 9 = 45\n",
      "6 * 1 = 6\n",
      "6 * 2 = 12\n",
      "6 * 3 = 18\n",
      "6 * 4 = 24\n",
      "6 * 5 = 30\n",
      "6 * 6 = 36\n",
      "6 * 7 = 42\n",
      "6 * 8 = 48\n",
      "6 * 9 = 54\n",
      "7 * 1 = 7\n",
      "7 * 2 = 14\n",
      "7 * 3 = 21\n",
      "7 * 4 = 28\n",
      "7 * 5 = 35\n",
      "7 * 6 = 42\n",
      "7 * 7 = 49\n",
      "7 * 8 = 56\n",
      "7 * 9 = 63\n",
      "8 * 1 = 8\n",
      "8 * 2 = 16\n",
      "8 * 3 = 24\n",
      "8 * 4 = 32\n",
      "8 * 5 = 40\n",
      "8 * 6 = 48\n",
      "8 * 7 = 56\n",
      "8 * 8 = 64\n",
      "8 * 9 = 72\n",
      "9 * 1 = 9\n",
      "9 * 2 = 18\n",
      "9 * 3 = 27\n",
      "9 * 4 = 36\n",
      "9 * 5 = 45\n",
      "9 * 6 = 54\n",
      "9 * 7 = 63\n",
      "9 * 8 = 72\n",
      "9 * 9 = 81\n"
     ]
    }
   ],
   "source": [
    "# Q: 九九乘法表\n",
    "for i in range(1,10):\n",
    "    for j in range(1,10):\n",
    "        print(i,'*',j,'=',i*j)"
   ]
  },
  {
   "cell_type": "markdown",
   "id": "202a218a",
   "metadata": {},
   "source": [
    "### break and continue"
   ]
  },
  {
   "cell_type": "code",
   "execution_count": null,
   "id": "8f124bff",
   "metadata": {},
   "outputs": [],
   "source": [
    "x = 'TheOne'\n",
    "for i in x:\n",
    "    if i =='n':\n",
    "        break\n",
    "    print(i)"
   ]
  },
  {
   "cell_type": "code",
   "execution_count": null,
   "id": "935e5547",
   "metadata": {},
   "outputs": [],
   "source": [
    "x = 'TheOne'\n",
    "for i in x:\n",
    "    if i =='n':\n",
    "        continue\n",
    "    print(i)"
   ]
  },
  {
   "cell_type": "code",
   "execution_count": null,
   "id": "fc2e7d21",
   "metadata": {},
   "outputs": [],
   "source": [
    "for i in range(1,30):\n",
    "    if  i % 5 == 0:\n",
    "        break\n",
    "    print(i)"
   ]
  },
  {
   "cell_type": "code",
   "execution_count": null,
   "id": "651408f6",
   "metadata": {},
   "outputs": [],
   "source": [
    "for i in range(1,30):\n",
    "    if  i % 5 == 0:\n",
    "        continue\n",
    "    print(i)"
   ]
  },
  {
   "cell_type": "markdown",
   "id": "2f589fee",
   "metadata": {},
   "source": [
    "# while Loop"
   ]
  },
  {
   "cell_type": "code",
   "execution_count": 96,
   "id": "19892d4d",
   "metadata": {},
   "outputs": [
    {
     "name": "stdout",
     "output_type": "stream",
     "text": [
      "0\n",
      "1\n",
      "2\n",
      "3\n",
      "4\n",
      "5\n"
     ]
    }
   ],
   "source": [
    "x = 0\n",
    "while x <= 5:\n",
    "    print(x)\n",
    "    x = x + 1"
   ]
  },
  {
   "cell_type": "code",
   "execution_count": 107,
   "id": "8deeeb79",
   "metadata": {},
   "outputs": [
    {
     "name": "stdout",
     "output_type": "stream",
     "text": [
      "11\n"
     ]
    }
   ],
   "source": [
    "# x 加總 10 次\n",
    "x = 1\n",
    "while x <= 10:\n",
    "    x = x+1\n",
    "print(x)"
   ]
  },
  {
   "cell_type": "code",
   "execution_count": 108,
   "id": "2dca2c87",
   "metadata": {},
   "outputs": [
    {
     "name": "stdout",
     "output_type": "stream",
     "text": [
      "1\n",
      "3\n",
      "6\n",
      "10\n",
      "15\n",
      "21\n",
      "28\n",
      "36\n",
      "45\n",
      "55\n"
     ]
    }
   ],
   "source": [
    "# 計算 1 到 10 的總和\n",
    "x = 1\n",
    "result = 0\n",
    "while x <= 10:\n",
    "    result = result + x\n",
    "    x = x + 1\n",
    "    print(result)"
   ]
  },
  {
   "cell_type": "code",
   "execution_count": 2,
   "id": "8ee8c03a",
   "metadata": {},
   "outputs": [
    {
     "name": "stdout",
     "output_type": "stream",
     "text": [
      "1 2 3 4 "
     ]
    }
   ],
   "source": [
    "i = 0\n",
    "while i < 10:\n",
    "    i = i + 1\n",
    "    if i == 5:\n",
    "        break\n",
    "    print (i, end = \" \")"
   ]
  },
  {
   "cell_type": "code",
   "execution_count": null,
   "id": "9135cf6f",
   "metadata": {},
   "outputs": [],
   "source": [
    "i = 0\n",
    "while i < 10:\n",
    "    i = i + 1\n",
    "    if i == 5:\n",
    "        continue\n",
    "    print (i, end = \" \")"
   ]
  },
  {
   "cell_type": "code",
   "execution_count": null,
   "id": "7cdc8354",
   "metadata": {},
   "outputs": [],
   "source": []
  },
  {
   "cell_type": "code",
   "execution_count": null,
   "id": "22ab0fd2",
   "metadata": {},
   "outputs": [],
   "source": []
  }
 ],
 "metadata": {
  "kernelspec": {
   "display_name": "Python 3 (ipykernel)",
   "language": "python",
   "name": "python3"
  },
  "language_info": {
   "codemirror_mode": {
    "name": "ipython",
    "version": 3
   },
   "file_extension": ".py",
   "mimetype": "text/x-python",
   "name": "python",
   "nbconvert_exporter": "python",
   "pygments_lexer": "ipython3",
   "version": "3.9.5"
  }
 },
 "nbformat": 4,
 "nbformat_minor": 5
}
