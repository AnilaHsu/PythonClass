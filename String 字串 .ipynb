{
 "cells": [
  {
   "cell_type": "markdown",
   "id": "4195816f",
   "metadata": {},
   "source": [
    "# 字串的用法"
   ]
  },
  {
   "cell_type": "markdown",
   "id": "a30ec9d4",
   "metadata": {},
   "source": [
    "## 字串相加\n",
    "- 使用『+』進行字串相連\n",
    "- 注意：『+』只適用於同型態的物件相加"
   ]
  },
  {
   "cell_type": "code",
   "execution_count": 84,
   "id": "99342f70",
   "metadata": {},
   "outputs": [
    {
     "name": "stdout",
     "output_type": "stream",
     "text": [
      "ab\n",
      "('a', 'b')\n"
     ]
    }
   ],
   "source": [
    "# 『+』：相加\n",
    "# 『,』：表示兩個獨立的字符\n",
    "x ='a'+'b'\n",
    "y = 'a','b'\n",
    "print(x)\n",
    "print(y)"
   ]
  },
  {
   "cell_type": "code",
   "execution_count": 86,
   "id": "a0c50087",
   "metadata": {},
   "outputs": [
    {
     "name": "stdout",
     "output_type": "stream",
     "text": [
      "a 3\n"
     ]
    }
   ],
   "source": [
    "# 因『,』表示兩個獨立的字符，可以同時印出不同型態的東西\n",
    "print('a',3)"
   ]
  },
  {
   "cell_type": "code",
   "execution_count": null,
   "id": "971f8b49",
   "metadata": {},
   "outputs": [],
   "source": [
    "print('e'+'m'+'a'+'i'+'l')\n",
    "print('email')"
   ]
  },
  {
   "cell_type": "code",
   "execution_count": null,
   "id": "e9543dfe",
   "metadata": {},
   "outputs": [],
   "source": [
    "x = 'Happpy'\n",
    "y = 'New'\n",
    "z = 'Year'\n",
    "sum \n",
    "print(sum)"
   ]
  },
  {
   "cell_type": "code",
   "execution_count": null,
   "id": "a63b0a8b",
   "metadata": {},
   "outputs": [],
   "source": [
    "print('Hi,my name is Lala')\n",
    "print('I am 22 years old, my hobbies are photography and cooking, and my profession is a data analyst')"
   ]
  },
  {
   "cell_type": "code",
   "execution_count": null,
   "id": "9d141c03",
   "metadata": {},
   "outputs": [],
   "source": [
    "name = 'Lala'\n",
    "age = 22\n",
    "hobby1 = 'photography'\n",
    "hobby2 = 'cooking'\n",
    "my_occupation = 'data analyst'"
   ]
  },
  {
   "cell_type": "code",
   "execution_count": null,
   "id": "f371128f",
   "metadata": {},
   "outputs": [],
   "source": [
    "print('Hi,my name is' + ' ' + name + '.')\n",
    "print('I am ' + str(age) + ' years old, my hobbies are ' + hobby1 + ' and ' + hobby2,' and my profession is a '+ my_occupation+'.')"
   ]
  },
  {
   "cell_type": "code",
   "execution_count": null,
   "id": "ca4280aa",
   "metadata": {},
   "outputs": [],
   "source": [
    "# 創建自己的變數\n",
    "name\n",
    "age\n",
    "hobby1\n",
    "hobby2\n",
    "my_job"
   ]
  },
  {
   "cell_type": "code",
   "execution_count": null,
   "id": "68e2ce4e",
   "metadata": {},
   "outputs": [],
   "source": [
    "# 將變數帶入至句子裡面\n",
    "print('Hi,my name is' + ' ' + name + '.')\n",
    "print('I am ' + str(age) + ' years old, my hobbies are ' + hobby1 + ' and ' + hobby2,' and my profession is a '+ my_occupation+'.')"
   ]
  },
  {
   "cell_type": "markdown",
   "id": "2973cb8c",
   "metadata": {},
   "source": [
    "## 字串相乘\n",
    "- 使用『*n』將字串重複 n 個 "
   ]
  },
  {
   "cell_type": "code",
   "execution_count": null,
   "id": "f5ee0522",
   "metadata": {},
   "outputs": [],
   "source": [
    "x = 'Cheers!'\n",
    "y = x * 3\n",
    "print(y)"
   ]
  },
  {
   "cell_type": "code",
   "execution_count": null,
   "id": "3827fab0",
   "metadata": {},
   "outputs": [],
   "source": [
    "# 字串的加法與乘法"
   ]
  },
  {
   "cell_type": "code",
   "execution_count": 100,
   "id": "f0439c72",
   "metadata": {},
   "outputs": [
    {
     "name": "stdout",
     "output_type": "stream",
     "text": [
      "hello!「apple」「apple」「apple」\n",
      "hello!「apple」hello!「apple」hello!「apple」\n"
     ]
    }
   ],
   "source": [
    "# 適用於先乘除後加減的原則\n",
    "x = 'hello!'\n",
    "y = '「apple」'\n",
    "z = x+y*3\n",
    "print(z)\n",
    "print((x+y)*3)"
   ]
  },
  {
   "cell_type": "code",
   "execution_count": null,
   "id": "597e2765",
   "metadata": {},
   "outputs": [],
   "source": []
  },
  {
   "cell_type": "markdown",
   "id": "c27e4866",
   "metadata": {},
   "source": [
    "## 大小寫轉換\n",
    "- 首字大寫，其餘小寫: string.capitalize()   \n",
    "- 所有『單字』的首字大寫，其餘小寫: string.title() \n",
    "- 所有字母都大寫: string.upper()\n",
    "- 所有字母都小寫: string.lower()"
   ]
  },
  {
   "cell_type": "markdown",
   "id": "8b5281d5",
   "metadata": {},
   "source": [
    "## 字串判斷\n",
    "- 判斷是否皆為字母: string.isalpha()\n",
    "- 判斷是否為數字: string.isdigit()\n",
    "- 判斷是否所有單字以大寫開始: string.istitle() \n",
    "- 判斷是否都是大寫: string.isupper()\n",
    "- 判斷是否都是小寫: string.islower()"
   ]
  },
  {
   "cell_type": "code",
   "execution_count": 26,
   "id": "1d3acd37",
   "metadata": {},
   "outputs": [],
   "source": [
    "# 先將值存入變數\n",
    "# 空格(字符)也佔一個 index\n",
    "string = 'The One'"
   ]
  },
  {
   "cell_type": "code",
   "execution_count": 27,
   "id": "b9a2a611",
   "metadata": {},
   "outputs": [
    {
     "name": "stdout",
     "output_type": "stream",
     "text": [
      "The one\n"
     ]
    }
   ],
   "source": [
    "# 只有第一個字大寫\n",
    "print(string.capitalize())"
   ]
  },
  {
   "cell_type": "code",
   "execution_count": 29,
   "id": "817bebe0",
   "metadata": {},
   "outputs": [
    {
     "name": "stdout",
     "output_type": "stream",
     "text": [
      "Hello World\n"
     ]
    }
   ],
   "source": [
    "# 將『所有單字』以大寫開頭，其餘小寫\n",
    "# 字串以『單字』為單位作轉換\n",
    "x = 'hello world'\n",
    "print(x.title())\n"
   ]
  },
  {
   "cell_type": "code",
   "execution_count": 5,
   "id": "7cbecf65",
   "metadata": {},
   "outputs": [
    {
     "name": "stdout",
     "output_type": "stream",
     "text": [
      "THE ONE\n"
     ]
    }
   ],
   "source": [
    "# 所有字母大寫\n",
    "print(string.upper())"
   ]
  },
  {
   "cell_type": "code",
   "execution_count": null,
   "id": "f56268f0",
   "metadata": {},
   "outputs": [],
   "source": [
    "# 所有字母小寫\n",
    "print(string.lower())"
   ]
  },
  {
   "cell_type": "code",
   "execution_count": null,
   "id": "f8801279",
   "metadata": {},
   "outputs": [],
   "source": []
  },
  {
   "cell_type": "code",
   "execution_count": 33,
   "id": "c9b73763",
   "metadata": {},
   "outputs": [
    {
     "name": "stdout",
     "output_type": "stream",
     "text": [
      "False\n",
      "True\n"
     ]
    }
   ],
   "source": [
    "# 判斷是否皆為字母\n",
    "# isalpha()判斷只能包含『 A-Z』字母 \n",
    "# 空格為字符非字母\n",
    "string1 = 'The One'\n",
    "print(string1.isalpha())\n",
    "string2 = 'TheOne'\n",
    "print(string2.isalpha())"
   ]
  },
  {
   "cell_type": "code",
   "execution_count": null,
   "id": "c62f88de",
   "metadata": {},
   "outputs": [],
   "source": [
    "# 判斷是否皆為數字\n",
    "print(string.isdigit())"
   ]
  },
  {
   "cell_type": "code",
   "execution_count": null,
   "id": "95f5d812",
   "metadata": {},
   "outputs": [],
   "source": [
    "string = 'The One'\n",
    "\n",
    "# 判斷是否所有單字以大寫開始 (單字只能首字大其餘小寫)\n",
    "print(string.istitle())\n",
    "\n",
    "# 判斷是否所有字母都是小寫\n",
    "print(string.isupper())\n",
    "\n",
    "# 判斷是否所有字母都是大寫\n",
    "print(string.islower())"
   ]
  },
  {
   "cell_type": "code",
   "execution_count": 35,
   "id": "36123088",
   "metadata": {},
   "outputs": [
    {
     "name": "stdout",
     "output_type": "stream",
     "text": [
      "True\n"
     ]
    }
   ],
   "source": [
    "# Ｑ：將 OFFICE 轉換成全小寫並判斷是否全小寫？\n",
    "# 可以使用方法連用\n",
    "x = 'office'\n",
    "print(x.lower().islower())"
   ]
  },
  {
   "cell_type": "markdown",
   "id": "7fad5713",
   "metadata": {},
   "source": [
    "## 字串擷取 (slicing)\n",
    "- 注意：字串的 index 從 0 開始\n",
    "- string[index]\n",
    "- string[start_index:end_index:step]"
   ]
  },
  {
   "cell_type": "code",
   "execution_count": 64,
   "id": "fbdbf107",
   "metadata": {},
   "outputs": [],
   "source": [
    "slogan = 'Working smart,living casual'"
   ]
  },
  {
   "cell_type": "code",
   "execution_count": 13,
   "id": "a1504f7f",
   "metadata": {},
   "outputs": [
    {
     "name": "stdout",
     "output_type": "stream",
     "text": [
      "k k\n"
     ]
    }
   ],
   "source": [
    "print(slogan[3])"
   ]
  },
  {
   "cell_type": "code",
   "execution_count": 65,
   "id": "f50e4a90",
   "metadata": {},
   "outputs": [
    {
     "name": "stdout",
     "output_type": "stream",
     "text": [
      "l\n"
     ]
    }
   ],
   "source": [
    "# index 也可以為負數\n",
    "# 負數從右邊開始往左計數為 -1,-2,-3\n",
    "print(slogan[-1])"
   ]
  },
  {
   "cell_type": "code",
   "execution_count": 10,
   "id": "3de1d56d",
   "metadata": {},
   "outputs": [
    {
     "name": "stdout",
     "output_type": "stream",
     "text": [
      "ork\n"
     ]
    }
   ],
   "source": [
    "# 含首不含尾\n",
    "# 包含第 1 個 index 的字符，不包含第 4 個 index 的字符\n",
    "print(slogan[1:4]) "
   ]
  },
  {
   "cell_type": "code",
   "execution_count": 70,
   "id": "28f10b97",
   "metadata": {},
   "outputs": [
    {
     "name": "stdout",
     "output_type": "stream",
     "text": [
      "Wor\n",
      "smart,living casual\n",
      "al\n",
      "Working smart,living cas\n"
     ]
    }
   ],
   "source": [
    "# slice 索引具有默認值\n",
    "# 省略第一個的索引默認為 0\n",
    "# 省略第二個的索引默認為字串長度\n",
    "\n",
    "print(slogan[:3])\n",
    "print(slogan[8:])\n",
    "print(slogan[-2:])\n",
    "print(slogan[:-3])"
   ]
  },
  {
   "cell_type": "code",
   "execution_count": 11,
   "id": "d2c90558",
   "metadata": {},
   "outputs": [
    {
     "name": "stdout",
     "output_type": "stream",
     "text": [
      "kn mr,iig\n"
     ]
    }
   ],
   "source": [
    "print(slogan[3:20:2])"
   ]
  },
  {
   "cell_type": "code",
   "execution_count": 71,
   "id": "5b4f50a6",
   "metadata": {},
   "outputs": [
    {
     "name": "stdout",
     "output_type": "stream",
     "text": [
      "k r\n",
      "kr\n"
     ]
    }
   ],
   "source": [
    "# 擷取多個字符\n",
    "print(slogan[3]+slogan[2])\n",
    "print(slogan[3],slogan[2])"
   ]
  },
  {
   "cell_type": "code",
   "execution_count": null,
   "id": "e512308d",
   "metadata": {},
   "outputs": [],
   "source": [
    "# Ｑ：選取 smart 這個單字並印出 "
   ]
  },
  {
   "cell_type": "markdown",
   "id": "473e302c",
   "metadata": {},
   "source": [
    "## 尋找字串\n",
    "- string.index(): 適用於確定該字符存在於字串中 \n",
    "- string.find(): 適用於不確定該字符是否存在於字串中 "
   ]
  },
  {
   "cell_type": "markdown",
   "id": "0c7e9eb1",
   "metadata": {},
   "source": [
    "### string.index()\n",
    "- 若未找到該字符會顯示錯誤訊息\n",
    "- 可以適用於 string、list、tuple\n",
    "- 不能和 if 一起使用"
   ]
  },
  {
   "cell_type": "markdown",
   "id": "3ba54684",
   "metadata": {},
   "source": [
    "### string.find(str,start_index,end_index)\n",
    "- 若未找到該字符會顯示 -1\n",
    "- 只能適用於 string\n",
    "- 可以和 if 一起使用"
   ]
  },
  {
   "cell_type": "code",
   "execution_count": 5,
   "id": "be63a0de",
   "metadata": {},
   "outputs": [],
   "source": [
    "slogan = 'Working smart,living casual'"
   ]
  },
  {
   "cell_type": "code",
   "execution_count": null,
   "id": "ebb12886",
   "metadata": {},
   "outputs": [],
   "source": [
    "print(slogan.index('i'))"
   ]
  },
  {
   "cell_type": "code",
   "execution_count": null,
   "id": "9b499f72",
   "metadata": {},
   "outputs": [],
   "source": [
    "print(slogan.find('i'))"
   ]
  },
  {
   "cell_type": "code",
   "execution_count": 8,
   "id": "7db0c3a9",
   "metadata": {},
   "outputs": [
    {
     "name": "stdout",
     "output_type": "stream",
     "text": [
      "17\n"
     ]
    }
   ],
   "source": [
    "# 尋找最後一個 i 的 index 值\n",
    "last_position = slogan.rfind('i')\n",
    "print(last_position)"
   ]
  },
  {
   "cell_type": "code",
   "execution_count": 17,
   "id": "91422f6d",
   "metadata": {},
   "outputs": [
    {
     "name": "stdout",
     "output_type": "stream",
     "text": [
      "4\n",
      "15\n"
     ]
    }
   ],
   "source": [
    "# 尋找第二個 i 的 index 值\n",
    "position1 = slogan.find('i')\n",
    "print(position1)\n",
    "position2 = (slogan.find('i', position1+1))\n",
    "print(position2)"
   ]
  },
  {
   "cell_type": "code",
   "execution_count": null,
   "id": "bdbd75a7",
   "metadata": {},
   "outputs": [],
   "source": [
    "string = \"Hello, welcome to The One.\"\n",
    "x = string.find(\"e\", 5, 10)\n",
    "\n",
    "print(x)"
   ]
  },
  {
   "cell_type": "markdown",
   "id": "29b0575d",
   "metadata": {},
   "source": [
    "## 字串取代\n",
    "- string.replace()"
   ]
  },
  {
   "cell_type": "code",
   "execution_count": 3,
   "id": "ed6af4a8",
   "metadata": {},
   "outputs": [
    {
     "name": "stdout",
     "output_type": "stream",
     "text": [
      "Working Smart,living caSual\n"
     ]
    }
   ],
   "source": [
    "print(slogan.replace('s','S'))\n",
    "# 取代所有 S"
   ]
  },
  {
   "cell_type": "code",
   "execution_count": null,
   "id": "ec59eb88",
   "metadata": {},
   "outputs": [],
   "source": []
  },
  {
   "cell_type": "markdown",
   "id": "79dae364",
   "metadata": {},
   "source": [
    "## 字串分離\n",
    "- string.split()"
   ]
  },
  {
   "cell_type": "code",
   "execution_count": 23,
   "id": "f952a615",
   "metadata": {},
   "outputs": [
    {
     "name": "stdout",
     "output_type": "stream",
     "text": [
      "['My', 'favorite', 'fruits', 'are', 'guavas,', 'apples,', 'bananas,', 'pineapples']\n",
      "\n",
      "['My favorite fruits are guavas', ' apples', ' bananas', ' pineapples']\n",
      "\n",
      "['My favorite fruits are guavas', ' apples, bananas, pineapples']\n"
     ]
    }
   ],
   "source": [
    "string = 'My favorite fruits are guavas, apples, bananas, pineapples'\n",
    "\n",
    "# 默認為所有空字符，包含空白換行等\n",
    "print(string.split())\n",
    "print()\n",
    "\n",
    "# 以 ',' 分割\n",
    "print(string.split(','))\n",
    "print()\n",
    "\n",
    "# 以 ',' 分割 1 次\n",
    "print(string.split(',', 1))"
   ]
  },
  {
   "cell_type": "code",
   "execution_count": 21,
   "id": "64c985cf",
   "metadata": {},
   "outputs": [
    {
     "name": "stdout",
     "output_type": "stream",
     "text": [
      "['ha', 'ppy']\n"
     ]
    }
   ],
   "source": [
    "# 用不同的字符 split\n",
    "s = 'ha ppy'\n",
    "print(s.split(' '))"
   ]
  },
  {
   "cell_type": "markdown",
   "id": "a0ae1d78",
   "metadata": {},
   "source": [
    "## 字串的長度\n",
    " - len()  # 所有的字符"
   ]
  },
  {
   "cell_type": "code",
   "execution_count": 24,
   "id": "7e552935",
   "metadata": {},
   "outputs": [
    {
     "name": "stdout",
     "output_type": "stream",
     "text": [
      "12\n"
     ]
    }
   ],
   "source": [
    "string = 'hello world!'\n",
    "print(len(string))"
   ]
  },
  {
   "cell_type": "code",
   "execution_count": null,
   "id": "ccd37234",
   "metadata": {},
   "outputs": [],
   "source": []
  },
  {
   "cell_type": "code",
   "execution_count": 19,
   "id": "bc6067fa",
   "metadata": {},
   "outputs": [
    {
     "name": "stdout",
     "output_type": "stream",
     "text": [
      "[4, 15, 17]\n"
     ]
    }
   ],
   "source": [
    "# 補充:\n",
    "# 尋找字串中找所有字符為 i 的 index\n",
    "string = 'Working smart,living casual'\n",
    "c = 'i'\n",
    "lst = []\n",
    "for pos,char in enumerate(string):\n",
    "    #print(pos,char)\n",
    "    if(char == c):\n",
    "        lst.append(pos)\n",
    "print(lst)"
   ]
  },
  {
   "cell_type": "markdown",
   "id": "dbc2a602",
   "metadata": {},
   "source": [
    "# 字串格式化\n",
    "- % formatting\n",
    "- str.format()\n",
    "- f-string (String Literal)"
   ]
  },
  {
   "cell_type": "code",
   "execution_count": 58,
   "id": "c5a971c1",
   "metadata": {},
   "outputs": [
    {
     "name": "stdout",
     "output_type": "stream",
     "text": [
      "今天是 2022 年 1.000000 月 24 日\n"
     ]
    }
   ],
   "source": [
    "# % formatting\n",
    "year = 2022\n",
    "month = 1\n",
    "day = 24\n",
    "print('今天是 %s 年 %f 月 %d 日' %(year ,month,day))\n",
    "# %s 是以字串輸出，%f 是以浮點數輸出，%d 是以十進位整數輸出，%x 是以十六進位整數輸出"
   ]
  },
  {
   "cell_type": "code",
   "execution_count": 57,
   "id": "b778f244",
   "metadata": {},
   "outputs": [
    {
     "name": "stdout",
     "output_type": "stream",
     "text": [
      "今天是 2022.000000 年 1 月 24 日\n"
     ]
    }
   ],
   "source": [
    "# str.format()\n",
    "year = 2022\n",
    "month = 1\n",
    "day = 24\n",
    "print('今天是 {} 年 {} 月 {} 日'.format(year,month,day))"
   ]
  },
  {
   "cell_type": "code",
   "execution_count": 44,
   "id": "53d76ee7",
   "metadata": {},
   "outputs": [
    {
     "name": "stdout",
     "output_type": "stream",
     "text": [
      "今天是 2022 年 1 月 24 日\n"
     ]
    }
   ],
   "source": [
    "# f-string (String Literal)\n",
    "year = 2022\n",
    "month = 1\n",
    "day = 24\n",
    "print(f'今天是 {year} 年 {month} 月 {day} 日')"
   ]
  },
  {
   "cell_type": "code",
   "execution_count": null,
   "id": "03c5b7a7",
   "metadata": {},
   "outputs": [],
   "source": []
  },
  {
   "cell_type": "markdown",
   "id": "53530198",
   "metadata": {},
   "source": [
    "## 複習\n",
    "- 可以使用『+』將字串和字串相連、數值和數值加總\n",
    "- 可以使用『,』同時輸出字串和數值，而其值各自為獨立的個體\n",
    "- 可以使用型態轉換的方式將數值轉換成字串，並使用『+』相連\n",
    "- 可以使用字串格式化更華麗的輸出"
   ]
  },
  {
   "cell_type": "code",
   "execution_count": 56,
   "id": "11ac9656",
   "metadata": {},
   "outputs": [
    {
     "name": "stdout",
     "output_type": "stream",
     "text": [
      "Hello 二零二二\n",
      "Hello  2022\n",
      "Hello 2022\n",
      "Hello 2022\n"
     ]
    }
   ],
   "source": [
    "a = 'Hello '\n",
    "b = '二零二二'\n",
    "c = 2022\n",
    "print(a+b)\n",
    "print(a,c)\n",
    "print(a + str(c))\n",
    "print(f'{a}{c}')\n"
   ]
  },
  {
   "cell_type": "code",
   "execution_count": null,
   "id": "dbb2700f",
   "metadata": {},
   "outputs": [],
   "source": []
  }
 ],
 "metadata": {
  "kernelspec": {
   "display_name": "Python 3 (ipykernel)",
   "language": "python",
   "name": "python3"
  },
  "language_info": {
   "codemirror_mode": {
    "name": "ipython",
    "version": 3
   },
   "file_extension": ".py",
   "mimetype": "text/x-python",
   "name": "python",
   "nbconvert_exporter": "python",
   "pygments_lexer": "ipython3",
   "version": "3.9.5"
  }
 },
 "nbformat": 4,
 "nbformat_minor": 5
}
