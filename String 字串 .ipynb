{
 "cells": [
  {
   "cell_type": "markdown",
   "id": "4195816f",
   "metadata": {},
   "source": [
    "# 字串的用法"
   ]
  },
  {
   "cell_type": "markdown",
   "id": "a30ec9d4",
   "metadata": {},
   "source": [
    "## 字串相加"
   ]
  },
  {
   "cell_type": "code",
   "execution_count": null,
   "id": "971f8b49",
   "metadata": {},
   "outputs": [],
   "source": [
    "print('e'+'m'+'a'+'i'+'l')\n",
    "print('email')"
   ]
  },
  {
   "cell_type": "code",
   "execution_count": null,
   "id": "e9543dfe",
   "metadata": {},
   "outputs": [],
   "source": [
    "x = 'Happpy'\n",
    "y = 'New'\n",
    "z = 'Year'\n",
    "sum \n",
    "print(sum)"
   ]
  },
  {
   "cell_type": "code",
   "execution_count": null,
   "id": "a63b0a8b",
   "metadata": {},
   "outputs": [],
   "source": [
    "print('Hi,my name is Lala')\n",
    "print('I am 22 years old, my hobbies are photography and cooking, and my profession is a data analyst')"
   ]
  },
  {
   "cell_type": "code",
   "execution_count": null,
   "id": "9d141c03",
   "metadata": {},
   "outputs": [],
   "source": [
    "name = 'Lala'\n",
    "age = 22\n",
    "hobby1 = 'photography'\n",
    "hobby2 = 'cooking'\n",
    "my_occupation = 'data analyst'"
   ]
  },
  {
   "cell_type": "code",
   "execution_count": null,
   "id": "f371128f",
   "metadata": {},
   "outputs": [],
   "source": [
    "print('Hi,my name is' + ' ' + name + '.')\n",
    "print('I am ' + str(age) + ' years old, my hobbies are ' + hobby1 + ' and ' + hobby2,' and my profession is a '+ my_occupation+'.')"
   ]
  },
  {
   "cell_type": "code",
   "execution_count": null,
   "id": "ca4280aa",
   "metadata": {},
   "outputs": [],
   "source": [
    "name\n",
    "age\n",
    "hobby1\n",
    "hobby2\n",
    "my_job"
   ]
  },
  {
   "cell_type": "code",
   "execution_count": null,
   "id": "68e2ce4e",
   "metadata": {},
   "outputs": [],
   "source": [
    "# 將變數帶入至句子裡面\n",
    "print('Hi,my name is' + ' ' + name + '.')\n",
    "print('I am ' + str(age) + ' years old, my hobbies are ' + hobby1 + ' and ' + hobby2,' and my profession is a '+ my_occupation+'.')"
   ]
  },
  {
   "cell_type": "markdown",
   "id": "2973cb8c",
   "metadata": {},
   "source": [
    "## 字串相乘"
   ]
  },
  {
   "cell_type": "code",
   "execution_count": null,
   "id": "f5ee0522",
   "metadata": {},
   "outputs": [],
   "source": [
    "x = 'Cheers!'\n",
    "y = x * 3\n",
    "print(y)"
   ]
  },
  {
   "cell_type": "markdown",
   "id": "c27e4866",
   "metadata": {},
   "source": [
    "## 大小寫轉換"
   ]
  },
  {
   "cell_type": "code",
   "execution_count": null,
   "id": "1d3acd37",
   "metadata": {},
   "outputs": [],
   "source": [
    "string = 'The One'"
   ]
  },
  {
   "cell_type": "code",
   "execution_count": null,
   "id": "b9a2a611",
   "metadata": {},
   "outputs": [],
   "source": [
    "# 第一個字大寫\n",
    "print(string.capitalize())"
   ]
  },
  {
   "cell_type": "code",
   "execution_count": null,
   "id": "817bebe0",
   "metadata": {},
   "outputs": [],
   "source": [
    "# 所有單字以大寫開始\n",
    "print(string.title())"
   ]
  },
  {
   "cell_type": "code",
   "execution_count": null,
   "id": "7cbecf65",
   "metadata": {},
   "outputs": [],
   "source": [
    "# 所有單字大寫\n",
    "print(string.upper())"
   ]
  },
  {
   "cell_type": "code",
   "execution_count": null,
   "id": "f56268f0",
   "metadata": {},
   "outputs": [],
   "source": [
    "# 所有單字小寫\n",
    "print(string.lower())"
   ]
  },
  {
   "cell_type": "code",
   "execution_count": null,
   "id": "c9b73763",
   "metadata": {},
   "outputs": [],
   "source": [
    "string = 'The One'\n",
    "\n",
    "# 判斷是否皆為字母\n",
    "print(string.isalpha())\n",
    "\n",
    "# 判斷是否皆為數字\n",
    "print(string.isdigit())\n",
    "\n",
    "# 判斷是否所有單字以大寫開始\n",
    "print(string.istitle())\n",
    "\n",
    "# 判斷是否都是小寫\n",
    "print(string.isupper())\n",
    "\n",
    "# 判斷是否都是大寫\n",
    "print(string.islower())"
   ]
  },
  {
   "cell_type": "code",
   "execution_count": null,
   "id": "36123088",
   "metadata": {},
   "outputs": [],
   "source": [
    "## 將 OFFICE 轉換成全小寫並判斷是否全小寫？"
   ]
  },
  {
   "cell_type": "raw",
   "id": "6895a7b9",
   "metadata": {},
   "source": [
    "## 字串擷取 (slicing)"
   ]
  },
  {
   "cell_type": "code",
   "execution_count": 3,
   "id": "fbdbf107",
   "metadata": {},
   "outputs": [],
   "source": [
    "slogan = 'Working smart,living casual.'"
   ]
  },
  {
   "cell_type": "code",
   "execution_count": null,
   "id": "a1504f7f",
   "metadata": {},
   "outputs": [],
   "source": [
    "print(slogan[1])"
   ]
  },
  {
   "cell_type": "code",
   "execution_count": null,
   "id": "3de1d56d",
   "metadata": {},
   "outputs": [],
   "source": [
    "print(slogan[1:4])"
   ]
  },
  {
   "cell_type": "code",
   "execution_count": null,
   "id": "d2c90558",
   "metadata": {},
   "outputs": [],
   "source": [
    "print(slogan[3:20:2])"
   ]
  },
  {
   "cell_type": "code",
   "execution_count": null,
   "id": "e512308d",
   "metadata": {},
   "outputs": [],
   "source": [
    "## 選取 smart 這的單字並印出 \n"
   ]
  },
  {
   "cell_type": "code",
   "execution_count": 4,
   "id": "ebb12886",
   "metadata": {},
   "outputs": [
    {
     "name": "stdout",
     "output_type": "stream",
     "text": [
      "4\n"
     ]
    }
   ],
   "source": [
    "print(slogan.index('i'))"
   ]
  },
  {
   "cell_type": "code",
   "execution_count": 5,
   "id": "9b499f72",
   "metadata": {},
   "outputs": [
    {
     "name": "stdout",
     "output_type": "stream",
     "text": [
      "4\n"
     ]
    }
   ],
   "source": [
    "print(slogan.find('i'))"
   ]
  },
  {
   "cell_type": "code",
   "execution_count": 2,
   "id": "3466f2ab",
   "metadata": {},
   "outputs": [],
   "source": [
    "## 尋找最後一個 i 的 index 值"
   ]
  },
  {
   "cell_type": "code",
   "execution_count": null,
   "id": "7db0c3a9",
   "metadata": {},
   "outputs": [],
   "source": [
    "print(slogan.rfind('i'))"
   ]
  },
  {
   "cell_type": "markdown",
   "id": "29b0575d",
   "metadata": {},
   "source": [
    "## 字串取代"
   ]
  },
  {
   "cell_type": "code",
   "execution_count": null,
   "id": "ed6af4a8",
   "metadata": {},
   "outputs": [],
   "source": [
    "print(slogan.replace('s','S'))"
   ]
  },
  {
   "cell_type": "markdown",
   "id": "79dae364",
   "metadata": {},
   "source": [
    "## 字串分離"
   ]
  },
  {
   "cell_type": "code",
   "execution_count": null,
   "id": "f952a615",
   "metadata": {},
   "outputs": [],
   "source": [
    "string = 'My favorite fruits are guavas, apples, bananas, pineapples'\n",
    "\n",
    "# 默認為所有空字符，包含空白換行等\n",
    "print(string.split())\n",
    "print()\n",
    "\n",
    "# 以 ',' 分割\n",
    "print(string.split(','))\n",
    "print()\n",
    "\n",
    "# 以 ',' 分割 1 次\n",
    "print(string.split(',', 1))"
   ]
  },
  {
   "cell_type": "markdown",
   "id": "a0ae1d78",
   "metadata": {},
   "source": [
    "## 字串的長度"
   ]
  },
  {
   "cell_type": "code",
   "execution_count": null,
   "id": "7e552935",
   "metadata": {},
   "outputs": [],
   "source": [
    "string = 'hello world!'\n",
    "print(len(string))"
   ]
  },
  {
   "cell_type": "code",
   "execution_count": null,
   "id": "101503e9",
   "metadata": {},
   "outputs": [],
   "source": []
  }
 ],
 "metadata": {
  "kernelspec": {
   "display_name": "Python 3 (ipykernel)",
   "language": "python",
   "name": "python3"
  },
  "language_info": {
   "codemirror_mode": {
    "name": "ipython",
    "version": 3
   },
   "file_extension": ".py",
   "mimetype": "text/x-python",
   "name": "python",
   "nbconvert_exporter": "python",
   "pygments_lexer": "ipython3",
   "version": "3.9.5"
  }
 },
 "nbformat": 4,
 "nbformat_minor": 5
}
