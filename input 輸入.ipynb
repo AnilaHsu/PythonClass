{
 "cells": [
  {
   "cell_type": "markdown",
   "id": "47c73c99",
   "metadata": {},
   "source": [
    "# input\n",
    "- 請使用者輸入資料\n",
    "- 資料會以字串的方式表示"
   ]
  },
  {
   "cell_type": "code",
   "execution_count": null,
   "id": "a92ba36c",
   "metadata": {},
   "outputs": [],
   "source": [
    "# 輸入一個值\n",
    "input()"
   ]
  },
  {
   "cell_type": "code",
   "execution_count": null,
   "id": "e8c72554",
   "metadata": {},
   "outputs": [],
   "source": [
    "# 輸入一個值並存入變數 \n",
    "x = input(\"請輸入一個數字\")\n",
    "print(x)\n",
    "print(type(x))"
   ]
  },
  {
   "cell_type": "code",
   "execution_count": null,
   "id": "855277b6",
   "metadata": {},
   "outputs": [],
   "source": [
    "name = input('請輸入你的名字:')\n",
    "month = input('請輸入你的生日月份')\n",
    "day = input('請輸入你的日期')\n",
    "print('Hi! '+name+'.' + ' 你的生日是 '+ month +' 月'+day+' 號。')"
   ]
  },
  {
   "cell_type": "code",
   "execution_count": null,
   "id": "77e2114d",
   "metadata": {},
   "outputs": [],
   "source": [
    "# 輸入兩個數值並相加\n",
    "# 整數字串使用 int() 轉成數值\n",
    "# 小數字串使用 float() 轉成數值\n",
    "\n",
    "num1 = input('請輸入數字一')\n",
    "num2 = input('請輸入數字二')\n",
    "print()"
   ]
  },
  {
   "cell_type": "code",
   "execution_count": null,
   "id": "89564a18",
   "metadata": {},
   "outputs": [],
   "source": [
    "# 請使用者輸入一個數值並存入變數 num\n",
    "# 將該變數加 1 印出來\n",
    "# 使用 += 的方式\n"
   ]
  },
  {
   "cell_type": "code",
   "execution_count": null,
   "id": "54cecf79",
   "metadata": {},
   "outputs": [],
   "source": [
    "# Q:輸入三個數值並依序存入 a,b,c 當中並印出來\n"
   ]
  },
  {
   "cell_type": "code",
   "execution_count": null,
   "id": "01f35487",
   "metadata": {},
   "outputs": [],
   "source": [
    "# 輸入三個數值並依序存入 a,b,c 當中\n",
    "value = input('請輸入三個數值，以逗點區隔')\n",
    "print(value)"
   ]
  },
  {
   "cell_type": "code",
   "execution_count": null,
   "id": "b8b0f5e3",
   "metadata": {},
   "outputs": [],
   "source": [
    "# 使用「,」的方式將 value 分開\n",
    "split_value = value.split(',')\n",
    "print(split_value)"
   ]
  },
  {
   "cell_type": "code",
   "execution_count": null,
   "id": "cdf6bbe7",
   "metadata": {},
   "outputs": [],
   "source": [
    "a,b,c = split_value\n",
    "print(a,b,c)\n",
    "print(int(a),int(b),int(c))"
   ]
  },
  {
   "cell_type": "code",
   "execution_count": 3,
   "id": "13a68c34",
   "metadata": {},
   "outputs": [
    {
     "name": "stdout",
     "output_type": "stream",
     "text": [
      "e c d\n"
     ]
    }
   ],
   "source": [
    "## 存儲多變數的值\n",
    "a,c,b = 'e','d','c'\n",
    "print(a,b,c)\n",
    "\n",
    "x,y,z = ['a','b','c']\n",
    "print(x,y,z)"
   ]
  },
  {
   "cell_type": "code",
   "execution_count": null,
   "id": "ad53e75d",
   "metadata": {},
   "outputs": [],
   "source": [
    "# 簡化\n",
    "value = input('請輸入三個數值，以逗點區隔')\n",
    "print(value)\n",
    "\n",
    "a,b,c = map(int,value.split(','))\n",
    "print(a,b,c)"
   ]
  },
  {
   "cell_type": "code",
   "execution_count": 2,
   "id": "dce8004e",
   "metadata": {},
   "outputs": [
    {
     "name": "stdout",
     "output_type": "stream",
     "text": [
      "a b c\n"
     ]
    }
   ],
   "source": []
  },
  {
   "cell_type": "code",
   "execution_count": 1,
   "id": "29d87c0a",
   "metadata": {},
   "outputs": [
    {
     "name": "stdout",
     "output_type": "stream",
     "text": [
      "請輸入檔名test\n"
     ]
    },
    {
     "data": {
      "text/plain": [
       "<_io.TextIOWrapper name='test' mode='w' encoding='UTF-8'>"
      ]
     },
     "execution_count": 1,
     "metadata": {},
     "output_type": "execute_result"
    }
   ],
   "source": [
    "file_name = input('請輸入檔名') \n",
    "open(file_name,'w')"
   ]
  },
  {
   "cell_type": "code",
   "execution_count": null,
   "id": "c228beae",
   "metadata": {},
   "outputs": [],
   "source": []
  },
  {
   "cell_type": "code",
   "execution_count": null,
   "id": "d4ab95eb",
   "metadata": {},
   "outputs": [],
   "source": []
  }
 ],
 "metadata": {
  "kernelspec": {
   "display_name": "Python 3 (ipykernel)",
   "language": "python",
   "name": "python3"
  },
  "language_info": {
   "codemirror_mode": {
    "name": "ipython",
    "version": 3
   },
   "file_extension": ".py",
   "mimetype": "text/x-python",
   "name": "python",
   "nbconvert_exporter": "python",
   "pygments_lexer": "ipython3",
   "version": "3.9.5"
  }
 },
 "nbformat": 4,
 "nbformat_minor": 5
}
