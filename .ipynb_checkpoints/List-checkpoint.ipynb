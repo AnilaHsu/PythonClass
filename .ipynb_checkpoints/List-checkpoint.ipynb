{
 "cells": [
  {
   "cell_type": "markdown",
   "id": "0171a0da",
   "metadata": {},
   "source": [
    "# List 串列"
   ]
  },
  {
   "cell_type": "code",
   "execution_count": null,
   "id": "cf5fd164",
   "metadata": {},
   "outputs": [],
   "source": [
    "# 將多個數值型態的變數存入至一個 list 中\n",
    "number1 = 1\n",
    "number2 = 3\n",
    "number3 = 5\n",
    "number4 = 7\n",
    "number5 = 9\n",
    "number6 = 11\n",
    "number7 = 13\n",
    "number8 = 15"
   ]
  },
  {
   "cell_type": "code",
   "execution_count": 4,
   "id": "965ad36a",
   "metadata": {},
   "outputs": [
    {
     "name": "stdout",
     "output_type": "stream",
     "text": [
      "[1, 3, 5, 7, 9, 11, 13, 15]\n",
      "<class 'list'>\n"
     ]
    }
   ],
   "source": [
    "numbers = [1,3,5,7,9,11,13,15]\n",
    "print(numbers)\n",
    "print(type(numbers))"
   ]
  },
  {
   "cell_type": "code",
   "execution_count": null,
   "id": "f3d70902",
   "metadata": {},
   "outputs": [],
   "source": [
    "# 將多個字串型態的變數存入至一個 list 中\n",
    "movie1 =  'Alien'\n",
    "movie2 = 'Inception'\n",
    "movie3 = 'The Martian'\n",
    "movie4 = 'Blade Runner'\n",
    "movie5 = 'Back to furtur'\n",
    "movie6 = 'Arrival'\n",
    "movie7 = 'Moon'\n",
    "movie8 = 'Looper'"
   ]
  },
  {
   "cell_type": "code",
   "execution_count": 2,
   "id": "b4f7d9ae",
   "metadata": {},
   "outputs": [],
   "source": [
    "sci_fi = ['Alien','Inception','The Martian','Blade Runner','Back to furtur','Arrival','Moon','Looper']"
   ]
  },
  {
   "cell_type": "code",
   "execution_count": 10,
   "id": "70eca4f6",
   "metadata": {},
   "outputs": [
    {
     "name": "stdout",
     "output_type": "stream",
     "text": [
      "['Alien', 'Inception', 'The Martian', 'Blade Runner', 'Back to furtur', 'Arrival', 'Moon', 'Looper']\n"
     ]
    }
   ],
   "source": [
    "print(sci_fi)"
   ]
  },
  {
   "cell_type": "code",
   "execution_count": 11,
   "id": "2763a1c7",
   "metadata": {},
   "outputs": [
    {
     "name": "stdout",
     "output_type": "stream",
     "text": [
      "[2022, '二月']\n"
     ]
    }
   ],
   "source": [
    "# 在一個 list 可存入不同型態的值\n",
    "date = [2022,'二月']\n",
    "print(date)"
   ]
  },
  {
   "cell_type": "code",
   "execution_count": 13,
   "id": "7f4b8ab7",
   "metadata": {},
   "outputs": [
    {
     "name": "stdout",
     "output_type": "stream",
     "text": [
      "8\n",
      "8\n",
      "2\n"
     ]
    }
   ],
   "source": [
    "# 查看字串的長度\n",
    "print(len(numbers))\n",
    "print(len(sci_fi))\n",
    "print(len(date))"
   ]
  },
  {
   "cell_type": "markdown",
   "id": "4319a905",
   "metadata": {},
   "source": [
    "## 取得 list 的元素\n",
    "- list[start:end:step]\n",
    "- 取得的值包含開頭但不包含結尾的 index\n",
    "- step 預設為 1"
   ]
  },
  {
   "cell_type": "code",
   "execution_count": 28,
   "id": "862c42e4",
   "metadata": {},
   "outputs": [
    {
     "name": "stdout",
     "output_type": "stream",
     "text": [
      "Alien\n",
      "Looper\n",
      "Looper\n"
     ]
    }
   ],
   "source": [
    "sci_fi = ['Alien','Inception','The Martian','Blade Runner','Back to furtur','Arrival','Moon','Looper']\n",
    "\n",
    "# 取得第一個元素\n",
    "print(sci_fi[0])\n",
    "\n",
    "# 取得最後一個元素\n",
    "print(sci_fi[-1])\n",
    "print(sci_fi[len(sci_fi)-1])"
   ]
  },
  {
   "cell_type": "code",
   "execution_count": 27,
   "id": "19408d1b",
   "metadata": {},
   "outputs": [
    {
     "name": "stdout",
     "output_type": "stream",
     "text": [
      "['Alien', 'Inception', 'The Martian', 'Blade Runner', 'Back to furtur']\n",
      "['Alien', 'Inception', 'The Martian', 'Blade Runner', 'Back to furtur']\n",
      "['Back to furtur', 'Arrival', 'Moon', 'Looper']\n",
      "['Back to furtur', 'Arrival', 'Moon', 'Looper']\n",
      "['Back to furtur', 'Arrival', 'Moon', 'Looper']\n"
     ]
    }
   ],
   "source": [
    "# 取得第一個至第五個的元素\n",
    "print(sci_fi[0:5])\n",
    "print(sci_fi[:5])\n",
    "\n",
    "# 取得第五個至最後一個元素 (index 4 - index 7)\n",
    "print(sci_fi[4:8])\n",
    "print(sci_fi[4:])\n",
    "print(sci_fi[4:len(sci_fi)]) "
   ]
  },
  {
   "cell_type": "code",
   "execution_count": 3,
   "id": "f693bd2c",
   "metadata": {},
   "outputs": [
    {
     "name": "stdout",
     "output_type": "stream",
     "text": [
      "['Inception', 'The Martian', 'Blade Runner', 'Back to furtur', 'Arrival', 'Moon']\n",
      "['Inception', 'The Martian', 'Blade Runner', 'Back to furtur', 'Arrival', 'Moon', 'Looper']\n"
     ]
    }
   ],
   "source": [
    "# 比較\n",
    "print(sci_fi[1:-1]) # 不包含最後一個元素\n",
    "print(sci_fi[1:])   # 包含最後一個元素"
   ]
  },
  {
   "cell_type": "code",
   "execution_count": 4,
   "id": "7cf08efc",
   "metadata": {},
   "outputs": [
    {
     "name": "stdout",
     "output_type": "stream",
     "text": [
      "['Inception', 'Blade Runner', 'Arrival']\n",
      "['Inception', 'Blade Runner', 'Arrival', 'Looper']\n",
      "['Alien', 'The Martian', 'Back to furtur', 'Moon']\n",
      "['Alien', 'The Martian', 'Back to furtur', 'Moon']\n"
     ]
    }
   ],
   "source": [
    "sci_fi = ['Alien','Inception','The Martian','Blade Runner','Back to furtur','Arrival','Moon','Looper']\n",
    "\n",
    "# 取的奇數 index 的元素\n",
    "print(sci_fi[1:-1:2]) \n",
    "print(sci_fi[1::2])\n",
    "\n",
    "# 取的偶數 index 的元素\n",
    "print(sci_fi[:-1:2])\n",
    "print(sci_fi[::2])   "
   ]
  },
  {
   "cell_type": "markdown",
   "id": "f6ee22e5",
   "metadata": {},
   "source": [
    "## 新增 List 的元素\n",
    "- list_name.append(object)"
   ]
  },
  {
   "cell_type": "code",
   "execution_count": 8,
   "id": "ce36bbd8",
   "metadata": {},
   "outputs": [
    {
     "name": "stdout",
     "output_type": "stream",
     "text": [
      "['stay', 'She', 'Forever Young']\n"
     ]
    }
   ],
   "source": [
    "songs = ['stay','She','Forever Young']\n",
    "print(songs)"
   ]
  },
  {
   "cell_type": "code",
   "execution_count": 9,
   "id": "7472a2de",
   "metadata": {},
   "outputs": [
    {
     "name": "stdout",
     "output_type": "stream",
     "text": [
      "['stay', 'She', 'Forever Young', 'Forever Young']\n"
     ]
    }
   ],
   "source": [
    "songs.append('Tomorrow')\n",
    "print(songs)"
   ]
  },
  {
   "cell_type": "markdown",
   "id": "19052600",
   "metadata": {},
   "source": [
    "## 插入元素至 List\n",
    "- list_name.insert(position,object)"
   ]
  },
  {
   "cell_type": "code",
   "execution_count": 10,
   "id": "a9033fe1",
   "metadata": {},
   "outputs": [
    {
     "name": "stdout",
     "output_type": "stream",
     "text": [
      "['stay', 'classicriver', 'She', 'Forever Young', 'Forever Young']\n"
     ]
    }
   ],
   "source": [
    "songs.insert(1,'classicriver')\n",
    "print(songs)"
   ]
  },
  {
   "cell_type": "markdown",
   "id": "0a0cd24e",
   "metadata": {},
   "source": [
    "## 將 List2 擴展 List1 \n",
    "- List1.extend(List2)"
   ]
  },
  {
   "cell_type": "code",
   "execution_count": 13,
   "id": "1a94fc81",
   "metadata": {},
   "outputs": [
    {
     "name": "stdout",
     "output_type": "stream",
     "text": [
      "['guava', 'litchi', 'pear', 'banana', 'papaya', 'mango']\n"
     ]
    }
   ],
   "source": [
    "fruits1 = ['guava','litchi','pear']\n",
    "fruits2 = ['banana','papaya','mango']\n",
    "fruits1.extend(fruits2)\n",
    "print(fruits1)"
   ]
  },
  {
   "cell_type": "code",
   "execution_count": 17,
   "id": "7d8e988e",
   "metadata": {},
   "outputs": [
    {
     "name": "stdout",
     "output_type": "stream",
     "text": [
      "['guava', 'litchi', 'pear', ['banana', 'papaya', 'mango']]\n"
     ]
    }
   ],
   "source": [
    "fruits1 = ['guava','litchi','pear']\n",
    "fruits2 = ['banana','papaya','mango']\n",
    "fruits1.append(fruits2)\n",
    "print(fruits1)"
   ]
  },
  {
   "cell_type": "code",
   "execution_count": 19,
   "id": "7c8074d7",
   "metadata": {},
   "outputs": [
    {
     "name": "stdout",
     "output_type": "stream",
     "text": [
      "['guava', ['banana', 'papaya', 'mango'], 'litchi', 'pear']\n"
     ]
    }
   ],
   "source": [
    "fruits1 = ['guava','litchi','pear']\n",
    "fruits2 = ['banana','papaya','mango']\n",
    "fruits1.insert(1,fruits2)\n",
    "print(fruits1)"
   ]
  },
  {
   "cell_type": "code",
   "execution_count": 20,
   "id": "023add3f",
   "metadata": {},
   "outputs": [
    {
     "name": "stdout",
     "output_type": "stream",
     "text": [
      "['guava', 'litchi', 'pear', 'banana', 'papaya', 'mango']\n"
     ]
    }
   ],
   "source": [
    "fruits1 = ['guava','litchi','pear']\n",
    "fruits2 = ['banana','papaya','mango']\n",
    "fruits3 = fruits1+fruits2\n",
    "print(fruits3)"
   ]
  },
  {
   "cell_type": "markdown",
   "id": "53d15614",
   "metadata": {},
   "source": [
    "## 移除 List 裡面的元素\n",
    "- list_name.remove(object)"
   ]
  },
  {
   "cell_type": "code",
   "execution_count": 22,
   "id": "68ae9c1f",
   "metadata": {},
   "outputs": [
    {
     "name": "stdout",
     "output_type": "stream",
     "text": [
      "['guava', 'pear', 'banana', 'papaya', 'mango']\n"
     ]
    }
   ],
   "source": [
    "fruits3 = ['guava', 'litchi', 'pear', 'banana', 'papaya', 'mango'] \n",
    "fruits3.remove('litchi')\n",
    "print(fruits3)"
   ]
  },
  {
   "cell_type": "markdown",
   "id": "066e3327",
   "metadata": {},
   "source": [
    "## 移除 List 的最後一個元素\n",
    "- list_name.pop()\n",
    "- 預設移除 List 最後一個值，並回傳被移除的值\n",
    "- pop() 經常用於資料結構中，處理陣列之常見方式 (ex:stack、queue) 之實現方法"
   ]
  },
  {
   "cell_type": "code",
   "execution_count": 25,
   "id": "e0d8f670",
   "metadata": {},
   "outputs": [
    {
     "name": "stdout",
     "output_type": "stream",
     "text": [
      "mango\n",
      "['guava', 'litchi', 'pear', 'banana', 'papaya']\n"
     ]
    }
   ],
   "source": [
    "fruits3 = ['guava', 'litchi', 'pear', 'banana', 'papaya', 'mango'] \n",
    "popped = fruits3.pop()\n",
    "print(popped)\n",
    "print(fruits3)"
   ]
  },
  {
   "cell_type": "code",
   "execution_count": null,
   "id": "37cb7ffd",
   "metadata": {},
   "outputs": [],
   "source": []
  },
  {
   "cell_type": "markdown",
   "id": "d1c465f1",
   "metadata": {},
   "source": [
    "## 排序\n",
    "- sorted(list) :排序並建新的 List，原本的 List 不受影響\n",
    "- list.sort() :直接改變 List 內容，不會回傳新的值"
   ]
  },
  {
   "cell_type": "code",
   "execution_count": 3,
   "id": "7bd3653a",
   "metadata": {},
   "outputs": [
    {
     "name": "stdout",
     "output_type": "stream",
     "text": [
      "[1, 3, 3, 5, 7]\n",
      "None\n"
     ]
    }
   ],
   "source": [
    "x = [1,5,3,7,3]\n",
    "print(sorted(x))  \n",
    "print(x.sort())   "
   ]
  },
  {
   "cell_type": "code",
   "execution_count": 4,
   "id": "e84393dc",
   "metadata": {},
   "outputs": [
    {
     "name": "stdout",
     "output_type": "stream",
     "text": [
      "[1, 2, 4, 5]\n"
     ]
    }
   ],
   "source": [
    "list1=[1,2]\n",
    "list2=[4,5]\n",
    "print(list1+list2)"
   ]
  },
  {
   "cell_type": "code",
   "execution_count": 17,
   "id": "b13f1ebc",
   "metadata": {},
   "outputs": [
    {
     "name": "stdout",
     "output_type": "stream",
     "text": [
      "exit!\n"
     ]
    }
   ],
   "source": []
  },
  {
   "cell_type": "code",
   "execution_count": null,
   "id": "385b01a9",
   "metadata": {},
   "outputs": [],
   "source": []
  }
 ],
 "metadata": {
  "kernelspec": {
   "display_name": "Python 3 (ipykernel)",
   "language": "python",
   "name": "python3"
  },
  "language_info": {
   "codemirror_mode": {
    "name": "ipython",
    "version": 3
   },
   "file_extension": ".py",
   "mimetype": "text/x-python",
   "name": "python",
   "nbconvert_exporter": "python",
   "pygments_lexer": "ipython3",
   "version": "3.9.5"
  }
 },
 "nbformat": 4,
 "nbformat_minor": 5
}
