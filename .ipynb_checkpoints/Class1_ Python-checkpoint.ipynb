{
 "cells": [
  {
   "cell_type": "code",
   "execution_count": null,
   "id": "57b02d46",
   "metadata": {},
   "outputs": [],
   "source": [
    "test"
   ]
  },
  {
   "cell_type": "markdown",
   "id": "121200df",
   "metadata": {},
   "source": [
    "# Why learn Python"
   ]
  },
  {
   "cell_type": "code",
   "execution_count": null,
   "id": "de040c2c",
   "metadata": {},
   "outputs": [],
   "source": []
  },
  {
   "cell_type": "markdown",
   "id": "029b9c26",
   "metadata": {},
   "source": [
    "# What is jupyter"
   ]
  },
  {
   "cell_type": "markdown",
   "id": "401c1f60",
   "metadata": {},
   "source": []
  },
  {
   "cell_type": "markdown",
   "id": "928bdfd4",
   "metadata": {},
   "source": [
    "# 基本的資料型態 & 變數"
   ]
  },
  {
   "cell_type": "markdown",
   "id": "9297e78c",
   "metadata": {},
   "source": [
    "### 1. 字串型態： str, chr\n",
    "### 2. 數值型態： int, float, bool\n",
    "### 3. 容器型態： list, dict, tuple,set"
   ]
  },
  {
   "cell_type": "markdown",
   "id": "d675b71e",
   "metadata": {},
   "source": [
    "## str"
   ]
  },
  {
   "cell_type": "code",
   "execution_count": null,
   "id": "23e6cc63",
   "metadata": {},
   "outputs": [],
   "source": [
    "print('1')\n",
    "print('The One')\n",
    "print(\"數位辦公室\")\n",
    "print('''Working smart,\n",
    "    living casual.''')\n",
    "print(type('1'))"
   ]
  },
  {
   "cell_type": "code",
   "execution_count": null,
   "id": "dc5b7594",
   "metadata": {},
   "outputs": [],
   "source": [
    "print(\"'Apologize' is a song by the American pop band OneRepublic.\")"
   ]
  },
  {
   "cell_type": "code",
   "execution_count": null,
   "id": "67012fdb",
   "metadata": {},
   "outputs": [],
   "source": []
  },
  {
   "cell_type": "markdown",
   "id": "8f5ad51b",
   "metadata": {},
   "source": [
    "## int"
   ]
  },
  {
   "cell_type": "code",
   "execution_count": null,
   "id": "b1a3b6c3",
   "metadata": {},
   "outputs": [],
   "source": [
    "print(1)\n",
    "print(type(1))"
   ]
  },
  {
   "cell_type": "code",
   "execution_count": null,
   "id": "cce73838",
   "metadata": {},
   "outputs": [],
   "source": [
    "print(-55)\n",
    "print(type(-55))"
   ]
  },
  {
   "cell_type": "code",
   "execution_count": null,
   "id": "e0edc280",
   "metadata": {},
   "outputs": [],
   "source": []
  },
  {
   "cell_type": "markdown",
   "id": "13155111",
   "metadata": {},
   "source": [
    "## float"
   ]
  },
  {
   "cell_type": "code",
   "execution_count": null,
   "id": "70a23ca5",
   "metadata": {},
   "outputs": [],
   "source": [
    "print(3.14159)\n",
    "type(3.14159)"
   ]
  },
  {
   "cell_type": "code",
   "execution_count": null,
   "id": "0aac0f2a",
   "metadata": {},
   "outputs": [],
   "source": []
  },
  {
   "cell_type": "markdown",
   "id": "1c7a3417",
   "metadata": {},
   "source": [
    "## bool"
   ]
  },
  {
   "cell_type": "code",
   "execution_count": null,
   "id": "16c93206",
   "metadata": {},
   "outputs": [],
   "source": [
    "print(True)\n",
    "print(False)\n",
    "type(True)\n",
    "type(False)"
   ]
  },
  {
   "cell_type": "code",
   "execution_count": null,
   "id": "41911fa2",
   "metadata": {
    "scrolled": true
   },
   "outputs": [],
   "source": [
    "# type 判斷型態的重要函式\n",
    "\n",
    "print(type('1'))\n",
    "print(type(1))\n",
    "print(type(1.1))\n",
    "print(type(True))"
   ]
  },
  {
   "cell_type": "code",
   "execution_count": null,
   "id": "7f3efa74",
   "metadata": {},
   "outputs": [],
   "source": [
    "# 型態轉換\n",
    "\n",
    "print(type('1'))\n",
    "print(type(int('1')))\n",
    "print(type(1))\n",
    "print(type(str(1)))\n",
    "print(type(float(1)))"
   ]
  },
  {
   "cell_type": "code",
   "execution_count": null,
   "id": "f98d6bf3",
   "metadata": {
    "scrolled": true
   },
   "outputs": [],
   "source": [
    "a = 87 \n",
    "b = 87.878787 \n",
    "print(float(a))\n",
    "print('a 的型態',type(a))\n",
    "print(int(b))\n",
    "print('b 的型態',type(b))"
   ]
  },
  {
   "cell_type": "code",
   "execution_count": null,
   "id": "76ecb2b6",
   "metadata": {},
   "outputs": [],
   "source": [
    "## 將 a 和 b 轉換成字串，並印出 a 和 b 的型態"
   ]
  },
  {
   "cell_type": "code",
   "execution_count": null,
   "id": "6232c13c",
   "metadata": {},
   "outputs": [],
   "source": []
  },
  {
   "cell_type": "markdown",
   "id": "33ed219b",
   "metadata": {},
   "source": [
    "# 變數\n",
    "存放資料的容易\n",
    "使用 \"=\" 賦值"
   ]
  },
  {
   "cell_type": "markdown",
   "id": "c7ea7d3a",
   "metadata": {},
   "source": [
    "## 宣告規則\n",
    "1. 變數的命名可以以由、數字、底線(_)組合\n",
    "2. 但不能以數字開頭"
   ]
  },
  {
   "cell_type": "code",
   "execution_count": null,
   "id": "cb8bf46c",
   "metadata": {},
   "outputs": [],
   "source": [
    "x = 1\n",
    "y = 'Hello'\n",
    "z = True\n",
    "print(x)"
   ]
  },
  {
   "cell_type": "code",
   "execution_count": null,
   "id": "78c9635d",
   "metadata": {},
   "outputs": [],
   "source": [
    "## 創建屬於自己的變數"
   ]
  },
  {
   "cell_type": "code",
   "execution_count": null,
   "id": "31e2f7a8",
   "metadata": {},
   "outputs": [],
   "source": []
  },
  {
   "cell_type": "markdown",
   "id": "1f583732",
   "metadata": {},
   "source": [
    "## 變數交換"
   ]
  },
  {
   "cell_type": "code",
   "execution_count": null,
   "id": "62e83627",
   "metadata": {},
   "outputs": [],
   "source": [
    "# 一般語言變數交換\n",
    "print('普通語言變數交換')\n",
    "a = 1\n",
    "b = 2\n",
    "print(a, b)\n",
    "\n",
    "temp = a\n",
    "a = b\n",
    "b = temp\n",
    "print(a, b)\n",
    "\n",
    "\n",
    "# Python 兩個變數交換\n",
    "print('兩個變數交換')\n",
    "a = 1\n",
    "b = 2\n",
    "print(a, b)\n",
    "\n",
    "a, b = b, a\n",
    "print(a, b)\n",
    "\n",
    "# Python 多個變數交換\n",
    "print('多個變數交換')\n",
    "a = 1\n",
    "b = 2\n",
    "c = 3\n",
    "print(a, b, c)\n",
    "\n",
    "c, b, a = a, b, c\n",
    "print(a, b, c)"
   ]
  },
  {
   "cell_type": "markdown",
   "id": "4195816f",
   "metadata": {},
   "source": [
    "# 字串的用法"
   ]
  },
  {
   "cell_type": "markdown",
   "id": "a30ec9d4",
   "metadata": {},
   "source": [
    "## 字串相加"
   ]
  },
  {
   "cell_type": "code",
   "execution_count": null,
   "id": "971f8b49",
   "metadata": {},
   "outputs": [],
   "source": [
    "print('e'+'m'+'a'+'i'+'l')\n",
    "print('email')"
   ]
  },
  {
   "cell_type": "code",
   "execution_count": null,
   "id": "e9543dfe",
   "metadata": {},
   "outputs": [],
   "source": [
    "x = 'Merry'\n",
    "y = 'Christmas'\n",
    "z = x + ' ' + y + '!'\n",
    "print(z)"
   ]
  },
  {
   "cell_type": "code",
   "execution_count": null,
   "id": "a63b0a8b",
   "metadata": {},
   "outputs": [],
   "source": [
    "print('Hi,my name is Lala')\n",
    "print('I am 22 years old, my hobbies are photography and cooking, and my profession is a data analyst')"
   ]
  },
  {
   "cell_type": "code",
   "execution_count": null,
   "id": "9d141c03",
   "metadata": {},
   "outputs": [],
   "source": [
    "name = 'Lala'\n",
    "age = 22\n",
    "hobby1 = 'photography'\n",
    "hobby2 = 'cooking'\n",
    "my_occupation = 'data analyst'"
   ]
  },
  {
   "cell_type": "code",
   "execution_count": null,
   "id": "68e2ce4e",
   "metadata": {},
   "outputs": [],
   "source": [
    "print('Hi,my name is' + ' ' + name + '.')\n",
    "print('I am ' + str(age) + ' years old, my hobbies are ' + hobby1 + ' and ' + hobby2,' and my profession is a '+ my_occupation+'.')"
   ]
  },
  {
   "cell_type": "code",
   "execution_count": null,
   "id": "ca4280aa",
   "metadata": {},
   "outputs": [],
   "source": [
    "name\n",
    "age\n",
    "hobby1\n",
    "hobby2\n",
    "my_job"
   ]
  },
  {
   "cell_type": "code",
   "execution_count": null,
   "id": "28d640e6",
   "metadata": {},
   "outputs": [],
   "source": [
    "## 將變數代入句子"
   ]
  },
  {
   "cell_type": "code",
   "execution_count": null,
   "id": "887cea29",
   "metadata": {},
   "outputs": [],
   "source": [
    "print()\n",
    "print()"
   ]
  },
  {
   "cell_type": "markdown",
   "id": "2973cb8c",
   "metadata": {},
   "source": [
    "## 字串相乘"
   ]
  },
  {
   "cell_type": "code",
   "execution_count": null,
   "id": "f5ee0522",
   "metadata": {},
   "outputs": [],
   "source": [
    "x = 'Cheers!'\n",
    "y = x * 3\n",
    "print(y)"
   ]
  },
  {
   "cell_type": "markdown",
   "id": "c27e4866",
   "metadata": {},
   "source": [
    "## 大小寫轉換"
   ]
  },
  {
   "cell_type": "code",
   "execution_count": null,
   "id": "1d3acd37",
   "metadata": {},
   "outputs": [],
   "source": [
    "string = 'The One'"
   ]
  },
  {
   "cell_type": "code",
   "execution_count": null,
   "id": "b9a2a611",
   "metadata": {},
   "outputs": [],
   "source": [
    "# 第一個字大寫\n",
    "print(string.capitalize())"
   ]
  },
  {
   "cell_type": "code",
   "execution_count": null,
   "id": "817bebe0",
   "metadata": {},
   "outputs": [],
   "source": [
    "# 所有單字以大寫開始\n",
    "print(string.title())"
   ]
  },
  {
   "cell_type": "code",
   "execution_count": null,
   "id": "7cbecf65",
   "metadata": {},
   "outputs": [],
   "source": [
    "# 所有單字大寫\n",
    "print(string.upper())"
   ]
  },
  {
   "cell_type": "code",
   "execution_count": null,
   "id": "f56268f0",
   "metadata": {},
   "outputs": [],
   "source": [
    "# 所有單字小寫\n",
    "print(string.lower())"
   ]
  },
  {
   "cell_type": "code",
   "execution_count": null,
   "id": "c9b73763",
   "metadata": {},
   "outputs": [],
   "source": [
    "string = 'The One'\n",
    "\n",
    "# 判斷是否皆為字母\n",
    "print(string.isalpha())\n",
    "\n",
    "# 判斷是否皆為數字\n",
    "print(string.isdigit())\n",
    "\n",
    "# 判斷是否所有單字以大寫開始\n",
    "print(string.istitle())\n",
    "\n",
    "# 判斷是否都是小寫\n",
    "print(string.isupper())\n",
    "\n",
    "# 判斷是否都是大寫\n",
    "print(string.islower())"
   ]
  },
  {
   "cell_type": "code",
   "execution_count": null,
   "id": "36123088",
   "metadata": {},
   "outputs": [],
   "source": [
    "## 將 office 轉換成全小寫並判斷是否全小寫？"
   ]
  },
  {
   "cell_type": "code",
   "execution_count": null,
   "id": "28b10c72",
   "metadata": {},
   "outputs": [],
   "source": []
  },
  {
   "cell_type": "raw",
   "id": "6895a7b9",
   "metadata": {},
   "source": [
    "## 字串擷取 (slicing)"
   ]
  },
  {
   "cell_type": "code",
   "execution_count": null,
   "id": "fbdbf107",
   "metadata": {},
   "outputs": [],
   "source": [
    "slogan = 'Working smart,living casual.'"
   ]
  },
  {
   "cell_type": "code",
   "execution_count": null,
   "id": "a1504f7f",
   "metadata": {},
   "outputs": [],
   "source": [
    "print(slogan[1])"
   ]
  },
  {
   "cell_type": "code",
   "execution_count": null,
   "id": "3de1d56d",
   "metadata": {},
   "outputs": [],
   "source": [
    "print(slogan[1:4])"
   ]
  },
  {
   "cell_type": "code",
   "execution_count": null,
   "id": "d2c90558",
   "metadata": {},
   "outputs": [],
   "source": [
    "print(slogan[3:20:2])"
   ]
  },
  {
   "cell_type": "code",
   "execution_count": null,
   "id": "e512308d",
   "metadata": {},
   "outputs": [],
   "source": [
    "## 選取 smart 這的單字並印出 "
   ]
  },
  {
   "cell_type": "code",
   "execution_count": null,
   "id": "91bad117",
   "metadata": {},
   "outputs": [],
   "source": []
  },
  {
   "cell_type": "code",
   "execution_count": null,
   "id": "ebb12886",
   "metadata": {},
   "outputs": [],
   "source": [
    "print(slogan.index('i'))"
   ]
  },
  {
   "cell_type": "code",
   "execution_count": null,
   "id": "9b499f72",
   "metadata": {},
   "outputs": [],
   "source": [
    "print(slogan.find('i'))"
   ]
  },
  {
   "cell_type": "code",
   "execution_count": null,
   "id": "3466f2ab",
   "metadata": {},
   "outputs": [],
   "source": [
    "## 尋找最後一個 i 的 index 值"
   ]
  },
  {
   "cell_type": "code",
   "execution_count": null,
   "id": "7db0c3a9",
   "metadata": {},
   "outputs": [],
   "source": [
    "print(slogan.rfind('i'))"
   ]
  },
  {
   "cell_type": "markdown",
   "id": "29b0575d",
   "metadata": {},
   "source": [
    "## 字串取代"
   ]
  },
  {
   "cell_type": "code",
   "execution_count": null,
   "id": "ed6af4a8",
   "metadata": {},
   "outputs": [],
   "source": [
    "print(slogan.replace('s','S'))"
   ]
  },
  {
   "cell_type": "markdown",
   "id": "79dae364",
   "metadata": {},
   "source": [
    "## 字串分離"
   ]
  },
  {
   "cell_type": "code",
   "execution_count": null,
   "id": "1cc5933a",
   "metadata": {},
   "outputs": [],
   "source": [
    "string = 'My favorite fruits are guavas, apples, bananas, pineapples'\n",
    "\n",
    "# 默認為所有空字符，包含空白換行等\n",
    "print(string.split())\n",
    "print()\n",
    "\n",
    "# 以 ',' 分割\n",
    "print(string.split(','))\n",
    "print()\n",
    "\n",
    "# 以 ',' 分割 1 次\n",
    "print(string.split(',', 1))"
   ]
  },
  {
   "cell_type": "markdown",
   "id": "a0ae1d78",
   "metadata": {},
   "source": [
    "## 字串的長度"
   ]
  },
  {
   "cell_type": "code",
   "execution_count": null,
   "id": "7e552935",
   "metadata": {},
   "outputs": [],
   "source": [
    "string = 'hello world!'\n",
    "print(len(string))"
   ]
  },
  {
   "cell_type": "markdown",
   "id": "40e77753",
   "metadata": {},
   "source": [
    "## 整數的運算"
   ]
  },
  {
   "cell_type": "code",
   "execution_count": null,
   "id": "0da25909",
   "metadata": {},
   "outputs": [],
   "source": [
    "# 算術運算子\n",
    "\n",
    "a = 6\n",
    "b = 2\n",
    "\n",
    "add = a + b\n",
    "subtract = a - b\n",
    "multiply = a * b\n",
    "divide = a / b\n",
    "round_down = a // b\n",
    "remainder = a % b\n",
    "square = a ** b\n",
    "\n",
    "print(add)\n",
    "print(subtract)\n",
    "print(multiply)\n",
    "print(divide)\n",
    "print(quotient)\n",
    "print(remainder)\n",
    "print(square)"
   ]
  },
  {
   "cell_type": "code",
   "execution_count": null,
   "id": "af7650b6",
   "metadata": {},
   "outputs": [],
   "source": [
    "a = 10\n",
    "print(a)\n",
    "\n",
    "a += 5\n",
    "print(a)\n",
    "\n",
    "a -= 6\n",
    "print(a)"
   ]
  },
  {
   "cell_type": "markdown",
   "id": "29fdc841",
   "metadata": {},
   "source": [
    "## 計算題\n",
    "1. 465332 * 8652 + 123443 = ?\n",
    "2. (211234426 - 345435) * 7632 = ? "
   ]
  },
  {
   "cell_type": "code",
   "execution_count": null,
   "id": "a51cd53f",
   "metadata": {},
   "outputs": [],
   "source": []
  },
  {
   "cell_type": "markdown",
   "id": "f50ec9e2",
   "metadata": {},
   "source": [
    "## 計算 BMI\n",
    "#### BMI = 體重(公斤) / 身高的平方(單位：公尺)"
   ]
  },
  {
   "cell_type": "code",
   "execution_count": null,
   "id": "e7b4a3a7",
   "metadata": {},
   "outputs": [],
   "source": []
  },
  {
   "cell_type": "markdown",
   "id": "04b732b4",
   "metadata": {},
   "source": [
    "# 數值的其他計算"
   ]
  },
  {
   "cell_type": "code",
   "execution_count": null,
   "id": "aae0a103",
   "metadata": {},
   "outputs": [],
   "source": [
    "c = -5\n",
    "print(abs(c))\n",
    "print(pow(c,2))"
   ]
  },
  {
   "cell_type": "code",
   "execution_count": null,
   "id": "55955291",
   "metadata": {},
   "outputs": [],
   "source": [
    "from math import *\n",
    "\n",
    "print(round(4.468))\n",
    "print(floor(4.94))\n",
    "print(ceil(5.74))\n",
    "print(sqrd(64))"
   ]
  },
  {
   "cell_type": "code",
   "execution_count": null,
   "id": "27766705",
   "metadata": {},
   "outputs": [],
   "source": [
    "## 將 d 四捨五入至小數第三位\n",
    "d = 32.6245"
   ]
  },
  {
   "cell_type": "code",
   "execution_count": null,
   "id": "14601f64",
   "metadata": {},
   "outputs": [],
   "source": []
  },
  {
   "cell_type": "code",
   "execution_count": null,
   "id": "adbe893b",
   "metadata": {},
   "outputs": [],
   "source": [
    "# 關係運算子\n",
    "\n",
    "x = 16\n",
    "y = 57\n",
    "\n",
    "print(x == y)\n",
    "print(x != y)\n",
    "print(x > y)\n",
    "print(x < y)\n",
    "print(x >= y)\n",
    "print(x <= y)\n"
   ]
  },
  {
   "cell_type": "code",
   "execution_count": null,
   "id": "ba5733eb",
   "metadata": {},
   "outputs": [],
   "source": [
    "# 邏輯運算子\n",
    "\n",
    "# and\n",
    "print('and : ')\n",
    "print(True and True)\n",
    "print(True and False)\n",
    "print(False and True)\n",
    "print(False and False)\n",
    "print()\n",
    "\n",
    "# or\n",
    "print('or : ')\n",
    "print(True or True)\n",
    "print(True or False)\n",
    "print(False or True)\n",
    "print(False or False)\n",
    "print()\n",
    "\n",
    "# not\n",
    "print('not : ')\n",
    "print(not True)\n",
    "print(not False)"
   ]
  },
  {
   "cell_type": "code",
   "execution_count": null,
   "id": "65ad5591",
   "metadata": {},
   "outputs": [],
   "source": [
    "x, y = True, False\n",
    "print(False and False)\n",
    "print((x or y) and x)\n",
    "print((x == y) or (x != y))"
   ]
  },
  {
   "cell_type": "code",
   "execution_count": null,
   "id": "fb56f34f",
   "metadata": {},
   "outputs": [],
   "source": [
    "x, y, z = 1, 2, 3\n",
    "print((y > x) and (y < z))\n",
    "print((x > y) and (z < x))"
   ]
  },
  {
   "cell_type": "code",
   "execution_count": null,
   "id": "1ef91487",
   "metadata": {},
   "outputs": [],
   "source": []
  },
  {
   "cell_type": "markdown",
   "id": "d755ce2a",
   "metadata": {},
   "source": [
    "# input"
   ]
  },
  {
   "cell_type": "code",
   "execution_count": null,
   "id": "03d8e7f7",
   "metadata": {},
   "outputs": [],
   "source": [
    "input()"
   ]
  },
  {
   "cell_type": "code",
   "execution_count": null,
   "id": "3b142721",
   "metadata": {},
   "outputs": [],
   "source": [
    "value = input('what is your name?')"
   ]
  },
  {
   "cell_type": "code",
   "execution_count": null,
   "id": "03880e17",
   "metadata": {},
   "outputs": [],
   "source": []
  },
  {
   "cell_type": "markdown",
   "id": "e1fbb793",
   "metadata": {},
   "source": [
    "# output"
   ]
  },
  {
   "cell_type": "code",
   "execution_count": null,
   "id": "d401fb30",
   "metadata": {},
   "outputs": [],
   "source": [
    "print(value)"
   ]
  },
  {
   "cell_type": "code",
   "execution_count": null,
   "id": "cc1af038",
   "metadata": {},
   "outputs": [],
   "source": []
  },
  {
   "cell_type": "code",
   "execution_count": null,
   "id": "4f05552c",
   "metadata": {},
   "outputs": [],
   "source": []
  }
 ],
 "metadata": {
  "kernelspec": {
   "display_name": "Python 3 (ipykernel)",
   "language": "python",
   "name": "python3"
  },
  "language_info": {
   "codemirror_mode": {
    "name": "ipython",
    "version": 3
   },
   "file_extension": ".py",
   "mimetype": "text/x-python",
   "name": "python",
   "nbconvert_exporter": "python",
   "pygments_lexer": "ipython3",
   "version": "3.9.5"
  }
 },
 "nbformat": 4,
 "nbformat_minor": 5
}
