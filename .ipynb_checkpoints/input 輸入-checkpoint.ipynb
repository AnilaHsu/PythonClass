{
 "cells": [
  {
   "cell_type": "markdown",
   "id": "bc3139e5",
   "metadata": {},
   "source": [
    "# input\n",
    "- 請使用者輸入資料\n",
    "- 資料會以字串的方式表示"
   ]
  },
  {
   "cell_type": "code",
   "execution_count": null,
   "id": "1680ea5d",
   "metadata": {},
   "outputs": [],
   "source": [
    "# 輸入一個值\n",
    "input()"
   ]
  },
  {
   "cell_type": "code",
   "execution_count": null,
   "id": "cf2cf09b",
   "metadata": {},
   "outputs": [],
   "source": [
    "# 輸入一個值並存入變數 \n",
    "x = input(\"請輸入一個數字\")\n",
    "print(x)\n",
    "print(type(x))"
   ]
  },
  {
   "cell_type": "code",
   "execution_count": null,
   "id": "a3504698",
   "metadata": {},
   "outputs": [],
   "source": [
    "name = input('請輸入你的名字:')\n",
    "month = input('請輸入你的生日月份')\n",
    "day = input('請輸入你的日期')\n",
    "print('Hi! '+name+'.' + ' 你的生日是 '+ month +' 月'+day+' 號。')"
   ]
  },
  {
   "cell_type": "code",
   "execution_count": null,
   "id": "b97f678f",
   "metadata": {},
   "outputs": [],
   "source": [
    "# 輸入兩個數值並相加\n",
    "# 整數字串使用 int() 轉成數值\n",
    "# 小數字串使用 float() 轉成數值\n",
    "\n",
    "num1 = input('請輸入數字一')\n",
    "num2 = input('請輸入數字二')\n",
    "print()"
   ]
  },
  {
   "cell_type": "code",
   "execution_count": null,
   "id": "38a9ab9c",
   "metadata": {},
   "outputs": [],
   "source": [
    "# 請使用者輸入一個數值並存入變數 num\n",
    "# 將該變數加 1 印出來\n",
    "# 使用 += 的方式\n"
   ]
  },
  {
   "cell_type": "code",
   "execution_count": null,
   "id": "57b046bb",
   "metadata": {},
   "outputs": [],
   "source": [
    "# Q:輸入三個數值並依序存入 a,b,c 當中並印出來\n"
   ]
  },
  {
   "cell_type": "code",
   "execution_count": null,
   "id": "54fe4262",
   "metadata": {},
   "outputs": [],
   "source": [
    "# 輸入三個數值並依序存入 a,b,c 當中\n",
    "value = input('請輸入三個數值，以逗點區隔')\n",
    "print(value)"
   ]
  },
  {
   "cell_type": "code",
   "execution_count": null,
   "id": "d32b7b18",
   "metadata": {},
   "outputs": [],
   "source": [
    "# 使用「,」的方式將 value 分開\n",
    "split_value = value.split(',')\n",
    "print(split_value)"
   ]
  },
  {
   "cell_type": "code",
   "execution_count": null,
   "id": "83d0bced",
   "metadata": {},
   "outputs": [],
   "source": [
    "a,b,c = split_value\n",
    "print(a,b,c)\n",
    "print(int(a),int(b),int(c))"
   ]
  },
  {
   "cell_type": "code",
   "execution_count": 3,
   "id": "d699bcec",
   "metadata": {},
   "outputs": [
    {
     "name": "stdout",
     "output_type": "stream",
     "text": [
      "e c d\n"
     ]
    }
   ],
   "source": [
    "## 存儲多變數的值\n",
    "a,c,b = 'e','d','c'\n",
    "print(a,b,c)\n",
    "\n",
    "x,y,z = ['a','b','c']\n",
    "print(x,y,z)"
   ]
  },
  {
   "cell_type": "code",
   "execution_count": null,
   "id": "10f3365c",
   "metadata": {},
   "outputs": [],
   "source": [
    "# 簡化\n",
    "value = input('請輸入三個數值，以逗點區隔')\n",
    "print(value)\n",
    "\n",
    "a,b,c = map(int,value.split(','))\n",
    "print(a,b,c)"
   ]
  },
  {
   "cell_type": "code",
   "execution_count": 2,
   "id": "42949978",
   "metadata": {},
   "outputs": [
    {
     "name": "stdout",
     "output_type": "stream",
     "text": [
      "a b c\n"
     ]
    }
   ],
   "source": []
  },
  {
   "cell_type": "code",
   "execution_count": null,
   "id": "9820dc8c",
   "metadata": {},
   "outputs": [],
   "source": [
    "file_name = input('請輸入檔名') \n",
    "open(file_name,'w')"
   ]
  },
  {
   "cell_type": "code",
   "execution_count": null,
   "id": "a01d6b73",
   "metadata": {},
   "outputs": [],
   "source": []
  },
  {
   "cell_type": "code",
   "execution_count": null,
   "id": "cb2d9fdb",
   "metadata": {},
   "outputs": [],
   "source": []
  }
 ],
 "metadata": {
  "kernelspec": {
   "display_name": "Python 3 (ipykernel)",
   "language": "python",
   "name": "python3"
  },
  "language_info": {
   "codemirror_mode": {
    "name": "ipython",
    "version": 3
   },
   "file_extension": ".py",
   "mimetype": "text/x-python",
   "name": "python",
   "nbconvert_exporter": "python",
   "pygments_lexer": "ipython3",
   "version": "3.9.5"
  }
 },
 "nbformat": 4,
 "nbformat_minor": 5
}
