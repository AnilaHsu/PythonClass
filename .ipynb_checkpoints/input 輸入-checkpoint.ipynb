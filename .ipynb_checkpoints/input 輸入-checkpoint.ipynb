{
 "cells": [
  {
   "cell_type": "markdown",
   "id": "f0635715",
   "metadata": {},
   "source": [
    "# input\n",
    "- 請使用者輸入資料\n",
    "- 資料會以字串的方式表示"
   ]
  },
  {
   "cell_type": "code",
   "execution_count": null,
   "id": "4c177157",
   "metadata": {},
   "outputs": [],
   "source": [
    "# 輸入一個值\n",
    "input()"
   ]
  },
  {
   "cell_type": "code",
   "execution_count": null,
   "id": "dad20ebd",
   "metadata": {},
   "outputs": [],
   "source": [
    "# 輸入一個值並存入變數 \n",
    "x = input(\"請輸入一個數字\")\n",
    "print(x)\n",
    "print(type(x))"
   ]
  },
  {
   "cell_type": "code",
   "execution_count": null,
   "id": "86178386",
   "metadata": {},
   "outputs": [],
   "source": [
    "name = input('請輸入你的名字:')\n",
    "print('Hello!'+ name)"
   ]
  },
  {
   "cell_type": "code",
   "execution_count": null,
   "id": "f50ed6f3",
   "metadata": {},
   "outputs": [],
   "source": [
    "month = input('請輸入你的生日月份:')\n",
    "day = input('請輸入你的生日日期:')\n",
    "print('你的生日是'+ month +'月'+day+'號。')"
   ]
  },
  {
   "cell_type": "code",
   "execution_count": null,
   "id": "a77da609",
   "metadata": {},
   "outputs": [],
   "source": [
    "# 輸入兩個數值並相加\n",
    "# 該數值為字串的型態\n",
    "\n",
    "num1 = input('請輸入數字一')\n",
    "num2 = input('請輸入數字二')\n",
    "print(num1+num2)"
   ]
  },
  {
   "cell_type": "code",
   "execution_count": null,
   "id": "1f140c4b",
   "metadata": {},
   "outputs": [],
   "source": [
    "# 輸入兩個數值並相加\n",
    "# 整數字串使用 int() 轉成數值\n",
    "# 小數字串使用 float() 轉成數值\n",
    "num1 = input('請輸入數字一')\n",
    "num2 = input('請輸入數字二')\n",
    "print()"
   ]
  },
  {
   "cell_type": "code",
   "execution_count": null,
   "id": "f6bcf9d3",
   "metadata": {},
   "outputs": [],
   "source": [
    "# 請使用者輸入一個數值並存入變數 num\n",
    "# 將該變數 +1 並印出來\n"
   ]
  },
  {
   "cell_type": "code",
   "execution_count": null,
   "id": "dc3ecc71",
   "metadata": {},
   "outputs": [],
   "source": [
    "# 輸入三位數數值，依序存入 a,b,c 當中並印出來\n",
    "a,b,c = input()\n",
    "print(a)\n",
    "print(b)\n",
    "print(c)"
   ]
  },
  {
   "cell_type": "code",
   "execution_count": null,
   "id": "36c28992",
   "metadata": {},
   "outputs": [],
   "source": [
    "# 輸入三個數值以逗點區隔，依序存入 a,b,c 當中\n",
    "value = input('請輸入三個數值，以逗點區隔')\n",
    "print(value)"
   ]
  },
  {
   "cell_type": "code",
   "execution_count": null,
   "id": "b0227167",
   "metadata": {},
   "outputs": [],
   "source": [
    "# 使用「,」的方式將 value 分開\n",
    "split_value = value.split(',')\n",
    "print(split_value)"
   ]
  },
  {
   "cell_type": "code",
   "execution_count": null,
   "id": "30d9ec17",
   "metadata": {},
   "outputs": [],
   "source": [
    "a,b,c = split_value\n",
    "print(a,b,c)\n",
    "print(int(a)+int(b)+int(c))"
   ]
  },
  {
   "cell_type": "code",
   "execution_count": null,
   "id": "b38585f4",
   "metadata": {},
   "outputs": [],
   "source": []
  },
  {
   "cell_type": "code",
   "execution_count": null,
   "id": "70ff5ac9",
   "metadata": {},
   "outputs": [],
   "source": []
  }
 ],
 "metadata": {
  "kernelspec": {
   "display_name": "Python 3 (ipykernel)",
   "language": "python",
   "name": "python3"
  },
  "language_info": {
   "codemirror_mode": {
    "name": "ipython",
    "version": 3
   },
   "file_extension": ".py",
   "mimetype": "text/x-python",
   "name": "python",
   "nbconvert_exporter": "python",
   "pygments_lexer": "ipython3",
   "version": "3.9.5"
  }
 },
 "nbformat": 4,
 "nbformat_minor": 5
}
