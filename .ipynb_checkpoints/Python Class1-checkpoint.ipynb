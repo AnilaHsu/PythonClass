{
 "cells": [
  {
   "cell_type": "markdown",
   "id": "121200df",
   "metadata": {},
   "source": [
    "# Why learn Python"
   ]
  },
  {
   "cell_type": "code",
   "execution_count": null,
   "id": "57b02d46",
   "metadata": {},
   "outputs": [],
   "source": []
  },
  {
   "cell_type": "markdown",
   "id": "029b9c26",
   "metadata": {},
   "source": [
    "# What is jupyter"
   ]
  },
  {
   "cell_type": "markdown",
   "id": "401c1f60",
   "metadata": {},
   "source": [
    "- 一個很輕量級、很好上手的 Web-base 寫 Python 的介面，是資料分析領域中非常熱門的寫程式介面。"
   ]
  },
  {
   "cell_type": "markdown",
   "id": "928bdfd4",
   "metadata": {},
   "source": [
    "# 基本的資料型態 & 變數"
   ]
  },
  {
   "cell_type": "code",
   "execution_count": null,
   "id": "cccb28f4",
   "metadata": {},
   "outputs": [],
   "source": [
    "1. 字串型態： str, chr\n",
    "2. 數值型態： int, float, bool\n",
    "3. 容器型態： list, dict, tuple,set"
   ]
  },
  {
   "cell_type": "code",
   "execution_count": null,
   "id": "71de7f7e",
   "metadata": {},
   "outputs": [],
   "source": [
    "1. str"
   ]
  },
  {
   "cell_type": "code",
   "execution_count": null,
   "id": "23e6cc63",
   "metadata": {},
   "outputs": [],
   "source": [
    "a ='1'\n",
    "b = 'The One'\n",
    "c = \"數位辦公室\"\n",
    "d = '''Working smart,\n",
    "    living casual.'''\n",
    "type(a)"
   ]
  },
  {
   "cell_type": "code",
   "execution_count": 10,
   "id": "dc5b7594",
   "metadata": {},
   "outputs": [
    {
     "name": "stdout",
     "output_type": "stream",
     "text": [
      "'Bohemian Rhapsody' is a song by the British rock band Queen.\n"
     ]
    }
   ],
   "source": [
    "print(\"'Apologize' is a song by the American pop band OneRepublic.\")"
   ]
  },
  {
   "cell_type": "code",
   "execution_count": null,
   "id": "67012fdb",
   "metadata": {},
   "outputs": [],
   "source": []
  },
  {
   "cell_type": "code",
   "execution_count": null,
   "id": "62d409cc",
   "metadata": {},
   "outputs": [],
   "source": [
    "# 字串相加"
   ]
  },
  {
   "cell_type": "code",
   "execution_count": null,
   "id": "939d6859",
   "metadata": {},
   "outputs": [],
   "source": [
    "x = 'Merry'\n",
    "y = 'Christmas'\n",
    "z = x + ' ' + y + '!'\n",
    "print(z)"
   ]
  },
  {
   "cell_type": "code",
   "execution_count": null,
   "id": "76260b99",
   "metadata": {},
   "outputs": [],
   "source": [
    "# 字串相乘"
   ]
  },
  {
   "cell_type": "code",
   "execution_count": null,
   "id": "f1d24194",
   "metadata": {},
   "outputs": [],
   "source": [
    "x = 'Cheers!'\n",
    "y = x * 3\n",
    "print(y)"
   ]
  },
  {
   "cell_type": "code",
   "execution_count": null,
   "id": "e25c9b57",
   "metadata": {},
   "outputs": [],
   "source": [
    "# 取部分字串 (slicing)"
   ]
  },
  {
   "cell_type": "code",
   "execution_count": null,
   "id": "a515bc45",
   "metadata": {},
   "outputs": [],
   "source": [
    "x = 'Working smart,living casual'"
   ]
  },
  {
   "cell_type": "code",
   "execution_count": null,
   "id": "3de1d56d",
   "metadata": {},
   "outputs": [],
   "source": [
    "print(x[1:4])"
   ]
  },
  {
   "cell_type": "code",
   "execution_count": null,
   "id": "d2c90558",
   "metadata": {},
   "outputs": [],
   "source": [
    "print(x[3:20:2])"
   ]
  },
  {
   "cell_type": "code",
   "execution_count": null,
   "id": "908a3bdf",
   "metadata": {},
   "outputs": [],
   "source": [
    "# 字串分離"
   ]
  },
  {
   "cell_type": "code",
   "execution_count": null,
   "id": "1cc5933a",
   "metadata": {},
   "outputs": [],
   "source": [
    "y = x.split(',')\n",
    "print(y)"
   ]
  },
  {
   "cell_type": "code",
   "execution_count": null,
   "id": "b19a5783",
   "metadata": {},
   "outputs": [],
   "source": [
    "# 字串的長度"
   ]
  },
  {
   "cell_type": "code",
   "execution_count": null,
   "id": "7e552935",
   "metadata": {},
   "outputs": [],
   "source": [
    "print(len(x))"
   ]
  },
  {
   "cell_type": "code",
   "execution_count": null,
   "id": "bfe4fde3",
   "metadata": {},
   "outputs": [],
   "source": []
  },
  {
   "cell_type": "code",
   "execution_count": null,
   "id": "86d31235",
   "metadata": {},
   "outputs": [],
   "source": []
  },
  {
   "cell_type": "markdown",
   "id": "8f5ad51b",
   "metadata": {},
   "source": [
    "2. int"
   ]
  },
  {
   "cell_type": "code",
   "execution_count": 10,
   "id": "b1a3b6c3",
   "metadata": {},
   "outputs": [
    {
     "name": "stdout",
     "output_type": "stream",
     "text": [
      "1\n",
      "<class 'int'>\n"
     ]
    },
    {
     "data": {
      "text/plain": [
       "int"
      ]
     },
     "execution_count": 10,
     "metadata": {},
     "output_type": "execute_result"
    }
   ],
   "source": [
    "a = 1\n",
    "print(a)\n",
    "print(type(a))\n"
   ]
  },
  {
   "cell_type": "code",
   "execution_count": 8,
   "id": "cce73838",
   "metadata": {},
   "outputs": [
    {
     "name": "stdout",
     "output_type": "stream",
     "text": [
      "-55\n",
      "<class 'int'>\n"
     ]
    }
   ],
   "source": [
    "b = -55\n",
    "print(b)\n",
    "print(type(b))"
   ]
  },
  {
   "cell_type": "markdown",
   "id": "40e77753",
   "metadata": {},
   "source": [
    "# 整數的運算"
   ]
  },
  {
   "cell_type": "code",
   "execution_count": null,
   "id": "0da25909",
   "metadata": {},
   "outputs": [],
   "source": [
    "a = 6\n",
    "b = 2\n",
    "\n",
    "add = a + b\n",
    "subtract = a - b\n",
    "multiply = a * b\n",
    "divide = a / b\n",
    "round_down = a // b\n",
    "remainder = a % b\n",
    "square = a ** b\n",
    "\n",
    "print(add)\n",
    "print(subtract)\n",
    "print(multiply)\n",
    "print(divide)\n",
    "print(quotient)\n",
    "print(remainder)\n",
    "print(square)"
   ]
  },
  {
   "cell_type": "code",
   "execution_count": null,
   "id": "af7650b6",
   "metadata": {},
   "outputs": [],
   "source": [
    "a = 10\n",
    "print(a)\n",
    "\n",
    "a += 5\n",
    "print(a)\n",
    "\n",
    "a -= 6\n",
    "print(a)"
   ]
  },
  {
   "cell_type": "markdown",
   "id": "29fdc841",
   "metadata": {},
   "source": [
    "# 計算題\n",
    "1. 465332 * 8652 + 123443 = ?\n",
    "2. (211234426 - 345435) * 7632 = ? "
   ]
  },
  {
   "cell_type": "markdown",
   "id": "f50ec9e2",
   "metadata": {},
   "source": [
    "# 計算 BMI\n",
    "## BMI = 體重(公斤) / 身高的平方(單位：公尺)"
   ]
  },
  {
   "cell_type": "code",
   "execution_count": null,
   "id": "76ecb2b6",
   "metadata": {},
   "outputs": [],
   "source": []
  },
  {
   "cell_type": "markdown",
   "id": "13155111",
   "metadata": {},
   "source": [
    "3. float"
   ]
  },
  {
   "cell_type": "code",
   "execution_count": 8,
   "id": "70a23ca5",
   "metadata": {},
   "outputs": [
    {
     "data": {
      "text/plain": [
       "float"
      ]
     },
     "execution_count": 8,
     "metadata": {},
     "output_type": "execute_result"
    }
   ],
   "source": [
    "b = 3.14159\n",
    "type(b)"
   ]
  },
  {
   "cell_type": "code",
   "execution_count": null,
   "id": "a0318df5",
   "metadata": {},
   "outputs": [],
   "source": []
  },
  {
   "cell_type": "markdown",
   "id": "1c7a3417",
   "metadata": {},
   "source": [
    "4. bool"
   ]
  },
  {
   "cell_type": "code",
   "execution_count": null,
   "id": "16c93206",
   "metadata": {},
   "outputs": [],
   "source": [
    "x = True\n",
    "y = False\n",
    "type(x)"
   ]
  },
  {
   "cell_type": "code",
   "execution_count": null,
   "id": "adbe893b",
   "metadata": {},
   "outputs": [],
   "source": [
    "x = 1\n",
    "y = 2\n",
    "print(x==y)\n",
    "\n",
    "## = 代表指定值\n",
    "## == 代表比對"
   ]
  },
  {
   "cell_type": "code",
   "execution_count": null,
   "id": "aae0a103",
   "metadata": {},
   "outputs": [],
   "source": []
  },
  {
   "cell_type": "markdown",
   "id": "33ed219b",
   "metadata": {},
   "source": [
    "# 變數\n",
    "1. 變數的命名可以以由、數字、底線(_)組合\n",
    "2. 但不能以數字開頭"
   ]
  },
  {
   "cell_type": "code",
   "execution_count": null,
   "id": "9d141c03",
   "metadata": {},
   "outputs": [],
   "source": [
    "name = 'Lala'\n",
    "age = 22\n",
    "hobby1 = 'photography'\n",
    "hobby2 = 'cooking'\n",
    "my_occupation = 'data analyst'"
   ]
  },
  {
   "cell_type": "code",
   "execution_count": null,
   "id": "a63b0a8b",
   "metadata": {},
   "outputs": [],
   "source": [
    "print('Hi,my name is Lala')\n",
    "print('I am 22 years old, my hobbies are photography and cooking, and my profession is a data analyst')"
   ]
  },
  {
   "cell_type": "code",
   "execution_count": null,
   "id": "31e2f7a8",
   "metadata": {},
   "outputs": [],
   "source": [
    "# 創建屬於自己的變數\n",
    "name\n",
    "age\n",
    "hobby1\n",
    "hobby2\n",
    "my_job"
   ]
  },
  {
   "cell_type": "code",
   "execution_count": null,
   "id": "28d640e6",
   "metadata": {},
   "outputs": [],
   "source": [
    "# 將變數代入句子\n",
    "print()"
   ]
  },
  {
   "cell_type": "code",
   "execution_count": null,
   "id": "c96b6cd3",
   "metadata": {},
   "outputs": [],
   "source": []
  },
  {
   "cell_type": "code",
   "execution_count": null,
   "id": "751d47e6",
   "metadata": {},
   "outputs": [],
   "source": [
    "# input"
   ]
  },
  {
   "cell_type": "code",
   "execution_count": null,
   "id": "03d8e7f7",
   "metadata": {},
   "outputs": [],
   "source": [
    "x = input()"
   ]
  },
  {
   "cell_type": "code",
   "execution_count": null,
   "id": "3b142721",
   "metadata": {},
   "outputs": [],
   "source": [
    "value = input('what is your name?')"
   ]
  },
  {
   "cell_type": "code",
   "execution_count": null,
   "id": "370257cf",
   "metadata": {},
   "outputs": [],
   "source": [
    "# output"
   ]
  },
  {
   "cell_type": "code",
   "execution_count": null,
   "id": "d401fb30",
   "metadata": {},
   "outputs": [],
   "source": [
    "print(value)"
   ]
  },
  {
   "cell_type": "code",
   "execution_count": null,
   "id": "cc1af038",
   "metadata": {},
   "outputs": [],
   "source": []
  },
  {
   "cell_type": "code",
   "execution_count": null,
   "id": "e7eed906",
   "metadata": {},
   "outputs": [],
   "source": [
    "# 型態轉換"
   ]
  },
  {
   "cell_type": "code",
   "execution_count": 1,
   "id": "f98d6bf3",
   "metadata": {},
   "outputs": [
    {
     "name": "stdout",
     "output_type": "stream",
     "text": [
      "87.0\n",
      "87\n"
     ]
    }
   ],
   "source": [
    "a = 87 \n",
    "b = 87.878787 \n",
    "print(float(a))\n",
    "print('a 的型態',type(a))\n",
    "print(int(b))\n",
    "print('b 的型態',type(b))"
   ]
  },
  {
   "cell_type": "code",
   "execution_count": null,
   "id": "b44d01fa",
   "metadata": {},
   "outputs": [],
   "source": []
  },
  {
   "cell_type": "code",
   "execution_count": null,
   "id": "8e317dad",
   "metadata": {},
   "outputs": [],
   "source": []
  },
  {
   "cell_type": "code",
   "execution_count": null,
   "id": "5e45b61e",
   "metadata": {},
   "outputs": [],
   "source": []
  },
  {
   "cell_type": "code",
   "execution_count": null,
   "id": "4f05552c",
   "metadata": {},
   "outputs": [],
   "source": []
  }
 ],
 "metadata": {
  "kernelspec": {
   "display_name": "Python 3 (ipykernel)",
   "language": "python",
   "name": "python3"
  },
  "language_info": {
   "codemirror_mode": {
    "name": "ipython",
    "version": 3
   },
   "file_extension": ".py",
   "mimetype": "text/x-python",
   "name": "python",
   "nbconvert_exporter": "python",
   "pygments_lexer": "ipython3",
   "version": "3.9.5"
  }
 },
 "nbformat": 4,
 "nbformat_minor": 5
}
