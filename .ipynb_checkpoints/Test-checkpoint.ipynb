{
 "cells": [
  {
   "cell_type": "code",
   "execution_count": null,
   "id": "200a5e3d",
   "metadata": {},
   "outputs": [],
   "source": [
    "# 屬性、方法差異"
   ]
  },
  {
   "cell_type": "code",
   "execution_count": null,
   "id": "38a8fea8",
   "metadata": {},
   "outputs": [],
   "source": [
    "# 補充 數值運算"
   ]
  },
  {
   "cell_type": "code",
   "execution_count": null,
   "id": "81535ab7",
   "metadata": {},
   "outputs": [],
   "source": [
    "## 數值格式化\n",
    "# 使用:後面為總字元寬度，用於對齊\n",
    "# 字串向左對齊(空白補在後);數值向右對齊(空白補在前面)\n",
    "\n",
    "table = {'Sjoer': 41275678901, 'Jack': 4098, 'Dcab': 7678}\n",
    "\n",
    "print()\n",
    "\n",
    "for name, phone in table.items():\n",
    "    print(f'{name:5s}==>{phone:5}')   # string\n",
    "\n",
    "print()\n",
    "\n",
    "for name, phone in table.items():\n",
    "    print(f'{name:5}==>{phone:16f}') # float\n",
    "\n",
    "print()\n",
    "\n",
    "for name, phone in table.items():\n",
    "    print(f'{name:5}==>{phone:5d}') # decimal\n",
    "\n",
    "print()\n",
    "\n",
    "for name, phone in table.items():\n",
    "    print(f'{name:5}==>{phone:5x}') # hex"
   ]
  },
  {
   "cell_type": "code",
   "execution_count": null,
   "id": "674ffa89",
   "metadata": {},
   "outputs": [],
   "source": [
    "# 字串格式化: 字串使用 s ; 整數使用 d/f/x ; 浮點數使用 f\n",
    "# 字串不能轉 d、f、x ; 整數不能轉 s ; 浮點數不能轉 s、d、x\n",
    "print(\"{}\".format(3.1415926))\n",
    "print(\"{:.2f}\".format(3.1415926))\n",
    "print(format(3.1415926,'.2f'))"
   ]
  },
  {
   "cell_type": "code",
   "execution_count": null,
   "id": "18bfc3a4",
   "metadata": {},
   "outputs": [],
   "source": [
    "print(format(2))\n",
    "print(format(2,'2'))\n",
    "print(format(2,'2d'))\n",
    "print(format(2,'.3f'))\n",
    "print(format(2,'2f'))\n",
    "print(format(12345,'5x'))\n",
    "print(format(2))\n",
    "print(len(format('abcde','8')))"
   ]
  },
  {
   "cell_type": "code",
   "execution_count": null,
   "id": "f30d6201",
   "metadata": {},
   "outputs": [],
   "source": [
    "# 使用「!a」套用 ascii()，「!s」套用 str()，「!r」套用 repr()：\n",
    "\n",
    "animals = 'eels'\n",
    "print(f'My hovercraft is full of {animals}.')\n",
    "print(f'My hovercraft is full of {animals!a}.')\n",
    "print(f'My hovercraft is full of {animals!r}.')\n"
   ]
  },
  {
   "cell_type": "code",
   "execution_count": null,
   "id": "3b6d6089",
   "metadata": {},
   "outputs": [],
   "source": []
  },
  {
   "cell_type": "code",
   "execution_count": null,
   "id": "33125282",
   "metadata": {},
   "outputs": [],
   "source": [
    "# 補充 input "
   ]
  },
  {
   "cell_type": "code",
   "execution_count": null,
   "id": "9e935b05",
   "metadata": {},
   "outputs": [],
   "source": [
    "# 使用 input() 與 open() 開啟檔案\n",
    "\n",
    "file_name = input('請輸入檔名')\n",
    "open(file_name,'w')"
   ]
  },
  {
   "cell_type": "code",
   "execution_count": null,
   "id": "29006164",
   "metadata": {},
   "outputs": [],
   "source": []
  },
  {
   "cell_type": "code",
   "execution_count": 2,
   "id": "1e235581",
   "metadata": {},
   "outputs": [
    {
     "name": "stdout",
     "output_type": "stream",
     "text": [
      "which fruit do you like,guava or litchi or pear? guava\n",
      "['litchi', 'pear', 'banana', 'papaya', 'mango']\n"
     ]
    }
   ],
   "source": [
    "# List 補充\n",
    "fruits3 = ['guava', 'litchi', 'pear', 'banana', 'papaya', 'mango'] \n",
    "x = input('which fruit do you like,guava or litchi or pear? ')\n",
    "fruits3.remove(x)\n",
    "print(fruits3)"
   ]
  },
  {
   "cell_type": "code",
   "execution_count": null,
   "id": "3ace90ba",
   "metadata": {},
   "outputs": [],
   "source": []
  },
  {
   "cell_type": "code",
   "execution_count": null,
   "id": "7d8af4c5",
   "metadata": {},
   "outputs": [],
   "source": []
  },
  {
   "cell_type": "code",
   "execution_count": null,
   "id": "c3ac5756",
   "metadata": {},
   "outputs": [],
   "source": [
    "# 其他"
   ]
  },
  {
   "cell_type": "code",
   "execution_count": 13,
   "id": "75d75f23",
   "metadata": {},
   "outputs": [
    {
     "name": "stdout",
     "output_type": "stream",
     "text": [
      "deque([])\n"
     ]
    }
   ],
   "source": [
    "from collections import deque\n",
    "x = deque()\n",
    "y = 'hello'\n",
    "print(x)\n",
    "print(not x)\n",
    "    "
   ]
  },
  {
   "cell_type": "code",
   "execution_count": 15,
   "id": "02f4678c",
   "metadata": {},
   "outputs": [
    {
     "name": "stdout",
     "output_type": "stream",
     "text": [
      "exit!\n"
     ]
    }
   ],
   "source": [
    "s='hello'\n",
    "\n",
    "if 'e' not in s:\n",
    "    print('not exist!')\n",
    "else:\n",
    "    print('exit!')"
   ]
  },
  {
   "cell_type": "code",
   "execution_count": 16,
   "id": "59220710",
   "metadata": {},
   "outputs": [
    {
     "name": "stdout",
     "output_type": "stream",
     "text": [
      "exist!\n"
     ]
    }
   ],
   "source": [
    "if 'e' in s:\n",
    "    print('exist!')\n",
    "else:\n",
    "    print('not exit!')"
   ]
  },
  {
   "cell_type": "code",
   "execution_count": 21,
   "id": "7529109e",
   "metadata": {},
   "outputs": [
    {
     "name": "stdout",
     "output_type": "stream",
     "text": [
      "False:empty\n"
     ]
    }
   ],
   "source": [
    "listtest = []\n",
    "if listtest:\n",
    "    print('True: not empty')\n",
    "else:\n",
    "    print('False: empty')"
   ]
  },
  {
   "cell_type": "code",
   "execution_count": 1,
   "id": "ed25876d",
   "metadata": {},
   "outputs": [
    {
     "name": "stdout",
     "output_type": "stream",
     "text": [
      "True: empty\n"
     ]
    }
   ],
   "source": [
    "listtest = []\n",
    "if not listtest:\n",
    "    print('True: empty')\n",
    "else:\n",
    "    print('False: not empty')"
   ]
  },
  {
   "cell_type": "code",
   "execution_count": 24,
   "id": "74bd3150",
   "metadata": {},
   "outputs": [
    {
     "name": "stdout",
     "output_type": "stream",
     "text": [
      "True: have el\n"
     ]
    }
   ],
   "source": [
    "listtest = [1]\n",
    "if listtest:\n",
    "    print('True: have el')\n",
    "else:\n",
    "    print('False: not have el')"
   ]
  },
  {
   "cell_type": "code",
   "execution_count": 25,
   "id": "e3d07cd1",
   "metadata": {},
   "outputs": [
    {
     "name": "stdout",
     "output_type": "stream",
     "text": [
      "False:\n"
     ]
    }
   ],
   "source": [
    "listtest = [1]\n",
    "if not listtest:\n",
    "    print('True: ')\n",
    "else:\n",
    "    print('False:')"
   ]
  },
  {
   "cell_type": "code",
   "execution_count": 41,
   "id": "dfbe9371",
   "metadata": {},
   "outputs": [
    {
     "name": "stdout",
     "output_type": "stream",
     "text": [
      "True\n"
     ]
    }
   ],
   "source": [
    "class Solution:\n",
    "    def isValid(self, s: str) -> bool:\n",
    "        mapping = {')': '(',\n",
    "                   '}': '{',\n",
    "                   ']': '['}\n",
    "        \n",
    "        stack = []\n",
    "        for element in s:\n",
    "            if stack == []:\n",
    "                stack.append(element)\n",
    "                continue\n",
    "                \n",
    "            if (element in mapping) and (mapping[element] == stack[-1]):\n",
    "                _ = stack.pop()\n",
    "            elif (element in mapping) and (mapping[element] != stack[-1]):\n",
    "                stack.append(element)\n",
    "            else:\n",
    "                stack.append(element)\n",
    "                \n",
    "        if stack == []:\n",
    "            return True\n",
    "        else:\n",
    "            return False\n",
    "\n",
    "    s = '{[{()}]}{}'\n",
    "    x = isValid(s,s)\n",
    "    print(x)"
   ]
  },
  {
   "cell_type": "code",
   "execution_count": null,
   "id": "c2f0349d",
   "metadata": {},
   "outputs": [],
   "source": []
  }
 ],
 "metadata": {
  "kernelspec": {
   "display_name": "Python 3 (ipykernel)",
   "language": "python",
   "name": "python3"
  },
  "language_info": {
   "codemirror_mode": {
    "name": "ipython",
    "version": 3
   },
   "file_extension": ".py",
   "mimetype": "text/x-python",
   "name": "python",
   "nbconvert_exporter": "python",
   "pygments_lexer": "ipython3",
   "version": "3.9.5"
  }
 },
 "nbformat": 4,
 "nbformat_minor": 5
}
