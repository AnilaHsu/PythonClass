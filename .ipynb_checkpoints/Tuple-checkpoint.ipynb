{
 "cells": [
  {
   "cell_type": "markdown",
   "id": "73fb02c7",
   "metadata": {},
   "source": [
    "# Tuple"
   ]
  },
  {
   "cell_type": "markdown",
   "id": "6b593970",
   "metadata": {},
   "source": [
    "## 創建 Tuple"
   ]
  },
  {
   "cell_type": "code",
   "execution_count": 2,
   "id": "4afb7d98",
   "metadata": {},
   "outputs": [
    {
     "name": "stdout",
     "output_type": "stream",
     "text": [
      "(10, 20, 30, 40, 50)\n",
      "<class 'tuple'>\n"
     ]
    }
   ],
   "source": [
    "numbers = (10,20,30,40,50)\n",
    "print(numbers)\n",
    "print(type(numbers))"
   ]
  },
  {
   "cell_type": "code",
   "execution_count": 3,
   "id": "521abc42",
   "metadata": {},
   "outputs": [
    {
     "name": "stdout",
     "output_type": "stream",
     "text": [
      "10\n",
      "50\n"
     ]
    }
   ],
   "source": [
    "# 取得 Tuple 的單一元素\n",
    "numbers = (10,20,30,40,50)\n",
    "\n",
    "## 取得第一個元素\n",
    "print(numbers[0])\n",
    "\n",
    "## 取得最後一個元素\n",
    "print(numbers[-1])"
   ]
  },
  {
   "cell_type": "markdown",
   "id": "f7c2611d",
   "metadata": {},
   "source": [
    "## 取的 Tuple 的連續元素"
   ]
  },
  {
   "cell_type": "code",
   "execution_count": 18,
   "id": "9b5a60ad",
   "metadata": {},
   "outputs": [
    {
     "name": "stdout",
     "output_type": "stream",
     "text": [
      "(10, 20, 30)\n",
      "(10, 20, 30)\n",
      "(30, 40)\n",
      "(30, 40, 50)\n"
     ]
    }
   ],
   "source": [
    "numbers = (10,20,30,40,50)\n",
    "\n",
    "## 取得第一個到第三個元素\n",
    "print(numbers[0:3])\n",
    "print(numbers[:3])\n",
    "\n",
    "## 取得第三個到最後的元素\n",
    "print(numbers[2:-1])\n",
    "print(numbers[2:])"
   ]
  },
  {
   "cell_type": "code",
   "execution_count": null,
   "id": "eda664f3",
   "metadata": {},
   "outputs": [],
   "source": [
    "# 取得第三個到最後的元素\n",
    "numbers = (10,20,30,40,50) \n",
    "\n",
    "## -1 為最後一個元素，因此連續取值,含頭不含尾\n",
    "## 若連續取值時，開頭與最後的元素重複取則會取不到值\n",
    "print(numbers[4:-1])\n",
    "print(numbers[4:])"
   ]
  },
  {
   "cell_type": "code",
   "execution_count": null,
   "id": "8db99c25",
   "metadata": {},
   "outputs": [],
   "source": [
    "# 若取值時 index 的範圍超出:\n",
    "# 取單一元素會產生錯誤訊息;取連續元素則會取至最後一個元素\n",
    "numbers = (10,20,30,40,50)\n",
    "print(numbers[0:10])\n",
    "print(numbers[5])"
   ]
  },
  {
   "cell_type": "code",
   "execution_count": 9,
   "id": "c4b0a8ad",
   "metadata": {},
   "outputs": [
    {
     "name": "stdout",
     "output_type": "stream",
     "text": [
      "5\n"
     ]
    }
   ],
   "source": [
    "# 取得 Tuple 長度\n",
    "print(len(numbers))"
   ]
  },
  {
   "cell_type": "markdown",
   "id": "4ead268b",
   "metadata": {},
   "source": [
    "## List vs Tuple\n",
    "- List 型態被創建可修改、新增、刪除\n",
    "- Tuple 型態被創建則不可修改、新增、刪除"
   ]
  },
  {
   "cell_type": "code",
   "execution_count": 19,
   "id": "dfa7321c",
   "metadata": {},
   "outputs": [
    {
     "ename": "TypeError",
     "evalue": "'tuple' object does not support item assignment",
     "output_type": "error",
     "traceback": [
      "\u001b[0;31m---------------------------------------------------------------------------\u001b[0m",
      "\u001b[0;31mTypeError\u001b[0m                                 Traceback (most recent call last)",
      "\u001b[0;32m/var/folders/rq/kwbpmjpx34330vb83n98l_8m0000gp/T/ipykernel_29865/3061955272.py\u001b[0m in \u001b[0;36m<module>\u001b[0;34m\u001b[0m\n\u001b[1;32m      1\u001b[0m \u001b[0mnumbers\u001b[0m \u001b[0;34m=\u001b[0m \u001b[0;34m(\u001b[0m\u001b[0;36m10\u001b[0m\u001b[0;34m,\u001b[0m\u001b[0;36m20\u001b[0m\u001b[0;34m,\u001b[0m\u001b[0;36m30\u001b[0m\u001b[0;34m,\u001b[0m\u001b[0;36m40\u001b[0m\u001b[0;34m,\u001b[0m\u001b[0;36m50\u001b[0m\u001b[0;34m)\u001b[0m\u001b[0;34m\u001b[0m\u001b[0;34m\u001b[0m\u001b[0m\n\u001b[0;32m----> 2\u001b[0;31m \u001b[0mnumbers\u001b[0m\u001b[0;34m[\u001b[0m\u001b[0;36m0\u001b[0m\u001b[0;34m]\u001b[0m \u001b[0;34m=\u001b[0m \u001b[0;36m1\u001b[0m\u001b[0;34m\u001b[0m\u001b[0;34m\u001b[0m\u001b[0m\n\u001b[0m",
      "\u001b[0;31mTypeError\u001b[0m: 'tuple' object does not support item assignment"
     ]
    }
   ],
   "source": [
    "numbers = (10,20,30,40,50)\n",
    "numbers[0] = 1"
   ]
  },
  {
   "cell_type": "markdown",
   "id": "c6795418",
   "metadata": {},
   "source": [
    "## Tuple 的應用\n",
    "- 防止資料被意外修改 ex：經緯度的紀錄"
   ]
  }
 ],
 "metadata": {
  "kernelspec": {
   "display_name": "Python 3 (ipykernel)",
   "language": "python",
   "name": "python3"
  },
  "language_info": {
   "codemirror_mode": {
    "name": "ipython",
    "version": 3
   },
   "file_extension": ".py",
   "mimetype": "text/x-python",
   "name": "python",
   "nbconvert_exporter": "python",
   "pygments_lexer": "ipython3",
   "version": "3.9.5"
  }
 },
 "nbformat": 4,
 "nbformat_minor": 5
}
