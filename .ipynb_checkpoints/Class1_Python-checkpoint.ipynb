{
 "cells": [
  {
   "cell_type": "markdown",
   "id": "121200df",
   "metadata": {},
   "source": [
    "# Why learn Python"
   ]
  },
  {
   "cell_type": "code",
   "execution_count": null,
   "id": "57b02d46",
   "metadata": {},
   "outputs": [],
   "source": []
  },
  {
   "cell_type": "markdown",
   "id": "029b9c26",
   "metadata": {},
   "source": [
    "# What is jupyter"
   ]
  },
  {
   "cell_type": "markdown",
   "id": "401c1f60",
   "metadata": {},
   "source": [
    "## 輕量級、很好上手的 Web-base 寫 Python 的介面，是資料分析領域中非常熱門的寫程式介面。"
   ]
  },
  {
   "cell_type": "markdown",
   "id": "928bdfd4",
   "metadata": {},
   "source": [
    "# 基本的資料型態 & 變數"
   ]
  },
  {
   "cell_type": "markdown",
   "id": "0b40a1f8",
   "metadata": {},
   "source": [
    "1. 字串型態： str, chr\n",
    "2. 數值型態： int, float, bool\n",
    "3. 容器型態： list, dict, tuple,set"
   ]
  },
  {
   "cell_type": "markdown",
   "id": "2cd3c61d",
   "metadata": {},
   "source": [
    "## str"
   ]
  },
  {
   "cell_type": "code",
   "execution_count": null,
   "id": "23e6cc63",
   "metadata": {},
   "outputs": [],
   "source": [
    "a ='1'\n",
    "b = 'The One'\n",
    "c = \"數位辦公室\"\n",
    "d = '''Working smart,\n",
    "    living casual.'''\n",
    "type(a)"
   ]
  },
  {
   "cell_type": "code",
   "execution_count": 10,
   "id": "dc5b7594",
   "metadata": {},
   "outputs": [
    {
     "name": "stdout",
     "output_type": "stream",
     "text": [
      "'Bohemian Rhapsody' is a song by the British rock band Queen.\n"
     ]
    }
   ],
   "source": [
    "print(\"'Apologize' is a song by the American pop band OneRepublic.\")"
   ]
  },
  {
   "cell_type": "code",
   "execution_count": null,
   "id": "67012fdb",
   "metadata": {},
   "outputs": [],
   "source": []
  },
  {
   "cell_type": "code",
   "execution_count": null,
   "id": "bfe4fde3",
   "metadata": {},
   "outputs": [],
   "source": []
  },
  {
   "cell_type": "code",
   "execution_count": null,
   "id": "86d31235",
   "metadata": {},
   "outputs": [],
   "source": []
  },
  {
   "cell_type": "markdown",
   "id": "8f5ad51b",
   "metadata": {},
   "source": [
    "## int"
   ]
  },
  {
   "cell_type": "code",
   "execution_count": 1,
   "id": "b1a3b6c3",
   "metadata": {},
   "outputs": [
    {
     "name": "stdout",
     "output_type": "stream",
     "text": [
      "1\n",
      "<class 'int'>\n"
     ]
    }
   ],
   "source": [
    "a = 1\n",
    "print(a)\n",
    "print(type(a))"
   ]
  },
  {
   "cell_type": "code",
   "execution_count": 8,
   "id": "cce73838",
   "metadata": {},
   "outputs": [
    {
     "name": "stdout",
     "output_type": "stream",
     "text": [
      "-55\n",
      "<class 'int'>\n"
     ]
    }
   ],
   "source": [
    "b = -55\n",
    "print(b)\n",
    "print(type(b))"
   ]
  },
  {
   "cell_type": "markdown",
   "id": "13155111",
   "metadata": {},
   "source": [
    "## float"
   ]
  },
  {
   "cell_type": "code",
   "execution_count": 8,
   "id": "70a23ca5",
   "metadata": {},
   "outputs": [
    {
     "data": {
      "text/plain": [
       "float"
      ]
     },
     "execution_count": 8,
     "metadata": {},
     "output_type": "execute_result"
    }
   ],
   "source": [
    "b = 3.14159\n",
    "type(b)"
   ]
  },
  {
   "cell_type": "markdown",
   "id": "1c7a3417",
   "metadata": {},
   "source": [
    "## bool"
   ]
  },
  {
   "cell_type": "code",
   "execution_count": null,
   "id": "16c93206",
   "metadata": {},
   "outputs": [],
   "source": [
    "x = True\n",
    "y = False\n",
    "type(x)"
   ]
  },
  {
   "cell_type": "code",
   "execution_count": null,
   "id": "adbe893b",
   "metadata": {},
   "outputs": [],
   "source": [
    "x = 1\n",
    "y = 2\n",
    "print(x==y)\n",
    "\n",
    "## = 代表指定值\n",
    "## == 代表比對"
   ]
  },
  {
   "cell_type": "code",
   "execution_count": null,
   "id": "77fde52c",
   "metadata": {},
   "outputs": [],
   "source": []
  },
  {
   "cell_type": "markdown",
   "id": "33ed219b",
   "metadata": {},
   "source": [
    "# 變數\n",
    "1. 變數的命名可以以由、數字、底線(_)組合\n",
    "2. 但不能以數字開頭"
   ]
  },
  {
   "cell_type": "code",
   "execution_count": null,
   "id": "9d141c03",
   "metadata": {},
   "outputs": [],
   "source": [
    "name = 'Lala'\n",
    "age = 22\n",
    "hobby1 = 'photography'\n",
    "hobby2 = 'cooking'\n",
    "my_occupation = 'data analyst'"
   ]
  },
  {
   "cell_type": "code",
   "execution_count": null,
   "id": "a63b0a8b",
   "metadata": {},
   "outputs": [],
   "source": [
    "print('Hi,my name is Lala')\n",
    "print('I am 22 years old, my hobbies are photography and cooking, and my profession is a data analyst')"
   ]
  },
  {
   "cell_type": "code",
   "execution_count": null,
   "id": "31e2f7a8",
   "metadata": {},
   "outputs": [],
   "source": [
    "# 創建屬於自己的變數\n",
    "name\n",
    "age\n",
    "hobby1\n",
    "hobby2\n",
    "my_job"
   ]
  },
  {
   "cell_type": "code",
   "execution_count": null,
   "id": "28d640e6",
   "metadata": {},
   "outputs": [],
   "source": [
    "# 將變數代入句子\n",
    "print()"
   ]
  },
  {
   "cell_type": "code",
   "execution_count": null,
   "id": "ee465bcc",
   "metadata": {},
   "outputs": [],
   "source": []
  },
  {
   "cell_type": "markdown",
   "id": "4fbbce42",
   "metadata": {},
   "source": [
    "# 字串的用法"
   ]
  },
  {
   "cell_type": "markdown",
   "id": "66e98434",
   "metadata": {},
   "source": [
    "## 字串相加"
   ]
  },
  {
   "cell_type": "code",
   "execution_count": null,
   "id": "bdc19ff2",
   "metadata": {},
   "outputs": [],
   "source": [
    "x = 'Merry'\n",
    "y = 'Christmas'\n",
    "z = x + ' ' + y + '!'\n",
    "print(z)"
   ]
  },
  {
   "cell_type": "markdown",
   "id": "1fb3a4fe",
   "metadata": {},
   "source": [
    "## 字串相乘"
   ]
  },
  {
   "cell_type": "code",
   "execution_count": null,
   "id": "2b1064d4",
   "metadata": {},
   "outputs": [],
   "source": [
    "x = 'Cheers!'\n",
    "y = x * 3\n",
    "print(y)"
   ]
  },
  {
   "cell_type": "markdown",
   "id": "6bab5cba",
   "metadata": {},
   "source": [
    "## 大小寫轉換"
   ]
  },
  {
   "cell_type": "code",
   "execution_count": 2,
   "id": "34fcf6d5",
   "metadata": {},
   "outputs": [
    {
     "name": "stdout",
     "output_type": "stream",
     "text": [
      "the one\n"
     ]
    }
   ],
   "source": [
    "office = 'The One'"
   ]
  },
  {
   "cell_type": "code",
   "execution_count": null,
   "id": "8077b38b",
   "metadata": {},
   "outputs": [],
   "source": [
    "lower = office.lower()\n",
    "print(lower)"
   ]
  },
  {
   "cell_type": "code",
   "execution_count": 4,
   "id": "55d29a4f",
   "metadata": {},
   "outputs": [
    {
     "name": "stdout",
     "output_type": "stream",
     "text": [
      "THE ONE\n"
     ]
    }
   ],
   "source": [
    "upper = office.upper()\n",
    "print(upper)"
   ]
  },
  {
   "cell_type": "code",
   "execution_count": 6,
   "id": "476d70d4",
   "metadata": {},
   "outputs": [
    {
     "name": "stdout",
     "output_type": "stream",
     "text": [
      "True\n"
     ]
    }
   ],
   "source": [
    "## 將 office 轉換成全小寫並判斷是否全小寫？"
   ]
  },
  {
   "cell_type": "code",
   "execution_count": null,
   "id": "dee8b073",
   "metadata": {},
   "outputs": [],
   "source": []
  },
  {
   "cell_type": "markdown",
   "id": "bd95b5c2",
   "metadata": {},
   "source": [
    "## 取部分字串 (slicing)"
   ]
  },
  {
   "cell_type": "code",
   "execution_count": 13,
   "id": "0dd24211",
   "metadata": {},
   "outputs": [],
   "source": [
    "slogan = 'Working smart,living casual.'"
   ]
  },
  {
   "cell_type": "code",
   "execution_count": 11,
   "id": "312344c0",
   "metadata": {},
   "outputs": [
    {
     "name": "stdout",
     "output_type": "stream",
     "text": [
      "k\n"
     ]
    }
   ],
   "source": [
    "print(slogan[3])"
   ]
  },
  {
   "cell_type": "code",
   "execution_count": null,
   "id": "3de1d56d",
   "metadata": {},
   "outputs": [],
   "source": [
    "print(slogan[1:4])"
   ]
  },
  {
   "cell_type": "code",
   "execution_count": null,
   "id": "75d6c8bd",
   "metadata": {},
   "outputs": [],
   "source": [
    "## 選取 smart 這的單字並印出\n",
    "print()"
   ]
  },
  {
   "cell_type": "code",
   "execution_count": null,
   "id": "d2c90558",
   "metadata": {},
   "outputs": [],
   "source": [
    "print(slogan[3:20:2])"
   ]
  },
  {
   "cell_type": "code",
   "execution_count": 18,
   "id": "f4a85882",
   "metadata": {},
   "outputs": [
    {
     "name": "stdout",
     "output_type": "stream",
     "text": [
      "17\n"
     ]
    }
   ],
   "source": [
    "print(slogan.index('i'))"
   ]
  },
  {
   "cell_type": "code",
   "execution_count": 16,
   "id": "1f7f2e99",
   "metadata": {},
   "outputs": [
    {
     "name": "stdout",
     "output_type": "stream",
     "text": [
      "4\n"
     ]
    }
   ],
   "source": [
    "print(slogan.find('i'))"
   ]
  },
  {
   "cell_type": "code",
   "execution_count": null,
   "id": "780e404e",
   "metadata": {},
   "outputs": [],
   "source": [
    "## 尋找最後一個 i 的 index 值\n"
   ]
  },
  {
   "cell_type": "code",
   "execution_count": 20,
   "id": "2b2663e5",
   "metadata": {},
   "outputs": [
    {
     "name": "stdout",
     "output_type": "stream",
     "text": [
      "Working Smart,living caSual\n"
     ]
    }
   ],
   "source": [
    "## 字串取代"
   ]
  },
  {
   "cell_type": "code",
   "execution_count": null,
   "id": "4575c7c8",
   "metadata": {},
   "outputs": [],
   "source": [
    "print(slogan.replace('s','S'))"
   ]
  },
  {
   "cell_type": "markdown",
   "id": "6c2dbf66",
   "metadata": {},
   "source": [
    "## 字串分離"
   ]
  },
  {
   "cell_type": "code",
   "execution_count": null,
   "id": "1cc5933a",
   "metadata": {},
   "outputs": [],
   "source": [
    "y = slogan.split(',')\n",
    "print(y)"
   ]
  },
  {
   "cell_type": "markdown",
   "id": "c3f57faa",
   "metadata": {},
   "source": [
    "## 字串的長度"
   ]
  },
  {
   "cell_type": "code",
   "execution_count": null,
   "id": "7e552935",
   "metadata": {},
   "outputs": [],
   "source": [
    "print(len(slogan))"
   ]
  },
  {
   "cell_type": "code",
   "execution_count": null,
   "id": "cc5fdc29",
   "metadata": {},
   "outputs": [],
   "source": []
  },
  {
   "cell_type": "markdown",
   "id": "40e77753",
   "metadata": {},
   "source": [
    "## 整數的運算"
   ]
  },
  {
   "cell_type": "code",
   "execution_count": null,
   "id": "0da25909",
   "metadata": {},
   "outputs": [],
   "source": [
    "a = 6\n",
    "b = 2\n",
    "\n",
    "add = a + b\n",
    "subtract = a - b\n",
    "multiply = a * b\n",
    "divide = a / b\n",
    "round_down = a // b\n",
    "remainder = a % b\n",
    "square = a ** b\n",
    "\n",
    "print(add)\n",
    "print(subtract)\n",
    "print(multiply)\n",
    "print(divide)\n",
    "print(quotient)\n",
    "print(remainder)\n",
    "print(square)"
   ]
  },
  {
   "cell_type": "code",
   "execution_count": null,
   "id": "af7650b6",
   "metadata": {},
   "outputs": [],
   "source": [
    "a = 10\n",
    "print(a)\n",
    "\n",
    "a += 5\n",
    "print(a)\n",
    "\n",
    "a -= 6\n",
    "print(a)"
   ]
  },
  {
   "cell_type": "markdown",
   "id": "29fdc841",
   "metadata": {},
   "source": [
    "## 計算題\n",
    "1. 465332 * 8652 + 123443 = ?\n",
    "2. (211234426 - 345435) * 7632 = ? "
   ]
  },
  {
   "cell_type": "markdown",
   "id": "f50ec9e2",
   "metadata": {},
   "source": [
    "## 計算 BMI\n",
    "### BMI = 體重(公斤) / 身高的平方(單位：公尺)"
   ]
  },
  {
   "cell_type": "markdown",
   "id": "d0a8c152",
   "metadata": {},
   "source": [
    "# 型態轉換"
   ]
  },
  {
   "cell_type": "code",
   "execution_count": 21,
   "id": "f98d6bf3",
   "metadata": {
    "scrolled": true
   },
   "outputs": [
    {
     "name": "stdout",
     "output_type": "stream",
     "text": [
      "87.0\n",
      "a 的型態 <class 'int'>\n",
      "87\n",
      "b 的型態 <class 'float'>\n"
     ]
    }
   ],
   "source": [
    "a = 87 \n",
    "b = 87.878787 \n",
    "print(float(a))\n",
    "print('a 的型態',type(a))\n",
    "print(int(b))\n",
    "print('b 的型態',type(b))"
   ]
  },
  {
   "cell_type": "code",
   "execution_count": 22,
   "id": "76ecb2b6",
   "metadata": {},
   "outputs": [],
   "source": [
    "## 將 a 和 b 轉換成字串，並印出 a 和 b 的型態\n"
   ]
  },
  {
   "cell_type": "code",
   "execution_count": 24,
   "id": "aae0a103",
   "metadata": {},
   "outputs": [
    {
     "name": "stdout",
     "output_type": "stream",
     "text": [
      "5\n",
      "25\n"
     ]
    }
   ],
   "source": [
    "c = -5\n",
    "print(abs(c))\n",
    "print(pow(c,2))"
   ]
  },
  {
   "cell_type": "code",
   "execution_count": 33,
   "id": "6e2a2ab9",
   "metadata": {},
   "outputs": [
    {
     "name": "stdout",
     "output_type": "stream",
     "text": [
      "33\n",
      "32\n",
      "33\n"
     ]
    }
   ],
   "source": [
    "from math import *\n",
    "\n",
    "print(round(4.468))\n",
    "print(floor(4.94))\n",
    "print(ceil(5.74))\n",
    "print(sqrd(64))"
   ]
  },
  {
   "cell_type": "code",
   "execution_count": null,
   "id": "2da8a469",
   "metadata": {},
   "outputs": [],
   "source": [
    "## 將 d 四捨五入至小數第三位\n",
    "d = 32.6245"
   ]
  },
  {
   "cell_type": "code",
   "execution_count": null,
   "id": "d89c2ddb",
   "metadata": {},
   "outputs": [],
   "source": []
  },
  {
   "cell_type": "markdown",
   "id": "7fef75c1",
   "metadata": {},
   "source": [
    "# input"
   ]
  },
  {
   "cell_type": "code",
   "execution_count": null,
   "id": "03d8e7f7",
   "metadata": {},
   "outputs": [],
   "source": [
    "x = input()"
   ]
  },
  {
   "cell_type": "code",
   "execution_count": null,
   "id": "3b142721",
   "metadata": {},
   "outputs": [],
   "source": [
    "value = input('what is your name?')"
   ]
  },
  {
   "cell_type": "markdown",
   "id": "641c000f",
   "metadata": {},
   "source": [
    "# output"
   ]
  },
  {
   "cell_type": "code",
   "execution_count": null,
   "id": "d401fb30",
   "metadata": {},
   "outputs": [],
   "source": [
    "print(value)"
   ]
  },
  {
   "cell_type": "code",
   "execution_count": null,
   "id": "cc1af038",
   "metadata": {},
   "outputs": [],
   "source": []
  },
  {
   "cell_type": "code",
   "execution_count": null,
   "id": "4f05552c",
   "metadata": {},
   "outputs": [],
   "source": []
  }
 ],
 "metadata": {
  "kernelspec": {
   "display_name": "Python 3 (ipykernel)",
   "language": "python",
   "name": "python3"
  },
  "language_info": {
   "codemirror_mode": {
    "name": "ipython",
    "version": 3
   },
   "file_extension": ".py",
   "mimetype": "text/x-python",
   "name": "python",
   "nbconvert_exporter": "python",
   "pygments_lexer": "ipython3",
   "version": "3.9.5"
  }
 },
 "nbformat": 4,
 "nbformat_minor": 5
}
