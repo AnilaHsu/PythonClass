{
 "cells": [
  {
   "cell_type": "markdown",
   "id": "9191c161",
   "metadata": {},
   "source": [
    "# input\n",
    "- 請使用者輸入資料\n",
    "- 資料會以字串的方式表示"
   ]
  },
  {
   "cell_type": "code",
   "execution_count": null,
   "id": "30b9b6d2",
   "metadata": {},
   "outputs": [],
   "source": [
    "# 輸入一個值\n",
    "input()"
   ]
  },
  {
   "cell_type": "code",
   "execution_count": null,
   "id": "b07d52c6",
   "metadata": {},
   "outputs": [],
   "source": [
    "# 輸入一個值並存入變數 \n",
    "x = input(\"請輸入一個數字\")\n",
    "print(x)\n",
    "print(type(x))"
   ]
  },
  {
   "cell_type": "code",
   "execution_count": null,
   "id": "051bd4eb",
   "metadata": {},
   "outputs": [],
   "source": [
    "name = input('請輸入你的名字:')\n",
    "print('Hello!'+ name)"
   ]
  },
  {
   "cell_type": "code",
   "execution_count": null,
   "id": "ab85d188",
   "metadata": {},
   "outputs": [],
   "source": [
    "month = input('請輸入你的生日月份:')\n",
    "day = input('請輸入你的生日日期:')\n",
    "print('你的生日是'+ month +'月'+day+'號。')"
   ]
  },
  {
   "cell_type": "code",
   "execution_count": null,
   "id": "c3062920",
   "metadata": {},
   "outputs": [],
   "source": [
    "# 輸入兩個數值並相加\n",
    "# 該數值為字串的型態\n",
    "\n",
    "num1 = input('請輸入數字一')\n",
    "num2 = input('請輸入數字二')\n",
    "print(num1+num2)"
   ]
  },
  {
   "cell_type": "code",
   "execution_count": null,
   "id": "4c725275",
   "metadata": {},
   "outputs": [],
   "source": [
    "# 輸入兩個數值並相加\n",
    "# 整數字串使用 int() 轉成數值\n",
    "# 小數字串使用 float() 轉成數值\n",
    "num1 = input('請輸入數字一')\n",
    "num2 = input('請輸入數字二')\n",
    "print()"
   ]
  },
  {
   "cell_type": "code",
   "execution_count": null,
   "id": "0107419e",
   "metadata": {},
   "outputs": [],
   "source": [
    "# 請使用者輸入一個數值並存入變數 num\n",
    "# 將該變數 +1 並印出來\n"
   ]
  },
  {
   "cell_type": "code",
   "execution_count": null,
   "id": "ba19082d",
   "metadata": {},
   "outputs": [],
   "source": [
    "num = int(input('請輸入數字'))\n",
    "num+=1\n",
    "print(num)"
   ]
  },
  {
   "cell_type": "code",
   "execution_count": null,
   "id": "320806ea",
   "metadata": {},
   "outputs": [],
   "source": [
    "# Q:將輸入的數值資料依序存入變數並相加"
   ]
  },
  {
   "cell_type": "code",
   "execution_count": null,
   "id": "b846087d",
   "metadata": {},
   "outputs": [],
   "source": [
    "# 作法一：\n",
    "# 輸入三位數數值，依序存入 a,b,c 當中並印出來，再相加\n",
    "a,b,c = input()\n",
    "print(a,b,c)\n",
    "\n",
    "print(int(a)+int(b)+int(c))"
   ]
  },
  {
   "cell_type": "code",
   "execution_count": null,
   "id": "c06fc8a9",
   "metadata": {},
   "outputs": [],
   "source": [
    "# 作法二：\n",
    "# 輸入三個數值以逗點區隔，依序存入 a,b,c 當中，，再相加\n",
    "value = input('請輸入三個數值，以逗點區隔')\n",
    "print(value)\n",
    "# 使用「,」的方式將 value 分開\n",
    "split_value = value.split(',')\n",
    "print(split_value)\n",
    "a,b,c = split_value\n",
    "print(a,b,c)\n",
    "\n",
    "print(int(a)+int(b)+int(c))"
   ]
  },
  {
   "cell_type": "code",
   "execution_count": null,
   "id": "ba965a84",
   "metadata": {},
   "outputs": [],
   "source": [
    "# 作法二簡化：\n",
    "value = input('請輸入三個數值，以逗點區隔')\n",
    "print(value)\n",
    "\n",
    "a,b,c = map(int,value.split(','))\n",
    "print(a,b,c)"
   ]
  },
  {
   "cell_type": "code",
   "execution_count": null,
   "id": "159f803c",
   "metadata": {},
   "outputs": [],
   "source": [
    "# 做法三：\n",
    "# # 使用 input() 將各數值分開存入變數\n",
    "a = input('數入數值一')\n",
    "b = input('輸入數值二')\n",
    "c = input('輸入數值三')\n",
    "print(a,b,c)\n",
    "\n",
    "print(int(a)+int(b)+int(c))"
   ]
  },
  {
   "cell_type": "code",
   "execution_count": null,
   "id": "fdb33099",
   "metadata": {},
   "outputs": [],
   "source": []
  },
  {
   "cell_type": "code",
   "execution_count": null,
   "id": "128999c4",
   "metadata": {},
   "outputs": [],
   "source": [
    "# Python 多個變數賦值之使用方法\n",
    "a,b,c = 1,2,3\n",
    "print(a,b,c)\n",
    "print(type(a))\n",
    "\n",
    "d,e,f = [4,5,6]\n",
    "print(d,e,f)\n",
    "print(type(d))\n",
    "\n",
    "g,h,i = '789'\n",
    "print(g,h,i)\n",
    "print(type(g))"
   ]
  },
  {
   "cell_type": "code",
   "execution_count": null,
   "id": "a9d20167",
   "metadata": {},
   "outputs": [],
   "source": []
  }
 ],
 "metadata": {
  "kernelspec": {
   "display_name": "Python 3 (ipykernel)",
   "language": "python",
   "name": "python3"
  },
  "language_info": {
   "codemirror_mode": {
    "name": "ipython",
    "version": 3
   },
   "file_extension": ".py",
   "mimetype": "text/x-python",
   "name": "python",
   "nbconvert_exporter": "python",
   "pygments_lexer": "ipython3",
   "version": "3.9.5"
  }
 },
 "nbformat": 4,
 "nbformat_minor": 5
}
