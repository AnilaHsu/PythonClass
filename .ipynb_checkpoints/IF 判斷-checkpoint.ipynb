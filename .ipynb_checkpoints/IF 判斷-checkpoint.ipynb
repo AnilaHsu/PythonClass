{
 "cells": [
  {
   "cell_type": "markdown",
   "id": "b3d326c4",
   "metadata": {},
   "source": [
    "# IF 判斷"
   ]
  },
  {
   "cell_type": "markdown",
   "id": "acfed459",
   "metadata": {},
   "source": [
    "## if 敘述\n",
    "- 範例:\n",
    "if condition:\n",
    "    statement"
   ]
  },
  {
   "cell_type": "code",
   "execution_count": null,
   "id": "fe2e7d7f",
   "metadata": {},
   "outputs": [],
   "source": [
    "happy = True \n",
    "\n",
    "if happy:\n",
    "    print('Smile')"
   ]
  },
  {
   "cell_type": "code",
   "execution_count": null,
   "id": "553ab5f2",
   "metadata": {},
   "outputs": [],
   "source": [
    "happy = False \n",
    "\n",
    "if happy:\n",
    "    print('Smile')"
   ]
  },
  {
   "cell_type": "markdown",
   "id": "230a9b59",
   "metadata": {},
   "source": [
    "## if else 敘述\n",
    "- 範例:\n",
    "if condition:\n",
    "    statement1\n",
    "else:\n",
    "    statement2"
   ]
  },
  {
   "cell_type": "code",
   "execution_count": null,
   "id": "c1f5467f",
   "metadata": {},
   "outputs": [],
   "source": [
    "happy = True\n",
    "if happy:\n",
    "    print('great')\n",
    "else:\n",
    "    print('bad')"
   ]
  },
  {
   "cell_type": "code",
   "execution_count": null,
   "id": "0eb1f5f6",
   "metadata": {},
   "outputs": [],
   "source": [
    "happy = True\n",
    "if not(happy):\n",
    "    print('great')\n",
    "else:\n",
    "    print('bad')"
   ]
  },
  {
   "cell_type": "code",
   "execution_count": null,
   "id": "4100faa9",
   "metadata": {},
   "outputs": [],
   "source": [
    "rainy = True \n",
    "\n",
    "if rainy:\n",
    "    print('帶雨傘')\n",
    "else:\n",
    "    print('不帶雨傘')"
   ]
  },
  {
   "cell_type": "code",
   "execution_count": null,
   "id": "8ccd7e16",
   "metadata": {},
   "outputs": [],
   "source": [
    "rainy = False \n",
    "\n",
    "if rainy:\n",
    "    print('帶雨傘')\n",
    "else:\n",
    "    print('不帶雨傘')"
   ]
  },
  {
   "cell_type": "markdown",
   "id": "e09f0d22",
   "metadata": {},
   "source": [
    "## if elif else 敘述\n",
    "- 範例:\n",
    "if condition1:\n",
    "    statement1\n",
    "elif condition2:\n",
    "    statement2\n",
    "else:\n",
    "    statement3"
   ]
  },
  {
   "cell_type": "code",
   "execution_count": 1,
   "id": "19ed514c",
   "metadata": {},
   "outputs": [
    {
     "name": "stdout",
     "output_type": "stream",
     "text": [
      "The weather is sunny\n"
     ]
    }
   ],
   "source": [
    "weather ='Sunny'\n",
    "\n",
    "if weather == 'Sunny':\n",
    "    print('The weather is sunny')\n",
    "elif weather == 'Rainy':\n",
    "    print('The weather is rainy')\n",
    "else:\n",
    "    print('The weather is cloudy')"
   ]
  },
  {
   "cell_type": "code",
   "execution_count": 2,
   "id": "d52170ba",
   "metadata": {},
   "outputs": [
    {
     "name": "stdout",
     "output_type": "stream",
     "text": [
      "The weather is rainy\n"
     ]
    }
   ],
   "source": [
    "weather ='Rainy'\n",
    "\n",
    "if weather == 'Sunny':\n",
    "    print('The weather is sunny')\n",
    "elif weather == 'Rainy':\n",
    "    print('The weather is rainy')\n",
    "else:\n",
    "    print('The weather is cloudy')"
   ]
  },
  {
   "cell_type": "code",
   "execution_count": null,
   "id": "9f4e9ba9",
   "metadata": {},
   "outputs": [],
   "source": []
  },
  {
   "cell_type": "code",
   "execution_count": null,
   "id": "8cdd318a",
   "metadata": {},
   "outputs": [],
   "source": [
    "# if 判斷與比較運算子"
   ]
  },
  {
   "cell_type": "code",
   "execution_count": null,
   "id": "1e7d3384",
   "metadata": {},
   "outputs": [],
   "source": [
    "x = 95\n",
    "if x == 95:\n",
    "    print('True')\n",
    "else:\n",
    "    print('False')"
   ]
  },
  {
   "cell_type": "code",
   "execution_count": null,
   "id": "bb92f405",
   "metadata": {},
   "outputs": [],
   "source": [
    "x = 95\n",
    "if x != 95:\n",
    "    print('True')\n",
    "else:\n",
    "    print('False')"
   ]
  },
  {
   "cell_type": "code",
   "execution_count": null,
   "id": "900a15ec",
   "metadata": {},
   "outputs": [],
   "source": [
    "score = 90\n",
    "\n",
    "if score == 100:\n",
    "    print('Great!')\n",
    "elif score >= 80:\n",
    "    print('Good!')\n",
    "elif score >= 60:\n",
    "    print('not bad!')\n",
    "else:\n",
    "    print('Cheer up!')"
   ]
  },
  {
   "cell_type": "code",
   "execution_count": null,
   "id": "8321e2df",
   "metadata": {},
   "outputs": [],
   "source": []
  },
  {
   "cell_type": "code",
   "execution_count": null,
   "id": "4b27afa4",
   "metadata": {},
   "outputs": [],
   "source": [
    "## if 判斷與邏輯運算子"
   ]
  },
  {
   "cell_type": "code",
   "execution_count": null,
   "id": "1ffed12e",
   "metadata": {},
   "outputs": [],
   "source": [
    "staff = True\n",
    "member = True\n",
    "\n",
    "if staff and member:\n",
    "    print('90% off')\n",
    "elif staff or member:\n",
    "    print('80% off')\n",
    "else:\n",
    "    print('70% off')"
   ]
  },
  {
   "cell_type": "code",
   "execution_count": null,
   "id": "8eb782d3",
   "metadata": {},
   "outputs": [],
   "source": [
    "staff = True\n",
    "member = False\n",
    "\n",
    "if staff and member:\n",
    "    print('90% off')\n",
    "elif staff or member:\n",
    "    print('80% off')\n",
    "else:\n",
    "    print('70% off')"
   ]
  },
  {
   "cell_type": "code",
   "execution_count": null,
   "id": "8b9028be",
   "metadata": {},
   "outputs": [],
   "source": [
    "staff = False\n",
    "member = True\n",
    "\n",
    "if staff and member:\n",
    "    print('90% off')\n",
    "elif staff or member:\n",
    "    print('80% off')\n",
    "else:\n",
    "    print('70% off')"
   ]
  },
  {
   "cell_type": "code",
   "execution_count": null,
   "id": "87a5a986",
   "metadata": {},
   "outputs": [],
   "source": [
    "staff = False\n",
    "member = False\n",
    "\n",
    "if staff and member:\n",
    "    print('90% off')\n",
    "elif staff or member:\n",
    "    print('80% off')\n",
    "else:\n",
    "    print('70% off')"
   ]
  },
  {
   "cell_type": "code",
   "execution_count": null,
   "id": "5cec20e3",
   "metadata": {},
   "outputs": [],
   "source": []
  },
  {
   "cell_type": "code",
   "execution_count": null,
   "id": "7089924f",
   "metadata": {},
   "outputs": [],
   "source": [
    "## if 判斷與比較運算子、邏輯運算子"
   ]
  },
  {
   "cell_type": "code",
   "execution_count": null,
   "id": "11d36f43",
   "metadata": {},
   "outputs": [],
   "source": [
    "x = 1 \n",
    "y = 2\n",
    "z = 3\n",
    "if x < y and y < z :\n",
    "    print('That is Ture')\n",
    "else:\n",
    "    print('That is False')"
   ]
  },
  {
   "cell_type": "code",
   "execution_count": null,
   "id": "8a8e242a",
   "metadata": {},
   "outputs": [],
   "source": [
    "x = 1 \n",
    "y = 2\n",
    "z = 3\n",
    "if x > y and x < z :\n",
    "    print('That is Ture')\n",
    "else:\n",
    "    print('That is False')"
   ]
  },
  {
   "cell_type": "code",
   "execution_count": null,
   "id": "15a72dad",
   "metadata": {},
   "outputs": [],
   "source": [
    "x = 1 \n",
    "y = 2\n",
    "z = 3\n",
    "if x < y or y < z :\n",
    "    print('That is Ture')\n",
    "else:\n",
    "    print('That is False')"
   ]
  },
  {
   "cell_type": "code",
   "execution_count": null,
   "id": "6a928f01",
   "metadata": {},
   "outputs": [],
   "source": [
    "x = 1 \n",
    "y = 2\n",
    "z = 3\n",
    "if x < z  or x > y :\n",
    "    print('That is Ture')\n",
    "else:\n",
    "    print('That is False')"
   ]
  },
  {
   "cell_type": "code",
   "execution_count": null,
   "id": "124b38cd",
   "metadata": {},
   "outputs": [],
   "source": [
    "x = 1 \n",
    "y = 2\n",
    "z = 3\n",
    "if x > z or y > x :\n",
    "    print('That is Ture')\n",
    "else:\n",
    "    print('That is False')"
   ]
  },
  {
   "cell_type": "code",
   "execution_count": null,
   "id": "ccf82381",
   "metadata": {},
   "outputs": [],
   "source": [
    "x = 1 \n",
    "y = 2\n",
    "z = 3\n",
    "if x == 1 and z != 4:\n",
    "    print('That is Ture')\n",
    "else:\n",
    "    print('That is False')"
   ]
  },
  {
   "cell_type": "code",
   "execution_count": null,
   "id": "3f1cf748",
   "metadata": {},
   "outputs": [],
   "source": [
    "x = 1 \n",
    "y = 2\n",
    "z = 3\n",
    "if x == 1 and z != 3:\n",
    "    print('That is Ture')\n",
    "else:\n",
    "    print('That is False')"
   ]
  },
  {
   "cell_type": "code",
   "execution_count": null,
   "id": "3e4ddd69",
   "metadata": {},
   "outputs": [],
   "source": [
    "x = 1 \n",
    "y = 2\n",
    "z = 3\n",
    "if x == 1 or z != 4:\n",
    "    print('That is Ture')\n",
    "else:\n",
    "    print('That is False')"
   ]
  },
  {
   "cell_type": "code",
   "execution_count": null,
   "id": "4eaf46de",
   "metadata": {},
   "outputs": [],
   "source": [
    "x = 1 \n",
    "y = 2\n",
    "z = 3\n",
    "if x == 2 or z != 3:\n",
    "    print('That is Ture')\n",
    "else:\n",
    "    print('That is False')\n"
   ]
  },
  {
   "cell_type": "code",
   "execution_count": null,
   "id": "4f1eae78",
   "metadata": {},
   "outputs": [],
   "source": [
    "# 巢狀 if\n",
    "score = 75\n",
    "if score >= 60:\n",
    "    if score >= 60 and score < 70:\n",
    "        print('D')\n",
    "    elif score >= 70 and score < 80:\n",
    "        print('C')\n",
    "    elif score >= 80 and score < 90:\n",
    "        print('B')\n",
    "    else:\n",
    "        print('A')"
   ]
  },
  {
   "cell_type": "code",
   "execution_count": null,
   "id": "e6b0e210",
   "metadata": {},
   "outputs": [],
   "source": [
    "score = int(input('請輸入你的成績'))\n",
    "if score == 100:\n",
    "    print('Great!')\n",
    "elif score >= 80:\n",
    "    print('Good!')\n",
    "elif score >= 60:\n",
    "    print('Pass!')\n",
    "else:\n",
    "    print('Cheer up!')"
   ]
  },
  {
   "cell_type": "code",
   "execution_count": null,
   "id": "cd9d63a9",
   "metadata": {},
   "outputs": [],
   "source": [
    "# 題目一:\n",
    "## 如果我是員工和會員就獲得 90%\n",
    "## 如果我是員工就獲得 80%\n",
    "## 如果我是會員就獲得 70%\n",
    "## 如果都不是就加 100元 \n",
    "\n",
    "staff = True\n",
    "member = True\n",
    "\n",
    "if staff and member:\n",
    "    print('一折')\n",
    "elif staff and not member:\n",
    "    print('二折')\n",
    "elif not staff and member:\n",
    "    print('三折')\n",
    "else:\n",
    "    print('加100元')"
   ]
  },
  {
   "cell_type": "code",
   "execution_count": null,
   "id": "93cd4b71",
   "metadata": {},
   "outputs": [],
   "source": [
    "# 題目二\n",
    "## 建立函數回傳最大值\n",
    "def max_num(num1,num2,num3):\n",
    "    if num1>num2 and num1>num3:\n",
    "        return num1\n",
    "    elif num2>num1 and num2>num3:\n",
    "        return num2\n",
    "    else:\n",
    "        return num3\n",
    "\n",
    "print(max_num(2,5,8))\n"
   ]
  },
  {
   "cell_type": "code",
   "execution_count": null,
   "id": "af9bb68c",
   "metadata": {},
   "outputs": [],
   "source": [
    "## if 與 String"
   ]
  },
  {
   "cell_type": "code",
   "execution_count": null,
   "id": "f62ff3dc",
   "metadata": {},
   "outputs": [],
   "source": [
    "s = 'hello'\n",
    "\n",
    "if 'e' not in s:\n",
    "    print('not exist!')\n",
    "else:\n",
    "    print('exit!')"
   ]
  },
  {
   "cell_type": "code",
   "execution_count": null,
   "id": "dcb83cd5",
   "metadata": {},
   "outputs": [],
   "source": [
    "if 'e' in s:\n",
    "    print('exist!')\n",
    "else:\n",
    "    print('not exit!')"
   ]
  },
  {
   "cell_type": "code",
   "execution_count": null,
   "id": "c3888327",
   "metadata": {},
   "outputs": [],
   "source": [
    "# if 與 list"
   ]
  },
  {
   "cell_type": "code",
   "execution_count": null,
   "id": "41f120a5",
   "metadata": {},
   "outputs": [],
   "source": [
    "listtest = []\n",
    "if listtest:\n",
    "    print('True: not empty')\n",
    "else:\n",
    "    print('False: empty')"
   ]
  },
  {
   "cell_type": "code",
   "execution_count": null,
   "id": "b0eeb3ef",
   "metadata": {},
   "outputs": [],
   "source": [
    "listtest = []\n",
    "if not listtest:\n",
    "    print('True: empty')\n",
    "else:\n",
    "    print('False: not empty')"
   ]
  },
  {
   "cell_type": "code",
   "execution_count": null,
   "id": "84aec4bd",
   "metadata": {},
   "outputs": [],
   "source": [
    "listtest = [1]\n",
    "if listtest:\n",
    "    print('True: have el')\n",
    "else:\n",
    "    print('False: not have el')"
   ]
  },
  {
   "cell_type": "code",
   "execution_count": null,
   "id": "33ac1c98",
   "metadata": {},
   "outputs": [],
   "source": [
    "listtest = [1]\n",
    "if not listtest:\n",
    "    print('True: ')\n",
    "else:\n",
    "    print('False:')"
   ]
  }
 ],
 "metadata": {
  "kernelspec": {
   "display_name": "Python 3 (ipykernel)",
   "language": "python",
   "name": "python3"
  },
  "language_info": {
   "codemirror_mode": {
    "name": "ipython",
    "version": 3
   },
   "file_extension": ".py",
   "mimetype": "text/x-python",
   "name": "python",
   "nbconvert_exporter": "python",
   "pygments_lexer": "ipython3",
   "version": "3.9.5"
  }
 },
 "nbformat": 4,
 "nbformat_minor": 5
}
