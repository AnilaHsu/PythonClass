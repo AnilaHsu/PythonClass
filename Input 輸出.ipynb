{
 "cells": [
  {
   "cell_type": "code",
   "execution_count": null,
   "id": "691bd9f3",
   "metadata": {},
   "outputs": [],
   "source": [
    "# input\n",
    "- 請使用者輸入資料\n",
    "- 資料會以字串的方式表示"
   ]
  },
  {
   "cell_type": "code",
   "execution_count": null,
   "id": "0c185e9a",
   "metadata": {},
   "outputs": [],
   "source": [
    "# 輸入一個值\n",
    "input()"
   ]
  },
  {
   "cell_type": "code",
   "execution_count": null,
   "id": "6c55dce6",
   "metadata": {},
   "outputs": [],
   "source": [
    "# 輸入一個值並存入變數 \n",
    "x = input(\"請輸入一個數字\")\n",
    "print(x)\n",
    "print(type(x))"
   ]
  },
  {
   "cell_type": "code",
   "execution_count": null,
   "id": "37dc2369",
   "metadata": {},
   "outputs": [],
   "source": [
    "name = input('請輸入你的名字:')\n",
    "month = input('請輸入你的生日月份')\n",
    "day = input('請輸入你的日期')\n",
    "print('Hi! '+name+'.' + ' 你的生日是 '+ month +' 月'+day+' 號。')"
   ]
  },
  {
   "cell_type": "code",
   "execution_count": null,
   "id": "331e6bef",
   "metadata": {},
   "outputs": [],
   "source": [
    "# 輸入兩個數值並相加\n",
    "# 整數字串使用 int() 轉成數值\n",
    "# 小數字串使用 float() 轉成數值\n",
    "\n",
    "num1 = input('請輸入數字一')\n",
    "num2 = input('請輸入數字二')\n",
    "print()"
   ]
  },
  {
   "cell_type": "code",
   "execution_count": null,
   "id": "5839658a",
   "metadata": {},
   "outputs": [],
   "source": [
    "# 請使用者輸入一個數值並存入變數 num\n",
    "# 將該變數 +1 印出來\n"
   ]
  },
  {
   "cell_type": "code",
   "execution_count": null,
   "id": "4bcd86a2",
   "metadata": {},
   "outputs": [],
   "source": [
    "# 輸入三個數值並依序存入 a,b,c 當中\n",
    "value = input('請輸入三個數值，以逗點區隔')\n",
    "print(value)\n",
    "\n",
    "split_value = value.split(',')\n",
    "print(split_value)\n",
    "\n",
    "a,b,c = split_value\n",
    "print(int(a))\n",
    "print(int(b))\n",
    "print(int(c))"
   ]
  },
  {
   "cell_type": "code",
   "execution_count": null,
   "id": "64c552b8",
   "metadata": {},
   "outputs": [],
   "source": [
    "# 簡化\n",
    "value = input('請輸入三個數值，以逗點區隔')\n",
    "print(value)\n",
    "\n",
    "a,b,c = map(int,value.split(','))\n",
    "print(a,b,c)"
   ]
  },
  {
   "cell_type": "code",
   "execution_count": null,
   "id": "b756f56e",
   "metadata": {},
   "outputs": [],
   "source": [
    "## 補充\n",
    "a,c,b = 'e','d','c'\n",
    "print(a,b,c)"
   ]
  },
  {
   "cell_type": "code",
   "execution_count": null,
   "id": "52dd0049",
   "metadata": {},
   "outputs": [],
   "source": [
    "x,y,z = ['a','b','c']\n",
    "print(x,y,z)"
   ]
  }
 ],
 "metadata": {
  "kernelspec": {
   "display_name": "Python 3 (ipykernel)",
   "language": "python",
   "name": "python3"
  },
  "language_info": {
   "codemirror_mode": {
    "name": "ipython",
    "version": 3
   },
   "file_extension": ".py",
   "mimetype": "text/x-python",
   "name": "python",
   "nbconvert_exporter": "python",
   "pygments_lexer": "ipython3",
   "version": "3.9.5"
  }
 },
 "nbformat": 4,
 "nbformat_minor": 5
}
